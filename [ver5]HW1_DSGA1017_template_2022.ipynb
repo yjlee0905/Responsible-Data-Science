{
  "nbformat": 4,
  "nbformat_minor": 0,
  "metadata": {
    "colab": {
      "name": "HW1_DSGA1017_template_2022",
      "provenance": [],
      "collapsed_sections": []
    },
    "kernelspec": {
      "display_name": "Python 3",
      "name": "python3"
    }
  },
  "cells": [
    {
      "cell_type": "markdown",
      "metadata": {
        "id": "43DBqagWutAE"
      },
      "source": [
        "# Responsible Data Science Spring 2022: Homework 1"
      ]
    },
    {
      "cell_type": "code",
      "source": [
        "!git clone https://github.com/lurosenb/superquail\n",
        "!pip install aif360==0.3.0 \n",
        "!pip install BlackBoxAuditing\n",
        "!pip install tensorflow==1.13.1\n",
        "!pip install folktables\n",
        "\n",
        "# add\n",
        "!pip install --upgrade fairlearn==v0.6.0\n"
      ],
      "metadata": {
        "id": "gtYGFyqSm2nk",
        "colab": {
          "base_uri": "https://localhost:8080/"
        },
        "outputId": "62ee2273-a26f-4480-c45a-78c31118267e"
      },
      "execution_count": 1,
      "outputs": [
        {
          "output_type": "stream",
          "name": "stdout",
          "text": [
            "Cloning into 'superquail'...\n",
            "remote: Enumerating objects: 24, done.\u001b[K\n",
            "remote: Counting objects: 100% (24/24), done.\u001b[K\n",
            "remote: Compressing objects: 100% (20/20), done.\u001b[K\n",
            "remote: Total 24 (delta 1), reused 20 (delta 1), pack-reused 0\u001b[K\n",
            "Unpacking objects: 100% (24/24), done.\n",
            "Collecting aif360==0.3.0\n",
            "  Downloading aif360-0.3.0-py3-none-any.whl (165 kB)\n",
            "\u001b[K     |████████████████████████████████| 165 kB 4.7 MB/s \n",
            "\u001b[?25hRequirement already satisfied: pandas>=0.24.0 in /usr/local/lib/python3.7/dist-packages (from aif360==0.3.0) (1.3.5)\n",
            "Requirement already satisfied: matplotlib in /usr/local/lib/python3.7/dist-packages (from aif360==0.3.0) (3.2.2)\n",
            "Requirement already satisfied: scipy>=1.2.0 in /usr/local/lib/python3.7/dist-packages (from aif360==0.3.0) (1.4.1)\n",
            "Requirement already satisfied: numpy>=1.16 in /usr/local/lib/python3.7/dist-packages (from aif360==0.3.0) (1.21.5)\n",
            "Requirement already satisfied: scikit-learn>=0.21 in /usr/local/lib/python3.7/dist-packages (from aif360==0.3.0) (1.0.2)\n",
            "Requirement already satisfied: python-dateutil>=2.7.3 in /usr/local/lib/python3.7/dist-packages (from pandas>=0.24.0->aif360==0.3.0) (2.8.2)\n",
            "Requirement already satisfied: pytz>=2017.3 in /usr/local/lib/python3.7/dist-packages (from pandas>=0.24.0->aif360==0.3.0) (2018.9)\n",
            "Requirement already satisfied: six>=1.5 in /usr/local/lib/python3.7/dist-packages (from python-dateutil>=2.7.3->pandas>=0.24.0->aif360==0.3.0) (1.15.0)\n",
            "Requirement already satisfied: joblib>=0.11 in /usr/local/lib/python3.7/dist-packages (from scikit-learn>=0.21->aif360==0.3.0) (1.1.0)\n",
            "Requirement already satisfied: threadpoolctl>=2.0.0 in /usr/local/lib/python3.7/dist-packages (from scikit-learn>=0.21->aif360==0.3.0) (3.1.0)\n",
            "Requirement already satisfied: pyparsing!=2.0.4,!=2.1.2,!=2.1.6,>=2.0.1 in /usr/local/lib/python3.7/dist-packages (from matplotlib->aif360==0.3.0) (3.0.7)\n",
            "Requirement already satisfied: cycler>=0.10 in /usr/local/lib/python3.7/dist-packages (from matplotlib->aif360==0.3.0) (0.11.0)\n",
            "Requirement already satisfied: kiwisolver>=1.0.1 in /usr/local/lib/python3.7/dist-packages (from matplotlib->aif360==0.3.0) (1.3.2)\n",
            "Installing collected packages: aif360\n",
            "Successfully installed aif360-0.3.0\n",
            "Collecting BlackBoxAuditing\n",
            "  Downloading BlackBoxAuditing-0.1.54.tar.gz (2.6 MB)\n",
            "\u001b[K     |████████████████████████████████| 2.6 MB 4.7 MB/s \n",
            "\u001b[?25hRequirement already satisfied: networkx in /usr/local/lib/python3.7/dist-packages (from BlackBoxAuditing) (2.6.3)\n",
            "Requirement already satisfied: matplotlib in /usr/local/lib/python3.7/dist-packages (from BlackBoxAuditing) (3.2.2)\n",
            "Requirement already satisfied: pandas in /usr/local/lib/python3.7/dist-packages (from BlackBoxAuditing) (1.3.5)\n",
            "Requirement already satisfied: numpy in /usr/local/lib/python3.7/dist-packages (from BlackBoxAuditing) (1.21.5)\n",
            "Requirement already satisfied: pyparsing!=2.0.4,!=2.1.2,!=2.1.6,>=2.0.1 in /usr/local/lib/python3.7/dist-packages (from matplotlib->BlackBoxAuditing) (3.0.7)\n",
            "Requirement already satisfied: cycler>=0.10 in /usr/local/lib/python3.7/dist-packages (from matplotlib->BlackBoxAuditing) (0.11.0)\n",
            "Requirement already satisfied: kiwisolver>=1.0.1 in /usr/local/lib/python3.7/dist-packages (from matplotlib->BlackBoxAuditing) (1.3.2)\n",
            "Requirement already satisfied: python-dateutil>=2.1 in /usr/local/lib/python3.7/dist-packages (from matplotlib->BlackBoxAuditing) (2.8.2)\n",
            "Requirement already satisfied: six>=1.5 in /usr/local/lib/python3.7/dist-packages (from python-dateutil>=2.1->matplotlib->BlackBoxAuditing) (1.15.0)\n",
            "Requirement already satisfied: pytz>=2017.3 in /usr/local/lib/python3.7/dist-packages (from pandas->BlackBoxAuditing) (2018.9)\n",
            "Building wheels for collected packages: BlackBoxAuditing\n",
            "  Building wheel for BlackBoxAuditing (setup.py) ... \u001b[?25l\u001b[?25hdone\n",
            "  Created wheel for BlackBoxAuditing: filename=BlackBoxAuditing-0.1.54-py2.py3-none-any.whl size=1394770 sha256=3492e25a089ceef8df2d7806a33f21ac5b3be74d1b3a5dfeafd06cafa5dea7b0\n",
            "  Stored in directory: /root/.cache/pip/wheels/05/9f/ee/541a74be4cf5dad17430e64d3276370ea7b6a834a76cb4215a\n",
            "Successfully built BlackBoxAuditing\n",
            "Installing collected packages: BlackBoxAuditing\n",
            "Successfully installed BlackBoxAuditing-0.1.54\n",
            "Collecting tensorflow==1.13.1\n",
            "  Downloading tensorflow-1.13.1-cp37-cp37m-manylinux1_x86_64.whl (92.6 MB)\n",
            "\u001b[K     |████████████████████████████████| 92.6 MB 1.2 MB/s \n",
            "\u001b[?25hRequirement already satisfied: numpy>=1.13.3 in /usr/local/lib/python3.7/dist-packages (from tensorflow==1.13.1) (1.21.5)\n",
            "Requirement already satisfied: grpcio>=1.8.6 in /usr/local/lib/python3.7/dist-packages (from tensorflow==1.13.1) (1.44.0)\n",
            "Requirement already satisfied: protobuf>=3.6.1 in /usr/local/lib/python3.7/dist-packages (from tensorflow==1.13.1) (3.17.3)\n",
            "Requirement already satisfied: six>=1.10.0 in /usr/local/lib/python3.7/dist-packages (from tensorflow==1.13.1) (1.15.0)\n",
            "Requirement already satisfied: absl-py>=0.1.6 in /usr/local/lib/python3.7/dist-packages (from tensorflow==1.13.1) (1.0.0)\n",
            "Collecting keras-applications>=1.0.6\n",
            "  Downloading Keras_Applications-1.0.8-py3-none-any.whl (50 kB)\n",
            "\u001b[K     |████████████████████████████████| 50 kB 7.1 MB/s \n",
            "\u001b[?25hRequirement already satisfied: wheel>=0.26 in /usr/local/lib/python3.7/dist-packages (from tensorflow==1.13.1) (0.37.1)\n",
            "Requirement already satisfied: keras-preprocessing>=1.0.5 in /usr/local/lib/python3.7/dist-packages (from tensorflow==1.13.1) (1.1.2)\n",
            "Collecting tensorboard<1.14.0,>=1.13.0\n",
            "  Downloading tensorboard-1.13.1-py3-none-any.whl (3.2 MB)\n",
            "\u001b[K     |████████████████████████████████| 3.2 MB 52.5 MB/s \n",
            "\u001b[?25hRequirement already satisfied: termcolor>=1.1.0 in /usr/local/lib/python3.7/dist-packages (from tensorflow==1.13.1) (1.1.0)\n",
            "Requirement already satisfied: gast>=0.2.0 in /usr/local/lib/python3.7/dist-packages (from tensorflow==1.13.1) (0.5.3)\n",
            "Collecting tensorflow-estimator<1.14.0rc0,>=1.13.0\n",
            "  Downloading tensorflow_estimator-1.13.0-py2.py3-none-any.whl (367 kB)\n",
            "\u001b[K     |████████████████████████████████| 367 kB 63.4 MB/s \n",
            "\u001b[?25hRequirement already satisfied: astor>=0.6.0 in /usr/local/lib/python3.7/dist-packages (from tensorflow==1.13.1) (0.8.1)\n",
            "Requirement already satisfied: h5py in /usr/local/lib/python3.7/dist-packages (from keras-applications>=1.0.6->tensorflow==1.13.1) (3.1.0)\n",
            "Requirement already satisfied: werkzeug>=0.11.15 in /usr/local/lib/python3.7/dist-packages (from tensorboard<1.14.0,>=1.13.0->tensorflow==1.13.1) (1.0.1)\n",
            "Requirement already satisfied: markdown>=2.6.8 in /usr/local/lib/python3.7/dist-packages (from tensorboard<1.14.0,>=1.13.0->tensorflow==1.13.1) (3.3.6)\n",
            "Requirement already satisfied: importlib-metadata>=4.4 in /usr/local/lib/python3.7/dist-packages (from markdown>=2.6.8->tensorboard<1.14.0,>=1.13.0->tensorflow==1.13.1) (4.11.1)\n",
            "Requirement already satisfied: zipp>=0.5 in /usr/local/lib/python3.7/dist-packages (from importlib-metadata>=4.4->markdown>=2.6.8->tensorboard<1.14.0,>=1.13.0->tensorflow==1.13.1) (3.7.0)\n",
            "Requirement already satisfied: typing-extensions>=3.6.4 in /usr/local/lib/python3.7/dist-packages (from importlib-metadata>=4.4->markdown>=2.6.8->tensorboard<1.14.0,>=1.13.0->tensorflow==1.13.1) (3.10.0.2)\n",
            "Collecting mock>=2.0.0\n",
            "  Downloading mock-4.0.3-py3-none-any.whl (28 kB)\n",
            "Requirement already satisfied: cached-property in /usr/local/lib/python3.7/dist-packages (from h5py->keras-applications>=1.0.6->tensorflow==1.13.1) (1.5.2)\n",
            "Installing collected packages: mock, tensorflow-estimator, tensorboard, keras-applications, tensorflow\n",
            "  Attempting uninstall: tensorflow-estimator\n",
            "    Found existing installation: tensorflow-estimator 2.8.0\n",
            "    Uninstalling tensorflow-estimator-2.8.0:\n",
            "      Successfully uninstalled tensorflow-estimator-2.8.0\n",
            "  Attempting uninstall: tensorboard\n",
            "    Found existing installation: tensorboard 2.8.0\n",
            "    Uninstalling tensorboard-2.8.0:\n",
            "      Successfully uninstalled tensorboard-2.8.0\n",
            "  Attempting uninstall: tensorflow\n",
            "    Found existing installation: tensorflow 2.8.0\n",
            "    Uninstalling tensorflow-2.8.0:\n",
            "      Successfully uninstalled tensorflow-2.8.0\n",
            "\u001b[31mERROR: pip's dependency resolver does not currently take into account all the packages that are installed. This behaviour is the source of the following dependency conflicts.\n",
            "kapre 0.3.7 requires tensorflow>=2.0.0, but you have tensorflow 1.13.1 which is incompatible.\u001b[0m\n",
            "Successfully installed keras-applications-1.0.8 mock-4.0.3 tensorboard-1.13.1 tensorflow-1.13.1 tensorflow-estimator-1.13.0\n",
            "Collecting folktables\n",
            "  Downloading folktables-0.0.11.tar.gz (10 kB)\n",
            "Requirement already satisfied: numpy in /usr/local/lib/python3.7/dist-packages (from folktables) (1.21.5)\n",
            "Requirement already satisfied: pandas in /usr/local/lib/python3.7/dist-packages (from folktables) (1.3.5)\n",
            "Requirement already satisfied: requests in /usr/local/lib/python3.7/dist-packages (from folktables) (2.23.0)\n",
            "Requirement already satisfied: sklearn in /usr/local/lib/python3.7/dist-packages (from folktables) (0.0)\n",
            "Requirement already satisfied: python-dateutil>=2.7.3 in /usr/local/lib/python3.7/dist-packages (from pandas->folktables) (2.8.2)\n",
            "Requirement already satisfied: pytz>=2017.3 in /usr/local/lib/python3.7/dist-packages (from pandas->folktables) (2018.9)\n",
            "Requirement already satisfied: six>=1.5 in /usr/local/lib/python3.7/dist-packages (from python-dateutil>=2.7.3->pandas->folktables) (1.15.0)\n",
            "Requirement already satisfied: certifi>=2017.4.17 in /usr/local/lib/python3.7/dist-packages (from requests->folktables) (2021.10.8)\n",
            "Requirement already satisfied: urllib3!=1.25.0,!=1.25.1,<1.26,>=1.21.1 in /usr/local/lib/python3.7/dist-packages (from requests->folktables) (1.24.3)\n",
            "Requirement already satisfied: chardet<4,>=3.0.2 in /usr/local/lib/python3.7/dist-packages (from requests->folktables) (3.0.4)\n",
            "Requirement already satisfied: idna<3,>=2.5 in /usr/local/lib/python3.7/dist-packages (from requests->folktables) (2.10)\n",
            "Requirement already satisfied: scikit-learn in /usr/local/lib/python3.7/dist-packages (from sklearn->folktables) (1.0.2)\n",
            "Requirement already satisfied: scipy>=1.1.0 in /usr/local/lib/python3.7/dist-packages (from scikit-learn->sklearn->folktables) (1.4.1)\n",
            "Requirement already satisfied: joblib>=0.11 in /usr/local/lib/python3.7/dist-packages (from scikit-learn->sklearn->folktables) (1.1.0)\n",
            "Requirement already satisfied: threadpoolctl>=2.0.0 in /usr/local/lib/python3.7/dist-packages (from scikit-learn->sklearn->folktables) (3.1.0)\n",
            "Building wheels for collected packages: folktables\n",
            "  Building wheel for folktables (setup.py) ... \u001b[?25l\u001b[?25hdone\n",
            "  Created wheel for folktables: filename=folktables-0.0.11-py3-none-any.whl size=6779 sha256=190118acdaa17dcd2a7a4b0db7d3b7e873048a5bf880286ad672184abad975cb\n",
            "  Stored in directory: /root/.cache/pip/wheels/bd/63/b8/24d3f5d2c70002c68c1fe8e78e1de20fcbcb7a2ef3f56147b7\n",
            "Successfully built folktables\n",
            "Installing collected packages: folktables\n",
            "Successfully installed folktables-0.0.11\n",
            "Collecting fairlearn==v0.6.0\n",
            "  Downloading fairlearn-0.6.0-py3-none-any.whl (24.6 MB)\n",
            "\u001b[K     |████████████████████████████████| 24.6 MB 1.6 MB/s \n",
            "\u001b[?25hRequirement already satisfied: numpy>=1.17.2 in /usr/local/lib/python3.7/dist-packages (from fairlearn==v0.6.0) (1.21.5)\n",
            "Requirement already satisfied: scipy>=1.4.1 in /usr/local/lib/python3.7/dist-packages (from fairlearn==v0.6.0) (1.4.1)\n",
            "Requirement already satisfied: scikit-learn>=0.22.1 in /usr/local/lib/python3.7/dist-packages (from fairlearn==v0.6.0) (1.0.2)\n",
            "Requirement already satisfied: pandas>=0.25.1 in /usr/local/lib/python3.7/dist-packages (from fairlearn==v0.6.0) (1.3.5)\n",
            "Requirement already satisfied: python-dateutil>=2.7.3 in /usr/local/lib/python3.7/dist-packages (from pandas>=0.25.1->fairlearn==v0.6.0) (2.8.2)\n",
            "Requirement already satisfied: pytz>=2017.3 in /usr/local/lib/python3.7/dist-packages (from pandas>=0.25.1->fairlearn==v0.6.0) (2018.9)\n",
            "Requirement already satisfied: six>=1.5 in /usr/local/lib/python3.7/dist-packages (from python-dateutil>=2.7.3->pandas>=0.25.1->fairlearn==v0.6.0) (1.15.0)\n",
            "Requirement already satisfied: joblib>=0.11 in /usr/local/lib/python3.7/dist-packages (from scikit-learn>=0.22.1->fairlearn==v0.6.0) (1.1.0)\n",
            "Requirement already satisfied: threadpoolctl>=2.0.0 in /usr/local/lib/python3.7/dist-packages (from scikit-learn>=0.22.1->fairlearn==v0.6.0) (3.1.0)\n",
            "Installing collected packages: fairlearn\n",
            "Successfully installed fairlearn-0.6.0\n"
          ]
        }
      ]
    },
    {
      "cell_type": "code",
      "metadata": {
        "id": "-BAY1cNGuxfk",
        "colab": {
          "base_uri": "https://localhost:8080/"
        },
        "outputId": "f3fdd1c5-be88-415b-9c57-375c988c2df3"
      },
      "source": [
        "import random\n",
        "random.seed(6)\n",
        "\n",
        "import sys\n",
        "import warnings\n",
        "\n",
        "import numpy as np\n",
        "import pandas as pd\n",
        "import tensorflow as tf\n",
        "import json\n",
        "import time \n",
        "from tqdm import tqdm\n",
        "\n",
        "import matplotlib.pyplot as plt \n",
        "import seaborn as sns\n",
        "\n",
        "from folktables import ACSDataSource, ACSEmployment, ACSIncome, ACSPublicCoverage, ACSTravelTime\n",
        "from superquail.data.acs_helper import ACSData\n",
        "\n",
        "from sklearn.linear_model import LogisticRegression\n",
        "from sklearn.metrics import accuracy_score, roc_auc_score\n",
        "from sklearn.ensemble import RandomForestClassifier\n",
        "from sklearn.model_selection import RandomizedSearchCV\n",
        "from sklearn.preprocessing import MinMaxScaler\n",
        "\n",
        "from aif360.datasets import BinaryLabelDataset, StandardDataset\n",
        "from aif360.algorithms.preprocessing import DisparateImpactRemover\n",
        "from aif360.algorithms.inprocessing import PrejudiceRemover\n",
        "from aif360.algorithms.postprocessing import CalibratedEqOddsPostprocessing, RejectOptionClassification\n",
        "from aif360.metrics import BinaryLabelDatasetMetric, ClassificationMetric\n",
        "from aif360.metrics import BinaryLabelDatasetMetric\n",
        "\n",
        "import BlackBoxAuditing\n",
        "%matplotlib inline"
      ],
      "execution_count": 2,
      "outputs": [
        {
          "output_type": "stream",
          "name": "stderr",
          "text": [
            "/usr/local/lib/python3.7/dist-packages/tensorflow/python/framework/dtypes.py:526: FutureWarning: Passing (type, 1) or '1type' as a synonym of type is deprecated; in a future version of numpy, it will be understood as (type, (1,)) / '(1,)type'.\n",
            "  _np_qint8 = np.dtype([(\"qint8\", np.int8, 1)])\n",
            "/usr/local/lib/python3.7/dist-packages/tensorflow/python/framework/dtypes.py:527: FutureWarning: Passing (type, 1) or '1type' as a synonym of type is deprecated; in a future version of numpy, it will be understood as (type, (1,)) / '(1,)type'.\n",
            "  _np_quint8 = np.dtype([(\"quint8\", np.uint8, 1)])\n",
            "/usr/local/lib/python3.7/dist-packages/tensorflow/python/framework/dtypes.py:528: FutureWarning: Passing (type, 1) or '1type' as a synonym of type is deprecated; in a future version of numpy, it will be understood as (type, (1,)) / '(1,)type'.\n",
            "  _np_qint16 = np.dtype([(\"qint16\", np.int16, 1)])\n",
            "/usr/local/lib/python3.7/dist-packages/tensorflow/python/framework/dtypes.py:529: FutureWarning: Passing (type, 1) or '1type' as a synonym of type is deprecated; in a future version of numpy, it will be understood as (type, (1,)) / '(1,)type'.\n",
            "  _np_quint16 = np.dtype([(\"quint16\", np.uint16, 1)])\n",
            "/usr/local/lib/python3.7/dist-packages/tensorflow/python/framework/dtypes.py:530: FutureWarning: Passing (type, 1) or '1type' as a synonym of type is deprecated; in a future version of numpy, it will be understood as (type, (1,)) / '(1,)type'.\n",
            "  _np_qint32 = np.dtype([(\"qint32\", np.int32, 1)])\n",
            "/usr/local/lib/python3.7/dist-packages/tensorflow/python/framework/dtypes.py:535: FutureWarning: Passing (type, 1) or '1type' as a synonym of type is deprecated; in a future version of numpy, it will be understood as (type, (1,)) / '(1,)type'.\n",
            "  np_resource = np.dtype([(\"resource\", np.ubyte, 1)])\n",
            "WARNING:root:No module named 'numba.decorators': LFR will be unavailable. To install, run:\n",
            "pip install 'aif360[LFR]'\n"
          ]
        }
      ]
    },
    {
      "cell_type": "markdown",
      "metadata": {
        "id": "FW83Vu3KvTQB"
      },
      "source": [
        "# Problem 2\n",
        "### **Load and split data** "
      ]
    },
    {
      "cell_type": "markdown",
      "metadata": {
        "id": "NpySw57tBKEu"
      },
      "source": [
        "#### Load Folktables dataset and set the protected attribute, drop the other protected attribute race\n"
      ]
    },
    {
      "cell_type": "markdown",
      "source": [
        "We have included code to read in the folktables dataset. The Folktables dataset is taken from US Census Data and is built to solve a few simple prediction tasks. The sample we pull is data from 2018 in California. The column names are described in the table below. Note that certain categorical variables have been mapped to integer values, which we will keep as is for the following analyses.\n",
        "\n",
        "For more information on the this dataset, please see the following paper:\n",
        "https://eaamo2021.eaamo.org/accepted/acceptednonarchival/EAMO21_paper_16.pdf"
      ],
      "metadata": {
        "id": "UH30OASO5pf3"
      }
    },
    {
      "cell_type": "markdown",
      "source": [
        "| Column Name | Feature | Description/Notes |\n",
        "| --- | ----------- | --- |\n",
        "| PINCP | Total person’s income | (Target) 1 if >= $50k, 0 if less |\n",
        "| SEX | Sex | (Sensitive Attribute) Male=1, Female=2 |\n",
        "| RAC1P | Race | Dropped from this analysis to focus on one sensitive attribute |\n",
        "| AGEP | Age | Ranges from 0-99 |\n",
        "| COW | Class of Worker | Ranges 1-9, see paper for description |\n",
        "| SCHL | Education Level | Ranges 1-24, see paper for description |\n",
        "| MAR | Marital Status | Ranges 1-5, see paper for description |\n",
        "| OCCP | Occupation | Codes taken from Public Use Microdata Sample (PUMS) from the US Census, see paper |\n",
        "| POBP | Place of Birth | Codes taken from Public Use Microdata Sample (PUMS) from the US Census, see paper |\n",
        "| RELP | Relationship | Relationship of individual to person who responded to the Census taker. Ranges 0-17, see paper for description |\n",
        "| WKHP | Hours worked per week | Ranges from 0-99, averaged over previous year |"
      ],
      "metadata": {
        "id": "ErJSui-veHGd"
      }
    },
    {
      "cell_type": "code",
      "source": [
        "np.random.seed(13)\n",
        "protected_attr = 'SEX' #set sex as the protected attribute\n",
        "target = 'PINCP' #personal income as the target (1=(>50k))\n",
        "\n",
        "#read in the folktables dataset \n",
        "full_df, features_df, target_df, groups_df = ACSData().return_acs_data_scenario(scenario=\"ACSIncome\", subsample=70000)\n",
        "full_df = full_df.drop(columns='RAC1P') #drop race -- another protected attribute from our dataset\n",
        "\n",
        "print(full_df.shape)\n",
        "full_df.head()"
      ],
      "metadata": {
        "colab": {
          "base_uri": "https://localhost:8080/",
          "height": 241
        },
        "id": "JKV2cQ_Q3IqF",
        "outputId": "90b85ffd-026b-49de-c69d-0f41911bc3a5"
      },
      "execution_count": 3,
      "outputs": [
        {
          "output_type": "stream",
          "name": "stdout",
          "text": [
            "Downloading data for 2018 1-Year person survey for CA...\n",
            "(70000, 10)\n"
          ]
        },
        {
          "output_type": "execute_result",
          "data": {
            "text/html": [
              "\n",
              "  <div id=\"df-b18df9d9-26bf-4577-9957-41efad400a2d\">\n",
              "    <div class=\"colab-df-container\">\n",
              "      <div>\n",
              "<style scoped>\n",
              "    .dataframe tbody tr th:only-of-type {\n",
              "        vertical-align: middle;\n",
              "    }\n",
              "\n",
              "    .dataframe tbody tr th {\n",
              "        vertical-align: top;\n",
              "    }\n",
              "\n",
              "    .dataframe thead th {\n",
              "        text-align: right;\n",
              "    }\n",
              "</style>\n",
              "<table border=\"1\" class=\"dataframe\">\n",
              "  <thead>\n",
              "    <tr style=\"text-align: right;\">\n",
              "      <th></th>\n",
              "      <th>AGEP</th>\n",
              "      <th>COW</th>\n",
              "      <th>SCHL</th>\n",
              "      <th>MAR</th>\n",
              "      <th>OCCP</th>\n",
              "      <th>POBP</th>\n",
              "      <th>RELP</th>\n",
              "      <th>WKHP</th>\n",
              "      <th>SEX</th>\n",
              "      <th>PINCP</th>\n",
              "    </tr>\n",
              "  </thead>\n",
              "  <tbody>\n",
              "    <tr>\n",
              "      <th>0</th>\n",
              "      <td>44.0</td>\n",
              "      <td>1.0</td>\n",
              "      <td>1.0</td>\n",
              "      <td>1.0</td>\n",
              "      <td>4220.0</td>\n",
              "      <td>6.0</td>\n",
              "      <td>10.0</td>\n",
              "      <td>40.0</td>\n",
              "      <td>1.0</td>\n",
              "      <td>0.0</td>\n",
              "    </tr>\n",
              "    <tr>\n",
              "      <th>1</th>\n",
              "      <td>66.0</td>\n",
              "      <td>2.0</td>\n",
              "      <td>20.0</td>\n",
              "      <td>2.0</td>\n",
              "      <td>4720.0</td>\n",
              "      <td>42.0</td>\n",
              "      <td>0.0</td>\n",
              "      <td>32.0</td>\n",
              "      <td>2.0</td>\n",
              "      <td>0.0</td>\n",
              "    </tr>\n",
              "    <tr>\n",
              "      <th>2</th>\n",
              "      <td>72.0</td>\n",
              "      <td>6.0</td>\n",
              "      <td>18.0</td>\n",
              "      <td>1.0</td>\n",
              "      <td>10.0</td>\n",
              "      <td>6.0</td>\n",
              "      <td>1.0</td>\n",
              "      <td>8.0</td>\n",
              "      <td>2.0</td>\n",
              "      <td>1.0</td>\n",
              "    </tr>\n",
              "    <tr>\n",
              "      <th>3</th>\n",
              "      <td>53.0</td>\n",
              "      <td>1.0</td>\n",
              "      <td>21.0</td>\n",
              "      <td>1.0</td>\n",
              "      <td>1460.0</td>\n",
              "      <td>457.0</td>\n",
              "      <td>0.0</td>\n",
              "      <td>40.0</td>\n",
              "      <td>1.0</td>\n",
              "      <td>1.0</td>\n",
              "    </tr>\n",
              "    <tr>\n",
              "      <th>4</th>\n",
              "      <td>55.0</td>\n",
              "      <td>1.0</td>\n",
              "      <td>16.0</td>\n",
              "      <td>1.0</td>\n",
              "      <td>220.0</td>\n",
              "      <td>6.0</td>\n",
              "      <td>1.0</td>\n",
              "      <td>40.0</td>\n",
              "      <td>1.0</td>\n",
              "      <td>0.0</td>\n",
              "    </tr>\n",
              "  </tbody>\n",
              "</table>\n",
              "</div>\n",
              "      <button class=\"colab-df-convert\" onclick=\"convertToInteractive('df-b18df9d9-26bf-4577-9957-41efad400a2d')\"\n",
              "              title=\"Convert this dataframe to an interactive table.\"\n",
              "              style=\"display:none;\">\n",
              "        \n",
              "  <svg xmlns=\"http://www.w3.org/2000/svg\" height=\"24px\"viewBox=\"0 0 24 24\"\n",
              "       width=\"24px\">\n",
              "    <path d=\"M0 0h24v24H0V0z\" fill=\"none\"/>\n",
              "    <path d=\"M18.56 5.44l.94 2.06.94-2.06 2.06-.94-2.06-.94-.94-2.06-.94 2.06-2.06.94zm-11 1L8.5 8.5l.94-2.06 2.06-.94-2.06-.94L8.5 2.5l-.94 2.06-2.06.94zm10 10l.94 2.06.94-2.06 2.06-.94-2.06-.94-.94-2.06-.94 2.06-2.06.94z\"/><path d=\"M17.41 7.96l-1.37-1.37c-.4-.4-.92-.59-1.43-.59-.52 0-1.04.2-1.43.59L10.3 9.45l-7.72 7.72c-.78.78-.78 2.05 0 2.83L4 21.41c.39.39.9.59 1.41.59.51 0 1.02-.2 1.41-.59l7.78-7.78 2.81-2.81c.8-.78.8-2.07 0-2.86zM5.41 20L4 18.59l7.72-7.72 1.47 1.35L5.41 20z\"/>\n",
              "  </svg>\n",
              "      </button>\n",
              "      \n",
              "  <style>\n",
              "    .colab-df-container {\n",
              "      display:flex;\n",
              "      flex-wrap:wrap;\n",
              "      gap: 12px;\n",
              "    }\n",
              "\n",
              "    .colab-df-convert {\n",
              "      background-color: #E8F0FE;\n",
              "      border: none;\n",
              "      border-radius: 50%;\n",
              "      cursor: pointer;\n",
              "      display: none;\n",
              "      fill: #1967D2;\n",
              "      height: 32px;\n",
              "      padding: 0 0 0 0;\n",
              "      width: 32px;\n",
              "    }\n",
              "\n",
              "    .colab-df-convert:hover {\n",
              "      background-color: #E2EBFA;\n",
              "      box-shadow: 0px 1px 2px rgba(60, 64, 67, 0.3), 0px 1px 3px 1px rgba(60, 64, 67, 0.15);\n",
              "      fill: #174EA6;\n",
              "    }\n",
              "\n",
              "    [theme=dark] .colab-df-convert {\n",
              "      background-color: #3B4455;\n",
              "      fill: #D2E3FC;\n",
              "    }\n",
              "\n",
              "    [theme=dark] .colab-df-convert:hover {\n",
              "      background-color: #434B5C;\n",
              "      box-shadow: 0px 1px 3px 1px rgba(0, 0, 0, 0.15);\n",
              "      filter: drop-shadow(0px 1px 2px rgba(0, 0, 0, 0.3));\n",
              "      fill: #FFFFFF;\n",
              "    }\n",
              "  </style>\n",
              "\n",
              "      <script>\n",
              "        const buttonEl =\n",
              "          document.querySelector('#df-b18df9d9-26bf-4577-9957-41efad400a2d button.colab-df-convert');\n",
              "        buttonEl.style.display =\n",
              "          google.colab.kernel.accessAllowed ? 'block' : 'none';\n",
              "\n",
              "        async function convertToInteractive(key) {\n",
              "          const element = document.querySelector('#df-b18df9d9-26bf-4577-9957-41efad400a2d');\n",
              "          const dataTable =\n",
              "            await google.colab.kernel.invokeFunction('convertToInteractive',\n",
              "                                                     [key], {});\n",
              "          if (!dataTable) return;\n",
              "\n",
              "          const docLinkHtml = 'Like what you see? Visit the ' +\n",
              "            '<a target=\"_blank\" href=https://colab.research.google.com/notebooks/data_table.ipynb>data table notebook</a>'\n",
              "            + ' to learn more about interactive tables.';\n",
              "          element.innerHTML = '';\n",
              "          dataTable['output_type'] = 'display_data';\n",
              "          await google.colab.output.renderOutput(dataTable, element);\n",
              "          const docLink = document.createElement('div');\n",
              "          docLink.innerHTML = docLinkHtml;\n",
              "          element.appendChild(docLink);\n",
              "        }\n",
              "      </script>\n",
              "    </div>\n",
              "  </div>\n",
              "  "
            ],
            "text/plain": [
              "   AGEP  COW  SCHL  MAR    OCCP   POBP  RELP  WKHP  SEX  PINCP\n",
              "0  44.0  1.0   1.0  1.0  4220.0    6.0  10.0  40.0  1.0    0.0\n",
              "1  66.0  2.0  20.0  2.0  4720.0   42.0   0.0  32.0  2.0    0.0\n",
              "2  72.0  6.0  18.0  1.0    10.0    6.0   1.0   8.0  2.0    1.0\n",
              "3  53.0  1.0  21.0  1.0  1460.0  457.0   0.0  40.0  1.0    1.0\n",
              "4  55.0  1.0  16.0  1.0   220.0    6.0   1.0  40.0  1.0    0.0"
            ]
          },
          "metadata": {},
          "execution_count": 3
        }
      ]
    },
    {
      "cell_type": "code",
      "source": [
        "# convert this dataframe into an aif360 dataset\n",
        "dataset_orig = BinaryLabelDataset(\n",
        "    favorable_label=1,\n",
        "    unfavorable_label=0,\n",
        "    df=full_df,\n",
        "    label_names=[target],\n",
        "    protected_attribute_names=[protected_attr])\n",
        "privileged_groups = [{protected_attr: 1}] \n",
        "unprivileged_groups = [{protected_attr: 2}]"
      ],
      "metadata": {
        "id": "cEZljEsG4G1j"
      },
      "execution_count": 4,
      "outputs": []
    },
    {
      "cell_type": "markdown",
      "metadata": {
        "id": "0Fa2JenjzLkx"
      },
      "source": [
        "### Create the train test val split"
      ]
    },
    {
      "cell_type": "code",
      "metadata": {
        "id": "TCy6GcbgBycv",
        "colab": {
          "base_uri": "https://localhost:8080/"
        },
        "outputId": "128041a3-0814-427c-d9ef-68759733cce1"
      },
      "source": [
        "#YOUR CODE HERE\n",
        "# Split original data into train and test data\n",
        "train_orig, test_orig = dataset_orig.split([0.8], shuffle=True, seed = 10) # seed = 10 necessary??\n",
        "# Split training data into train and validation data for hyperparameter tuning(> validation data)\n",
        "train_orig, val_orig = train_orig.split([0.875], shuffle=True)\n",
        "\n",
        "# Conver to dataframe\n",
        "train_orig_df, _ = train_orig.convert_to_dataframe()\n",
        "val_orig_df, _ = val_orig.convert_to_dataframe()\n",
        "test_orig_df, _ = test_orig.convert_to_dataframe()\n",
        "\n",
        "print(\"Train set: \", train_orig_df.shape)\n",
        "print(\"Val set: \", val_orig_df.shape)\n",
        "print(\"Test set: \", test_orig_df.shape)"
      ],
      "execution_count": 5,
      "outputs": [
        {
          "output_type": "stream",
          "name": "stdout",
          "text": [
            "Train set:  (49000, 10)\n",
            "Val set:  (7000, 10)\n",
            "Test set:  (14000, 10)\n"
          ]
        }
      ]
    },
    {
      "cell_type": "code",
      "source": [
        "print(train_orig_df.columns)\n",
        "train_orig_df.head()"
      ],
      "metadata": {
        "colab": {
          "base_uri": "https://localhost:8080/",
          "height": 258
        },
        "id": "giadg4CmsVEY",
        "outputId": "758744b2-303e-403d-e1c3-9083f222a23a"
      },
      "execution_count": 6,
      "outputs": [
        {
          "output_type": "stream",
          "name": "stdout",
          "text": [
            "Index(['AGEP', 'COW', 'SCHL', 'MAR', 'OCCP', 'POBP', 'RELP', 'WKHP', 'SEX',\n",
            "       'PINCP'],\n",
            "      dtype='object')\n"
          ]
        },
        {
          "output_type": "execute_result",
          "data": {
            "text/html": [
              "\n",
              "  <div id=\"df-60117c77-cab0-463f-9926-09ce38cc3755\">\n",
              "    <div class=\"colab-df-container\">\n",
              "      <div>\n",
              "<style scoped>\n",
              "    .dataframe tbody tr th:only-of-type {\n",
              "        vertical-align: middle;\n",
              "    }\n",
              "\n",
              "    .dataframe tbody tr th {\n",
              "        vertical-align: top;\n",
              "    }\n",
              "\n",
              "    .dataframe thead th {\n",
              "        text-align: right;\n",
              "    }\n",
              "</style>\n",
              "<table border=\"1\" class=\"dataframe\">\n",
              "  <thead>\n",
              "    <tr style=\"text-align: right;\">\n",
              "      <th></th>\n",
              "      <th>AGEP</th>\n",
              "      <th>COW</th>\n",
              "      <th>SCHL</th>\n",
              "      <th>MAR</th>\n",
              "      <th>OCCP</th>\n",
              "      <th>POBP</th>\n",
              "      <th>RELP</th>\n",
              "      <th>WKHP</th>\n",
              "      <th>SEX</th>\n",
              "      <th>PINCP</th>\n",
              "    </tr>\n",
              "  </thead>\n",
              "  <tbody>\n",
              "    <tr>\n",
              "      <th>18884</th>\n",
              "      <td>62.0</td>\n",
              "      <td>1.0</td>\n",
              "      <td>11.0</td>\n",
              "      <td>1.0</td>\n",
              "      <td>3602.0</td>\n",
              "      <td>247.0</td>\n",
              "      <td>1.0</td>\n",
              "      <td>40.0</td>\n",
              "      <td>2.0</td>\n",
              "      <td>1.0</td>\n",
              "    </tr>\n",
              "    <tr>\n",
              "      <th>18842</th>\n",
              "      <td>24.0</td>\n",
              "      <td>1.0</td>\n",
              "      <td>16.0</td>\n",
              "      <td>5.0</td>\n",
              "      <td>5610.0</td>\n",
              "      <td>6.0</td>\n",
              "      <td>2.0</td>\n",
              "      <td>40.0</td>\n",
              "      <td>1.0</td>\n",
              "      <td>0.0</td>\n",
              "    </tr>\n",
              "    <tr>\n",
              "      <th>16031</th>\n",
              "      <td>45.0</td>\n",
              "      <td>1.0</td>\n",
              "      <td>8.0</td>\n",
              "      <td>1.0</td>\n",
              "      <td>5610.0</td>\n",
              "      <td>303.0</td>\n",
              "      <td>1.0</td>\n",
              "      <td>40.0</td>\n",
              "      <td>1.0</td>\n",
              "      <td>0.0</td>\n",
              "    </tr>\n",
              "    <tr>\n",
              "      <th>69028</th>\n",
              "      <td>59.0</td>\n",
              "      <td>1.0</td>\n",
              "      <td>22.0</td>\n",
              "      <td>1.0</td>\n",
              "      <td>1021.0</td>\n",
              "      <td>210.0</td>\n",
              "      <td>1.0</td>\n",
              "      <td>40.0</td>\n",
              "      <td>1.0</td>\n",
              "      <td>1.0</td>\n",
              "    </tr>\n",
              "    <tr>\n",
              "      <th>37596</th>\n",
              "      <td>45.0</td>\n",
              "      <td>1.0</td>\n",
              "      <td>22.0</td>\n",
              "      <td>1.0</td>\n",
              "      <td>3030.0</td>\n",
              "      <td>6.0</td>\n",
              "      <td>1.0</td>\n",
              "      <td>40.0</td>\n",
              "      <td>2.0</td>\n",
              "      <td>1.0</td>\n",
              "    </tr>\n",
              "  </tbody>\n",
              "</table>\n",
              "</div>\n",
              "      <button class=\"colab-df-convert\" onclick=\"convertToInteractive('df-60117c77-cab0-463f-9926-09ce38cc3755')\"\n",
              "              title=\"Convert this dataframe to an interactive table.\"\n",
              "              style=\"display:none;\">\n",
              "        \n",
              "  <svg xmlns=\"http://www.w3.org/2000/svg\" height=\"24px\"viewBox=\"0 0 24 24\"\n",
              "       width=\"24px\">\n",
              "    <path d=\"M0 0h24v24H0V0z\" fill=\"none\"/>\n",
              "    <path d=\"M18.56 5.44l.94 2.06.94-2.06 2.06-.94-2.06-.94-.94-2.06-.94 2.06-2.06.94zm-11 1L8.5 8.5l.94-2.06 2.06-.94-2.06-.94L8.5 2.5l-.94 2.06-2.06.94zm10 10l.94 2.06.94-2.06 2.06-.94-2.06-.94-.94-2.06-.94 2.06-2.06.94z\"/><path d=\"M17.41 7.96l-1.37-1.37c-.4-.4-.92-.59-1.43-.59-.52 0-1.04.2-1.43.59L10.3 9.45l-7.72 7.72c-.78.78-.78 2.05 0 2.83L4 21.41c.39.39.9.59 1.41.59.51 0 1.02-.2 1.41-.59l7.78-7.78 2.81-2.81c.8-.78.8-2.07 0-2.86zM5.41 20L4 18.59l7.72-7.72 1.47 1.35L5.41 20z\"/>\n",
              "  </svg>\n",
              "      </button>\n",
              "      \n",
              "  <style>\n",
              "    .colab-df-container {\n",
              "      display:flex;\n",
              "      flex-wrap:wrap;\n",
              "      gap: 12px;\n",
              "    }\n",
              "\n",
              "    .colab-df-convert {\n",
              "      background-color: #E8F0FE;\n",
              "      border: none;\n",
              "      border-radius: 50%;\n",
              "      cursor: pointer;\n",
              "      display: none;\n",
              "      fill: #1967D2;\n",
              "      height: 32px;\n",
              "      padding: 0 0 0 0;\n",
              "      width: 32px;\n",
              "    }\n",
              "\n",
              "    .colab-df-convert:hover {\n",
              "      background-color: #E2EBFA;\n",
              "      box-shadow: 0px 1px 2px rgba(60, 64, 67, 0.3), 0px 1px 3px 1px rgba(60, 64, 67, 0.15);\n",
              "      fill: #174EA6;\n",
              "    }\n",
              "\n",
              "    [theme=dark] .colab-df-convert {\n",
              "      background-color: #3B4455;\n",
              "      fill: #D2E3FC;\n",
              "    }\n",
              "\n",
              "    [theme=dark] .colab-df-convert:hover {\n",
              "      background-color: #434B5C;\n",
              "      box-shadow: 0px 1px 3px 1px rgba(0, 0, 0, 0.15);\n",
              "      filter: drop-shadow(0px 1px 2px rgba(0, 0, 0, 0.3));\n",
              "      fill: #FFFFFF;\n",
              "    }\n",
              "  </style>\n",
              "\n",
              "      <script>\n",
              "        const buttonEl =\n",
              "          document.querySelector('#df-60117c77-cab0-463f-9926-09ce38cc3755 button.colab-df-convert');\n",
              "        buttonEl.style.display =\n",
              "          google.colab.kernel.accessAllowed ? 'block' : 'none';\n",
              "\n",
              "        async function convertToInteractive(key) {\n",
              "          const element = document.querySelector('#df-60117c77-cab0-463f-9926-09ce38cc3755');\n",
              "          const dataTable =\n",
              "            await google.colab.kernel.invokeFunction('convertToInteractive',\n",
              "                                                     [key], {});\n",
              "          if (!dataTable) return;\n",
              "\n",
              "          const docLinkHtml = 'Like what you see? Visit the ' +\n",
              "            '<a target=\"_blank\" href=https://colab.research.google.com/notebooks/data_table.ipynb>data table notebook</a>'\n",
              "            + ' to learn more about interactive tables.';\n",
              "          element.innerHTML = '';\n",
              "          dataTable['output_type'] = 'display_data';\n",
              "          await google.colab.output.renderOutput(dataTable, element);\n",
              "          const docLink = document.createElement('div');\n",
              "          docLink.innerHTML = docLinkHtml;\n",
              "          element.appendChild(docLink);\n",
              "        }\n",
              "      </script>\n",
              "    </div>\n",
              "  </div>\n",
              "  "
            ],
            "text/plain": [
              "       AGEP  COW  SCHL  MAR    OCCP   POBP  RELP  WKHP  SEX  PINCP\n",
              "18884  62.0  1.0  11.0  1.0  3602.0  247.0   1.0  40.0  2.0    1.0\n",
              "18842  24.0  1.0  16.0  5.0  5610.0    6.0   2.0  40.0  1.0    0.0\n",
              "16031  45.0  1.0   8.0  1.0  5610.0  303.0   1.0  40.0  1.0    0.0\n",
              "69028  59.0  1.0  22.0  1.0  1021.0  210.0   1.0  40.0  1.0    1.0\n",
              "37596  45.0  1.0  22.0  1.0  3030.0    6.0   1.0  40.0  2.0    1.0"
            ]
          },
          "metadata": {},
          "execution_count": 6
        }
      ]
    },
    {
      "cell_type": "markdown",
      "metadata": {
        "id": "FaQZc9mkDBQc"
      },
      "source": [
        "# Problem 2, Part (a) \n",
        "### **Train a baseline Random Forest (RF) model and report metrics**"
      ]
    },
    {
      "cell_type": "markdown",
      "metadata": {
        "id": "J_9U8nMU3pg0"
      },
      "source": [
        "### Train a random forest model - Baseline"
      ]
    },
    {
      "cell_type": "code",
      "metadata": {
        "id": "Bo149tbl3n_N"
      },
      "source": [
        "#YOUR CODE HERE\n",
        "from sklearn.ensemble import RandomForestClassifier\n",
        "\n",
        "X_train = train_orig_df.drop(target, axis=1) # personal income as the target (1=(>50k)) is a label to be predicted\n",
        "y_train = train_orig_df[target]\n",
        "\n",
        "X_test = test_orig_df.drop(target, axis=1)\n",
        "y_test = test_orig_df[target]\n",
        "\n",
        "clf = RandomForestClassifier(n_estimators=100) # check parameters\n",
        "clf.fit(X_train, y_train)\n",
        "classified = clf.predict(X_test)\n",
        "\n",
        "metric_train = BinaryLabelDatasetMetric(\n",
        "    train_orig,\n",
        "    unprivileged_groups=unprivileged_groups,\n",
        "    privileged_groups=privileged_groups\n",
        ")\n",
        "# metric_train = ClassificationMetric(\n",
        "#     train_orig,\n",
        "#     classified_dataset= classified,\n",
        "#     unprivileged_groups=unprivileged_groups,\n",
        "#     privileged_groups=privileged_groups\n",
        "# )"
      ],
      "execution_count": 7,
      "outputs": []
    },
    {
      "cell_type": "markdown",
      "metadata": {
        "id": "Ci-ClRL14Efm"
      },
      "source": [
        "### Calculate Metrics"
      ]
    },
    {
      "cell_type": "code",
      "metadata": {
        "id": "MAAkD4VK37eg",
        "colab": {
          "base_uri": "https://localhost:8080/"
        },
        "outputId": "50012658-4291-4a7e-9125-89fb0718f89e"
      },
      "source": [
        "#YOUR CODE HERE\n",
        "from fairlearn.metrics import MetricFrame\n",
        "from fairlearn.metrics import selection_rate, false_negative_rate, false_positive_rate\n",
        "\n",
        "\n",
        "# accuracy\n",
        "accuracy = accuracy_score(y_test, classified)\n",
        "print(\"Accuracy = %f\" % accuracy) # verifying\n",
        "\n",
        "metric_fns = {'FPR': false_positive_rate,\n",
        "              'accuracy': accuracy_score}\n",
        "\n",
        "grouped_on_sex = MetricFrame(metric_fns,\n",
        "                             y_test, classified,\n",
        "                             sensitive_features=X_test['SEX'])\n",
        "print(grouped_on_sex.by_group['accuracy'])\n",
        "# for row in (grouped_on_sex.by_group['accuracy']):\n",
        "#   print(row)\n",
        "\n",
        "print(\"Disparate Impact = %f\" % metric_train.disparate_impact())\n",
        "\n",
        "FPRdiff = grouped_on_sex.by_group['FPR'].diff()[2.0]\n",
        "print(\"False positive rate difference: %f \" % FPRdiff)\n",
        "\n",
        "# metric_fns = {'samplesize': samplesize, \n",
        "#               'selection_rate': selection_rate,  # i.e., the percentage of the population which have ‘1’ as their label\n",
        "#               'FNR': false_negative_rate, \n",
        "#               'FPR': false_positive_rate, \n",
        "#               'accuracy': skm.accuracy_score,\n",
        "#               'average_precision': skm.average_precision_score,\n",
        "#               'roc_auc_score': insensitive_roc_auc \n",
        "#               }\n",
        "\n",
        "# grouped_on_race = MetricFrame(metric_fns,\n",
        "#                              y_test, y_pred,\n",
        "#                              sensitive_features=A_test['race'])"
      ],
      "execution_count": 8,
      "outputs": [
        {
          "output_type": "stream",
          "name": "stdout",
          "text": [
            "Accuracy = 0.804357\n",
            "SEX\n",
            "1.0    0.797246\n",
            "2.0    0.812181\n",
            "Name: accuracy, dtype: object\n",
            "Disparate Impact = 0.761670\n",
            "False positive rate difference: -0.057190 \n"
          ]
        }
      ]
    },
    {
      "cell_type": "markdown",
      "metadata": {
        "id": "9qZgybMrFsKB"
      },
      "source": [
        "# Problem 2, Part (b)\n",
        "### **Hyperparameter tuning of baseline RF model**"
      ]
    },
    {
      "cell_type": "code",
      "metadata": {
        "id": "a5bJ5wamFt7f"
      },
      "source": [
        "# for boxplots\n",
        "def plot_init_v_tuned_box(init_metrics, tuned_metrics, metric_name):\n",
        "  '''Creates a bar graph comparing init_metrics to tuned_metrics'''\n",
        "\n",
        "  # Make some x values\n",
        "  x_init = list(range(len(init_metrics)))\n",
        "  x_tuned = [x + 0.35 for x in x_init]\n",
        "\n",
        "  # Plot the metrics\n",
        "  plt.boxplot([init_metrics, tuned_metrics], labels=['Initial Model', 'Tuned Model'])\n",
        "\n",
        "  # Create labels, etc. \n",
        "  plt.ylabel(metric_name)\n",
        "  plt.legend()\n",
        "  plt.show()"
      ],
      "execution_count": 9,
      "outputs": []
    },
    {
      "cell_type": "markdown",
      "metadata": {
        "id": "yokMPYTHKB7A"
      },
      "source": [
        "### Define a program to conduct tune the Random Forest\n",
        "Optimize the AUC (-> Accuracy). You should try the following hyperparameters: <br>\n",
        "max_depth=[1, 5, 10] <br>\n",
        "n_estimators=[1, 5, 10, 15, 20]"
      ]
    },
    {
      "cell_type": "code",
      "metadata": {
        "id": "7TpjRCHpClL4",
        "colab": {
          "base_uri": "https://localhost:8080/"
        },
        "outputId": "75c10080-e02a-41cd-ca7f-0daaf846e592"
      },
      "source": [
        "#YOUR CODE HERE\n",
        "max_depth=[1, 5, 10]\n",
        "n_estimators=[1, 5, 10, 15, 20]\n",
        "\n",
        "# 10 splits\n",
        "splitted_trains_aif360 = []\n",
        "splitted_vals = []\n",
        "splitted_tests = []\n",
        "splitted_X_trains = []\n",
        "splitted_y_trains = []\n",
        "splitted_X_vals = []\n",
        "splitted_y_vals = []\n",
        "splitted_X_tests = []\n",
        "splitted_y_tests = []\n",
        "\n",
        "accuracies = [] # [accuracy, (max_depth, n_estimators)]\n",
        "SPLITS = 10\n",
        "for i in range(SPLITS):\n",
        "  # Split original data into train and test data\n",
        "  train_sub, test_sub = dataset_orig.split([0.8], shuffle=True, seed = i) # seed = 10 necessary??\n",
        "  # Split training data into train and validation data for hyperparameter tuning(> validation data)\n",
        "  train_sub, val_sub = train_sub.split([0.875], shuffle=True, seed = i)\n",
        "  \n",
        "  # before conver to dataframe\n",
        "  splitted_trains_aif360.append(train_sub) \n",
        "\n",
        "  # Conver to dataframe\n",
        "  train_sub_df, _ = train_sub.convert_to_dataframe()\n",
        "  val_sub_df, _ = val_sub.convert_to_dataframe()\n",
        "  test_sub_df, _ = test_sub.convert_to_dataframe()\n",
        "\n",
        "  for j in range(0, len(max_depth)):\n",
        "    for k in range(0, len(n_estimators)):\n",
        "      curMaxDepth, curNestimators = max_depth[j], n_estimators[k]\n",
        "      X_train = train_sub_df.drop(target, axis=1) # personal income as the target (1=(>50k)) is a label to be predicted\n",
        "      y_train = train_sub_df[target]\n",
        "      \n",
        "      X_val = val_sub_df.drop(target, axis=1)\n",
        "      y_val = val_sub_df[target]\n",
        "\n",
        "      X_test = test_sub_df.drop(target, axis=1)\n",
        "      y_test = test_sub_df[target]\n",
        "\n",
        "      splitted_X_trains.append(X_train)\n",
        "      splitted_y_trains.append(y_train)\n",
        "      splitted_X_vals.append(X_val)\n",
        "      splitted_y_vals.append(y_val)\n",
        "      splitted_X_tests.append(X_test)\n",
        "      splitted_y_tests.append(y_test)\n",
        "      \n",
        "      clf = RandomForestClassifier(n_estimators=n_estimators[k], max_depth=max_depth[j]) # check parameters\n",
        "      clf.fit(X_train, y_train)\n",
        "      classified = clf.predict(X_val)\n",
        "      \n",
        "      accuracy = accuracy_score(y_val, classified)\n",
        "      accuracies.append([accuracy, (max_depth[j], n_estimators[k])])\n",
        "      #print(\"Accuracy = %f\" % accuracy)\n",
        "\n",
        "accuracies.sort(reverse=True)\n",
        "print(accuracies)\n",
        "      \n",
        "# attrs = {'max_depth': max_depth, 'n_estimators':n_estimators}\n",
        "\n",
        "# # RandomizedSearchCV ??\n",
        "\n",
        "# sweep = GridSearch(RandomForestClassifier(attrs),\n",
        "#                    constraints=ErrorRate(),\n",
        "#                    constraint_weight=0.1,\n",
        "#                    grid_size=5)\n",
        "\n",
        "# sweep.fit(X_train, y_train,\n",
        "#           sensitive_features=X_train['SEX'])\n",
        "\n"
      ],
      "execution_count": 10,
      "outputs": [
        {
          "output_type": "stream",
          "name": "stdout",
          "text": [
            "[[0.8172857142857143, (10, 15)], [0.815, (10, 10)], [0.8147142857142857, (10, 10)], [0.8142857142857143, (10, 15)], [0.8135714285714286, (10, 20)], [0.8134285714285714, (10, 10)], [0.8132857142857143, (10, 20)], [0.812, (10, 20)], [0.8115714285714286, (10, 20)], [0.8108571428571428, (10, 5)], [0.8108571428571428, (10, 5)], [0.8105714285714286, (10, 15)], [0.8101428571428572, (10, 5)], [0.8098571428571428, (10, 15)], [0.8097142857142857, (10, 10)], [0.8095714285714286, (10, 15)], [0.8094285714285714, (10, 20)], [0.8084285714285714, (10, 5)], [0.8074285714285714, (10, 20)], [0.8067142857142857, (10, 10)], [0.8052857142857143, (10, 20)], [0.8051428571428572, (10, 15)], [0.8047142857142857, (10, 10)], [0.8045714285714286, (10, 20)], [0.8044285714285714, (10, 15)], [0.8044285714285714, (10, 5)], [0.8038571428571428, (10, 20)], [0.8028571428571428, (10, 15)], [0.8027142857142857, (10, 10)], [0.8024285714285714, (10, 10)], [0.8018571428571428, (10, 5)], [0.8014285714285714, (10, 15)], [0.8014285714285714, (10, 10)], [0.8008571428571428, (10, 5)], [0.8004285714285714, (10, 20)], [0.8002857142857143, (10, 5)], [0.8, (10, 10)], [0.7995714285714286, (10, 15)], [0.797, (10, 5)], [0.7968571428571428, (5, 15)], [0.7962857142857143, (5, 15)], [0.7961428571428572, (5, 20)], [0.796, (10, 5)], [0.7955714285714286, (5, 10)], [0.7948571428571428, (5, 15)], [0.7948571428571428, (5, 10)], [0.7948571428571428, (5, 5)], [0.7945714285714286, (5, 15)], [0.7941428571428572, (5, 20)], [0.7932857142857143, (5, 10)], [0.7925714285714286, (10, 1)], [0.7925714285714286, (5, 20)], [0.7925714285714286, (5, 5)], [0.7924285714285715, (5, 20)], [0.7922857142857143, (5, 20)], [0.7921428571428571, (10, 1)], [0.7921428571428571, (5, 15)], [0.7921428571428571, (5, 5)], [0.7904285714285715, (5, 10)], [0.79, (5, 10)], [0.7898571428571428, (5, 20)], [0.7895714285714286, (5, 15)], [0.7895714285714286, (5, 10)], [0.7888571428571428, (5, 20)], [0.7881428571428571, (5, 15)], [0.788, (5, 5)], [0.7875714285714286, (5, 15)], [0.7874285714285715, (5, 15)], [0.7868571428571428, (10, 1)], [0.7868571428571428, (5, 10)], [0.7867142857142857, (5, 20)], [0.7857142857142857, (10, 1)], [0.7852857142857143, (10, 1)], [0.785, (5, 20)], [0.785, (5, 5)], [0.785, (5, 5)], [0.7845714285714286, (10, 1)], [0.7845714285714286, (5, 5)], [0.7837142857142857, (5, 10)], [0.7837142857142857, (5, 10)], [0.7835714285714286, (10, 1)], [0.783, (5, 15)], [0.7824285714285715, (5, 20)], [0.7814285714285715, (10, 1)], [0.7801428571428571, (5, 1)], [0.7788571428571428, (10, 1)], [0.7781428571428571, (5, 10)], [0.7775714285714286, (5, 5)], [0.7764285714285715, (10, 1)], [0.7764285714285715, (5, 5)], [0.775, (5, 5)], [0.7747142857142857, (5, 1)], [0.7747142857142857, (5, 1)], [0.7737142857142857, (5, 1)], [0.7694285714285715, (5, 1)], [0.7688571428571429, (5, 1)], [0.7642857142857142, (5, 1)], [0.7614285714285715, (1, 10)], [0.7595714285714286, (5, 1)], [0.756, (1, 15)], [0.7555714285714286, (5, 1)], [0.7531428571428571, (5, 1)], [0.7528571428571429, (1, 20)], [0.7524285714285714, (1, 10)], [0.7514285714285714, (1, 15)], [0.751, (1, 15)], [0.7484285714285714, (1, 15)], [0.7482857142857143, (1, 20)], [0.7477142857142857, (1, 5)], [0.7474285714285714, (1, 20)], [0.7445714285714286, (1, 10)], [0.7428571428571429, (1, 5)], [0.741, (1, 15)], [0.7402857142857143, (1, 15)], [0.7402857142857143, (1, 5)], [0.7395714285714285, (1, 10)], [0.7394285714285714, (1, 15)], [0.7387142857142858, (1, 10)], [0.7377142857142858, (1, 20)], [0.737, (1, 5)], [0.7364285714285714, (1, 5)], [0.7362857142857143, (1, 10)], [0.7337142857142858, (1, 5)], [0.733, (1, 20)], [0.7322857142857143, (1, 20)], [0.7312857142857143, (1, 10)], [0.731, (1, 10)], [0.7288571428571429, (1, 5)], [0.7275714285714285, (1, 15)], [0.7274285714285714, (1, 20)], [0.7274285714285714, (1, 5)], [0.727, (1, 10)], [0.7265714285714285, (1, 15)], [0.7264285714285714, (1, 5)], [0.7252857142857143, (1, 5)], [0.7241428571428571, (1, 15)], [0.7234285714285714, (1, 20)], [0.7234285714285714, (1, 10)], [0.722, (1, 20)], [0.7207142857142858, (1, 20)], [0.7197142857142858, (1, 1)], [0.7138571428571429, (1, 1)], [0.7084285714285714, (1, 1)], [0.707, (1, 1)], [0.7058571428571428, (1, 1)], [0.6261428571428571, (1, 1)], [0.6254285714285714, (1, 1)], [0.6207142857142857, (1, 1)], [0.6207142857142857, (1, 1)], [0.5988571428571429, (1, 1)]]\n"
          ]
        }
      ]
    },
    {
      "cell_type": "markdown",
      "metadata": {
        "id": "BmW4nlgDOUKS"
      },
      "source": [
        "### Compare the initial model to the fine-tuned model for 10 train/val/test splits for Random Forest"
      ]
    },
    {
      "cell_type": "code",
      "metadata": {
        "id": "TbGfeNNmOMft",
        "colab": {
          "base_uri": "https://localhost:8080/"
        },
        "outputId": "6081b680-927a-4af5-daa2-8ed137be5c70"
      },
      "source": [
        "#YOUR CODE HERE\n",
        "init_accuracies = []\n",
        "tuned_accuracies = []\n",
        "\n",
        "init_privileged = []\n",
        "tuned_privileged = []\n",
        "\n",
        "init_unprivileged = []\n",
        "tuned_unprivileged = []\n",
        "\n",
        "init_disparate_impacts = []\n",
        "tuned_disparate_impacts = []\n",
        "\n",
        "init_fpr = []\n",
        "tuned_fpr = []\n",
        "\n",
        "for i in range(SPLITS):\n",
        "  X_train, y_train = splitted_X_trains[i], splitted_y_trains[i]\n",
        "  X_test, y_test = splitted_X_tests[i], splitted_y_tests[i]\n",
        "\n",
        "  # initial model\n",
        "  initial_clf = RandomForestClassifier()\n",
        "  initial_clf.fit(X_train, y_train)\n",
        "  initial_classified = initial_clf.predict(X_test)\n",
        "\n",
        "  accuracy = accuracy_score(y_test, initial_classified)\n",
        "\n",
        "  metric_fns = {'FPR': false_positive_rate,\n",
        "                'accuracy': accuracy_score}\n",
        "  \n",
        "  grouped_on_sex = MetricFrame(metric_fns,\n",
        "                               y_test, initial_classified,\n",
        "                               sensitive_features=X_test['SEX'])\n",
        "  \n",
        "  idx = 0\n",
        "  for row in grouped_on_sex.by_group['accuracy']:\n",
        "    if idx == 0:\n",
        "      init_privileged.append(row)\n",
        "      idx += 1\n",
        "    elif idx == 1:\n",
        "      init_unprivileged.append(row)\n",
        "\n",
        "  print('Accuracy: ', accuracy)\n",
        "\n",
        "  train_orig_df = X_test.copy()\n",
        "  train_orig_df[target] = y_test\n",
        "\n",
        "  orig_aif360 = StandardDataset(train_orig_df, label_name=target, protected_attribute_names=['SEX'],\n",
        "                                privileged_classes=[[1]], favorable_classes=[1])\n",
        "  \n",
        "  orig_metrics = BinaryLabelDatasetMetric(orig_aif360,\n",
        "                                          unprivileged_groups=unprivileged_groups,\n",
        "                                          privileged_groups=privileged_groups)\n",
        "  \n",
        "  # orig_aif360 = StandardDataset()\n",
        "\n",
        "\n",
        "  # orig_aif360 = StandardDataset(train_orig_df, label_name='credit', protected_attribute_names=['age'], \n",
        "  #               privileged_classes=[[1]], favorable_classes=[1])\n",
        "\n",
        "\n",
        "\n",
        "\n",
        "  print(\"Disparate Impact = %f\" % orig_metrics.disparate_impact()) # TODO: metric_train 같아도 되는지\n",
        "\n",
        "  FPRdiff = grouped_on_sex.by_group['FPR'].diff()[2.0]\n",
        "  print(\"False positive rate difference: %f\" % FPRdiff)\n",
        "\n",
        "  init_accuracies.append(accuracy)\n",
        "  init_disparate_impacts.append(orig_metrics.disparate_impact())\n",
        "  init_fpr.append(FPRdiff)\n",
        "\n",
        "  \n",
        "  # fine-tuned model\n",
        "  tuned_clf = RandomForestClassifier(max_depth=10, n_estimators=15)\n",
        "  tuned_clf.fit(X_train, y_train)\n",
        "  tuned_classified = tuned_clf.predict(X_test)\n",
        "  \n",
        "  accuracy = accuracy_score(y_test, tuned_classified)\n",
        "\n",
        "  grouped_on_sex = MetricFrame(metric_fns,\n",
        "                               y_test, tuned_classified,\n",
        "                               sensitive_features=X_test['SEX'])\n",
        "  \n",
        "  idx = 0\n",
        "  for row in grouped_on_sex.by_group['accuracy']:\n",
        "    if idx == 0:\n",
        "      tuned_privileged.append(row)\n",
        "      idx += 1\n",
        "    elif idx == 1:\n",
        "      tuned_unprivileged.append(row)\n",
        "  \n",
        "  print('Accuracy: ', grouped_on_sex.by_group['accuracy'])\n",
        "\n",
        "  train_pred_df = X_test.copy()\n",
        "  train_pred_df[target] = tuned_classified\n",
        "\n",
        "  pred_aif360 = StandardDataset(train_pred_df, label_name=target, protected_attribute_names=['SEX'],\n",
        "                                         privileged_classes=[[1]], favorable_classes=[1])\n",
        "  \n",
        "  pred_metrics = BinaryLabelDatasetMetric(pred_aif360,\n",
        "                                          unprivileged_groups=unprivileged_groups,\n",
        "                                          privileged_groups=privileged_groups)\n",
        "\n",
        "  print(\"Disparate Impact = %f\" % pred_metrics.disparate_impact()) # TODO: metric_train 같아도 되는지\n",
        "\n",
        "  FPRdiff = grouped_on_sex.by_group['FPR'].diff()[2.0]\n",
        "  print(\"False positive rate difference: %f\" % FPRdiff)\n",
        "\n",
        "  tuned_accuracies.append(accuracy)\n",
        "  tuned_disparate_impacts.append(pred_metrics.disparate_impact())\n",
        "  tuned_fpr.append(FPRdiff)"
      ],
      "execution_count": 11,
      "outputs": [
        {
          "output_type": "stream",
          "name": "stdout",
          "text": [
            "Accuracy:  0.8012857142857143\n",
            "Disparate Impact = 0.733803\n",
            "False positive rate difference: -0.066108\n",
            "Accuracy:  SEX\n",
            "1.0    0.794303\n",
            "2.0    0.809943\n",
            "Name: accuracy, dtype: object\n",
            "Disparate Impact = 0.676299\n",
            "False positive rate difference: -0.074456\n",
            "Accuracy:  0.8025714285714286\n",
            "Disparate Impact = 0.733803\n",
            "False positive rate difference: -0.061041\n",
            "Accuracy:  SEX\n",
            "1.0    0.797042\n",
            "2.0    0.811735\n",
            "Name: accuracy, dtype: object\n",
            "Disparate Impact = 0.676252\n",
            "False positive rate difference: -0.071340\n",
            "Accuracy:  0.8032857142857143\n",
            "Disparate Impact = 0.733803\n",
            "False positive rate difference: -0.058661\n",
            "Accuracy:  SEX\n",
            "1.0    0.800876\n",
            "2.0    0.812929\n",
            "Name: accuracy, dtype: object\n",
            "Disparate Impact = 0.677367\n",
            "False positive rate difference: -0.069380\n",
            "Accuracy:  0.8036428571428571\n",
            "Disparate Impact = 0.733803\n",
            "False positive rate difference: -0.066725\n",
            "Accuracy:  SEX\n",
            "1.0    0.799507\n",
            "2.0    0.811436\n",
            "Name: accuracy, dtype: object\n",
            "Disparate Impact = 0.674591\n",
            "False positive rate difference: -0.071040\n",
            "Accuracy:  0.8034285714285714\n",
            "Disparate Impact = 0.733803\n",
            "False positive rate difference: -0.059539\n",
            "Accuracy:  SEX\n",
            "1.0    0.801013\n",
            "2.0    0.813377\n",
            "Name: accuracy, dtype: object\n",
            "Disparate Impact = 0.692690\n",
            "False positive rate difference: -0.060992\n",
            "Accuracy:  0.8027142857142857\n",
            "Disparate Impact = 0.733803\n",
            "False positive rate difference: -0.057064\n",
            "Accuracy:  SEX\n",
            "1.0    0.800876\n",
            "2.0    0.811138\n",
            "Name: accuracy, dtype: object\n",
            "Disparate Impact = 0.697687\n",
            "False positive rate difference: -0.056613\n",
            "Accuracy:  0.8045714285714286\n",
            "Disparate Impact = 0.733803\n",
            "False positive rate difference: -0.063894\n",
            "Accuracy:  SEX\n",
            "1.0    0.800192\n",
            "2.0    0.815766\n",
            "Name: accuracy, dtype: object\n",
            "Disparate Impact = 0.689862\n",
            "False positive rate difference: -0.066376\n",
            "Accuracy:  0.8006428571428571\n",
            "Disparate Impact = 0.733803\n",
            "False positive rate difference: -0.061594\n",
            "Accuracy:  SEX\n",
            "1.0    0.798685\n",
            "2.0    0.813377\n",
            "Name: accuracy, dtype: object\n",
            "Disparate Impact = 0.694834\n",
            "False positive rate difference: -0.062716\n",
            "Accuracy:  0.8022857142857143\n",
            "Disparate Impact = 0.733803\n",
            "False positive rate difference: -0.066044\n",
            "Accuracy:  SEX\n",
            "1.0    0.800192\n",
            "2.0     0.81069\n",
            "Name: accuracy, dtype: object\n",
            "Disparate Impact = 0.686280\n",
            "False positive rate difference: -0.063562\n",
            "Accuracy:  0.801\n",
            "Disparate Impact = 0.733803\n",
            "False positive rate difference: -0.065128\n",
            "Accuracy:  SEX\n",
            "1.0    0.794851\n",
            "2.0    0.809047\n",
            "Name: accuracy, dtype: object\n",
            "Disparate Impact = 0.678124\n",
            "False positive rate difference: -0.070677\n"
          ]
        }
      ]
    },
    {
      "cell_type": "code",
      "source": [
        "plot_init_v_tuned_box(init_accuracies, tuned_accuracies, \"Accuracy\")\n",
        "plot_init_v_tuned_box(init_privileged, tuned_privileged, \"Accuracy for the privileged group\")\n",
        "plot_init_v_tuned_box(init_unprivileged, tuned_unprivileged, \"Accuracy for the unprivileged group\")\n",
        "plot_init_v_tuned_box(init_disparate_impacts, tuned_disparate_impacts, \"Disparate Impact\")\n",
        "plot_init_v_tuned_box(init_fpr, tuned_fpr, \"False positive rate difference\")"
      ],
      "metadata": {
        "colab": {
          "base_uri": "https://localhost:8080/",
          "height": 1000
        },
        "id": "jlSHSONEFfsr",
        "outputId": "7d252ef7-0c4c-4829-d2ca-996876777170"
      },
      "execution_count": 12,
      "outputs": [
        {
          "output_type": "stream",
          "name": "stderr",
          "text": [
            "WARNING:matplotlib.legend:No handles with labels found to put in legend.\n"
          ]
        },
        {
          "output_type": "display_data",
          "data": {
            "image/png": "[encoded data removed]",
            "text/plain": [
              "<Figure size 432x288 with 1 Axes>"
            ]
          },
          "metadata": {
            "needs_background": "light"
          }
        },
        {
          "output_type": "stream",
          "name": "stderr",
          "text": [
            "WARNING:matplotlib.legend:No handles with labels found to put in legend.\n"
          ]
        },
        {
          "output_type": "display_data",
          "data": {
            "image/png": "[encoded data removed]",
            "text/plain": [
              "<Figure size 432x288 with 1 Axes>"
            ]
          },
          "metadata": {
            "needs_background": "light"
          }
        },
        {
          "output_type": "stream",
          "name": "stderr",
          "text": [
            "WARNING:matplotlib.legend:No handles with labels found to put in legend.\n"
          ]
        },
        {
          "output_type": "display_data",
          "data": {
            "image/png": "[encoded data removed]",
            "text/plain": [
              "<Figure size 432x288 with 1 Axes>"
            ]
          },
          "metadata": {
            "needs_background": "light"
          }
        },
        {
          "output_type": "stream",
          "name": "stderr",
          "text": [
            "WARNING:matplotlib.legend:No handles with labels found to put in legend.\n"
          ]
        },
        {
          "output_type": "display_data",
          "data": {
            "image/png": "[encoded data removed]",
            "text/plain": [
              "<Figure size 432x288 with 1 Axes>"
            ]
          },
          "metadata": {
            "needs_background": "light"
          }
        },
        {
          "output_type": "stream",
          "name": "stderr",
          "text": [
            "WARNING:matplotlib.legend:No handles with labels found to put in legend.\n"
          ]
        },
        {
          "output_type": "display_data",
          "data": {
            "image/png": "[encoded data removed]",
            "text/plain": [
              "<Figure size 432x288 with 1 Axes>"
            ]
          },
          "metadata": {
            "needs_background": "light"
          }
        }
      ]
    },
    {
      "cell_type": "markdown",
      "metadata": {
        "id": "uKhDj-XJRUJL"
      },
      "source": [
        "# Problem 2, Part (c) \n",
        "### **Disparate Impact Pre-Processing intervention**"
      ]
    },
    {
      "cell_type": "code",
      "metadata": {
        "id": "8NToBvrQiWIz"
      },
      "source": [
        "def plot_repair_levels(repair_levels, metric_vals, metric_name, x_label='Repair level'):\n",
        "  '''Creates a line plot showing how the metric changed for different values of repair level'''\n",
        "\n",
        "  # Plot the metrics\n",
        "  plt.plot(repair_levels, metric_vals, color='#0384fc', linewidth=3, label=metric_name)\n",
        "\n",
        "  # Create labels, etc. \n",
        "  plt.xlabel(x_label)\n",
        "  plt.ylabel(metric_name)\n",
        "  plt.legend()\n",
        "  plt.show()"
      ],
      "execution_count": 13,
      "outputs": []
    },
    {
      "cell_type": "code",
      "source": [
        "di = DisparateImpactRemover(repair_level = 0.3)\n",
        "dataset_transf_train = di.fit_transform(dataset_orig)\n",
        "transformed = dataset_transf_train.convert_to_dataframe()[0]\n",
        "transformed.head()\n",
        "#dataset_orig.convert_to_dataframe()"
      ],
      "metadata": {
        "colab": {
          "base_uri": "https://localhost:8080/",
          "height": 206
        },
        "id": "SQZON4Mbw7Wk",
        "outputId": "619e9957-05f3-40f4-c02b-85cb885b9b66"
      },
      "execution_count": 14,
      "outputs": [
        {
          "output_type": "execute_result",
          "data": {
            "text/html": [
              "\n",
              "  <div id=\"df-030d5c93-909a-4902-aca8-605391fb7abe\">\n",
              "    <div class=\"colab-df-container\">\n",
              "      <div>\n",
              "<style scoped>\n",
              "    .dataframe tbody tr th:only-of-type {\n",
              "        vertical-align: middle;\n",
              "    }\n",
              "\n",
              "    .dataframe tbody tr th {\n",
              "        vertical-align: top;\n",
              "    }\n",
              "\n",
              "    .dataframe thead th {\n",
              "        text-align: right;\n",
              "    }\n",
              "</style>\n",
              "<table border=\"1\" class=\"dataframe\">\n",
              "  <thead>\n",
              "    <tr style=\"text-align: right;\">\n",
              "      <th></th>\n",
              "      <th>AGEP</th>\n",
              "      <th>COW</th>\n",
              "      <th>SCHL</th>\n",
              "      <th>MAR</th>\n",
              "      <th>OCCP</th>\n",
              "      <th>POBP</th>\n",
              "      <th>RELP</th>\n",
              "      <th>WKHP</th>\n",
              "      <th>SEX</th>\n",
              "      <th>PINCP</th>\n",
              "    </tr>\n",
              "  </thead>\n",
              "  <tbody>\n",
              "    <tr>\n",
              "      <th>0</th>\n",
              "      <td>44.0</td>\n",
              "      <td>1.0</td>\n",
              "      <td>1.0</td>\n",
              "      <td>1.0</td>\n",
              "      <td>4120.0</td>\n",
              "      <td>6.0</td>\n",
              "      <td>10.0</td>\n",
              "      <td>39.0</td>\n",
              "      <td>1.0</td>\n",
              "      <td>0.0</td>\n",
              "    </tr>\n",
              "    <tr>\n",
              "      <th>1</th>\n",
              "      <td>66.0</td>\n",
              "      <td>2.0</td>\n",
              "      <td>20.0</td>\n",
              "      <td>2.0</td>\n",
              "      <td>4720.0</td>\n",
              "      <td>42.0</td>\n",
              "      <td>0.0</td>\n",
              "      <td>32.0</td>\n",
              "      <td>2.0</td>\n",
              "      <td>0.0</td>\n",
              "    </tr>\n",
              "    <tr>\n",
              "      <th>2</th>\n",
              "      <td>72.0</td>\n",
              "      <td>6.0</td>\n",
              "      <td>18.0</td>\n",
              "      <td>1.0</td>\n",
              "      <td>10.0</td>\n",
              "      <td>6.0</td>\n",
              "      <td>1.0</td>\n",
              "      <td>8.0</td>\n",
              "      <td>2.0</td>\n",
              "      <td>1.0</td>\n",
              "    </tr>\n",
              "    <tr>\n",
              "      <th>3</th>\n",
              "      <td>53.0</td>\n",
              "      <td>1.0</td>\n",
              "      <td>21.0</td>\n",
              "      <td>1.0</td>\n",
              "      <td>1440.0</td>\n",
              "      <td>457.0</td>\n",
              "      <td>0.0</td>\n",
              "      <td>39.0</td>\n",
              "      <td>1.0</td>\n",
              "      <td>1.0</td>\n",
              "    </tr>\n",
              "    <tr>\n",
              "      <th>4</th>\n",
              "      <td>55.0</td>\n",
              "      <td>1.0</td>\n",
              "      <td>16.0</td>\n",
              "      <td>1.0</td>\n",
              "      <td>205.0</td>\n",
              "      <td>6.0</td>\n",
              "      <td>1.0</td>\n",
              "      <td>39.0</td>\n",
              "      <td>1.0</td>\n",
              "      <td>0.0</td>\n",
              "    </tr>\n",
              "  </tbody>\n",
              "</table>\n",
              "</div>\n",
              "      <button class=\"colab-df-convert\" onclick=\"convertToInteractive('df-030d5c93-909a-4902-aca8-605391fb7abe')\"\n",
              "              title=\"Convert this dataframe to an interactive table.\"\n",
              "              style=\"display:none;\">\n",
              "        \n",
              "  <svg xmlns=\"http://www.w3.org/2000/svg\" height=\"24px\"viewBox=\"0 0 24 24\"\n",
              "       width=\"24px\">\n",
              "    <path d=\"M0 0h24v24H0V0z\" fill=\"none\"/>\n",
              "    <path d=\"M18.56 5.44l.94 2.06.94-2.06 2.06-.94-2.06-.94-.94-2.06-.94 2.06-2.06.94zm-11 1L8.5 8.5l.94-2.06 2.06-.94-2.06-.94L8.5 2.5l-.94 2.06-2.06.94zm10 10l.94 2.06.94-2.06 2.06-.94-2.06-.94-.94-2.06-.94 2.06-2.06.94z\"/><path d=\"M17.41 7.96l-1.37-1.37c-.4-.4-.92-.59-1.43-.59-.52 0-1.04.2-1.43.59L10.3 9.45l-7.72 7.72c-.78.78-.78 2.05 0 2.83L4 21.41c.39.39.9.59 1.41.59.51 0 1.02-.2 1.41-.59l7.78-7.78 2.81-2.81c.8-.78.8-2.07 0-2.86zM5.41 20L4 18.59l7.72-7.72 1.47 1.35L5.41 20z\"/>\n",
              "  </svg>\n",
              "      </button>\n",
              "      \n",
              "  <style>\n",
              "    .colab-df-container {\n",
              "      display:flex;\n",
              "      flex-wrap:wrap;\n",
              "      gap: 12px;\n",
              "    }\n",
              "\n",
              "    .colab-df-convert {\n",
              "      background-color: #E8F0FE;\n",
              "      border: none;\n",
              "      border-radius: 50%;\n",
              "      cursor: pointer;\n",
              "      display: none;\n",
              "      fill: #1967D2;\n",
              "      height: 32px;\n",
              "      padding: 0 0 0 0;\n",
              "      width: 32px;\n",
              "    }\n",
              "\n",
              "    .colab-df-convert:hover {\n",
              "      background-color: #E2EBFA;\n",
              "      box-shadow: 0px 1px 2px rgba(60, 64, 67, 0.3), 0px 1px 3px 1px rgba(60, 64, 67, 0.15);\n",
              "      fill: #174EA6;\n",
              "    }\n",
              "\n",
              "    [theme=dark] .colab-df-convert {\n",
              "      background-color: #3B4455;\n",
              "      fill: #D2E3FC;\n",
              "    }\n",
              "\n",
              "    [theme=dark] .colab-df-convert:hover {\n",
              "      background-color: #434B5C;\n",
              "      box-shadow: 0px 1px 3px 1px rgba(0, 0, 0, 0.15);\n",
              "      filter: drop-shadow(0px 1px 2px rgba(0, 0, 0, 0.3));\n",
              "      fill: #FFFFFF;\n",
              "    }\n",
              "  </style>\n",
              "\n",
              "      <script>\n",
              "        const buttonEl =\n",
              "          document.querySelector('#df-030d5c93-909a-4902-aca8-605391fb7abe button.colab-df-convert');\n",
              "        buttonEl.style.display =\n",
              "          google.colab.kernel.accessAllowed ? 'block' : 'none';\n",
              "\n",
              "        async function convertToInteractive(key) {\n",
              "          const element = document.querySelector('#df-030d5c93-909a-4902-aca8-605391fb7abe');\n",
              "          const dataTable =\n",
              "            await google.colab.kernel.invokeFunction('convertToInteractive',\n",
              "                                                     [key], {});\n",
              "          if (!dataTable) return;\n",
              "\n",
              "          const docLinkHtml = 'Like what you see? Visit the ' +\n",
              "            '<a target=\"_blank\" href=https://colab.research.google.com/notebooks/data_table.ipynb>data table notebook</a>'\n",
              "            + ' to learn more about interactive tables.';\n",
              "          element.innerHTML = '';\n",
              "          dataTable['output_type'] = 'display_data';\n",
              "          await google.colab.output.renderOutput(dataTable, element);\n",
              "          const docLink = document.createElement('div');\n",
              "          docLink.innerHTML = docLinkHtml;\n",
              "          element.appendChild(docLink);\n",
              "        }\n",
              "      </script>\n",
              "    </div>\n",
              "  </div>\n",
              "  "
            ],
            "text/plain": [
              "   AGEP  COW  SCHL  MAR    OCCP   POBP  RELP  WKHP  SEX  PINCP\n",
              "0  44.0  1.0   1.0  1.0  4120.0    6.0  10.0  39.0  1.0    0.0\n",
              "1  66.0  2.0  20.0  2.0  4720.0   42.0   0.0  32.0  2.0    0.0\n",
              "2  72.0  6.0  18.0  1.0    10.0    6.0   1.0   8.0  2.0    1.0\n",
              "3  53.0  1.0  21.0  1.0  1440.0  457.0   0.0  39.0  1.0    1.0\n",
              "4  55.0  1.0  16.0  1.0   205.0    6.0   1.0  39.0  1.0    0.0"
            ]
          },
          "metadata": {},
          "execution_count": 14
        }
      ]
    },
    {
      "cell_type": "markdown",
      "source": [
        "### Apply pre-processing techniques to the dataset, then re-train the models with the optimal hyperparameters from part **b**"
      ],
      "metadata": {
        "id": "xOzr7aximZVH"
      }
    },
    {
      "cell_type": "code",
      "source": [
        "#YOUR CODE HERE\n",
        "from sklearn.model_selection import train_test_split\n",
        "\n",
        "# 5 metrics\n",
        "accuracies = []\n",
        "accuracies_privileged = []\n",
        "accuracies_unprivileged = []\n",
        "disparate_impacts = []\n",
        "FPRdiffenrences = []\n",
        "\n",
        "def test_disparate_impact_remover(repair_level):\n",
        "  # preprocessing\n",
        "  di = DisparateImpactRemover(repair_level = repair_level)\n",
        "  dataset_transf_train = di.fit_transform(dataset_orig)\n",
        "  transformed = dataset_transf_train.convert_to_dataframe()[0]\n",
        "  transformed.head()\n",
        "\n",
        "  #print(transformed['SEX'])\n",
        "  \n",
        "  X_trans = transformed.drop([target], axis = 1)\n",
        "  y_trans = transformed[target]\n",
        "  \n",
        "  # TODO check split to validation set?\n",
        "  X_trans_train, X_trans_test, y_trans_train, y_trans_test = train_test_split(X_trans, y_trans, test_size=0.2, random_state=0)\n",
        "  \n",
        "  clf = RandomForestClassifier(max_depth=10, n_estimators=15)\n",
        "  clf.fit(X_trans_train, y_trans_train)\n",
        "  y_predict = clf.predict(X_trans_test)\n",
        "  \n",
        "  # metrics\n",
        "  accuracy = accuracy_score(y_trans_test, y_predict)\n",
        "  #print(\"Accuracy = %f\" % accuracy)\n",
        "  accuracies.append(accuracy)\n",
        "  \n",
        "  metric_fns = {'FPR': false_positive_rate,\n",
        "                'accuracy': accuracy_score}\n",
        "                \n",
        "  grouped_on_sex = MetricFrame(metric_fns,\n",
        "                               y_trans_test, y_predict,\n",
        "                               sensitive_features = X_test['SEX'])\n",
        "  \n",
        "  idx = 0\n",
        "  for row in grouped_on_sex.by_group['accuracy']:\n",
        "    if idx == 0:\n",
        "      accuracies_privileged.append(row)\n",
        "      idx += 1\n",
        "    elif idx == 1:\n",
        "      accuracies_unprivileged.append(row)\n",
        "  \n",
        "  print(grouped_on_sex.by_group['accuracy'])\n",
        "  \n",
        "  # convert this dataframe into an aif360 dataset\n",
        "  # transformed_aif = BinaryLabelDataset(\n",
        "  #     favorable_label=1,\n",
        "  #     unfavorable_label=0,\n",
        "  #     df=full_df,\n",
        "  #     label_names=[target],\n",
        "  #     protected_attribute_names=[protected_attr]\n",
        "  #     )\n",
        "  # privileged_groups = [{protected_attr:1}]\n",
        "  # unprivileged_groups = [{protected_attr:2}]\n",
        "\n",
        "  trans_pred_df = X_trans_test.copy()\n",
        "  trans_pred_df[target] = y_predict\n",
        "\n",
        "  pred_aif360 = StandardDataset(trans_pred_df, label_name=target, protected_attribute_names=['SEX'],\n",
        "                                privileged_classes=[[1]], favorable_classes=[1])\n",
        "  \n",
        "  pred_metrics = BinaryLabelDatasetMetric(pred_aif360,\n",
        "                                          unprivileged_groups=unprivileged_groups,\n",
        "                                          privileged_groups=privileged_groups)\n",
        "\n",
        "  # TODO check metric trans..??\n",
        "  # metric_trans = BinaryLabelDatasetMetric(\n",
        "  #     transformed_aif,\n",
        "  #     unprivileged_groups=unprivileged_groups,\n",
        "  #     privileged_groups=privileged_groups\n",
        "  #     )\n",
        "  #print(\"Disparate Impact = %f \" % metric_trans.disparate_impact())\n",
        "  disparate_impacts.append(pred_metrics.disparate_impact())\n",
        "  \n",
        "  FPRdiff = grouped_on_sex.by_group['FPR'].diff()[2.0]\n",
        "  FPRdiffenrences.append(FPRdiff)\n",
        "  #print(\"False positive rate difference: %f \" % FPRdiff)\n",
        "\n",
        "\n",
        "\n",
        "repair_levels = [0.0, 0.3, 0.5, 0.7, 1.]\n",
        "\n",
        "for rl in repair_levels:\n",
        "  test_disparate_impact_remover(rl)\n",
        "\n",
        "plot_repair_levels(repair_levels, accuracies, 'Accuracy')\n",
        "plot_repair_levels(repair_levels, accuracies_privileged, 'Accuracy for the privileged group')\n",
        "plot_repair_levels(repair_levels, accuracies_unprivileged, 'Accuracy for the unprivileged group')\n",
        "plot_repair_levels(repair_levels, disparate_impacts, 'Disparate Impact')\n",
        "plot_repair_levels(repair_levels, FPRdiffenrences, 'False Positive difference')"
      ],
      "metadata": {
        "id": "P9Hu35jTgc3J",
        "colab": {
          "base_uri": "https://localhost:8080/",
          "height": 1000
        },
        "outputId": "564a8ef8-6ba1-433f-f583-122b000012d8"
      },
      "execution_count": 15,
      "outputs": [
        {
          "output_type": "stream",
          "name": "stdout",
          "text": [
            "SEX\n",
            "1.0    0.809915\n",
            "2.0    0.815766\n",
            "Name: accuracy, dtype: object\n",
            "SEX\n",
            "1.0    0.811148\n",
            "2.0    0.813526\n",
            "Name: accuracy, dtype: object\n",
            "SEX\n",
            "1.0    0.811148\n",
            "2.0    0.816064\n",
            "Name: accuracy, dtype: object\n",
            "SEX\n",
            "1.0    0.810463\n",
            "2.0    0.818005\n",
            "Name: accuracy, dtype: object\n",
            "SEX\n",
            "1.0    0.807998\n",
            "2.0    0.816214\n",
            "Name: accuracy, dtype: object\n"
          ]
        },
        {
          "output_type": "display_data",
          "data": {
            "image/png": "[encoded data removed]",
            "text/plain": [
              "<Figure size 432x288 with 1 Axes>"
            ]
          },
          "metadata": {
            "needs_background": "light"
          }
        },
        {
          "output_type": "display_data",
          "data": {
            "image/png": "[encoded data removed]",
            "text/plain": [
              "<Figure size 432x288 with 1 Axes>"
            ]
          },
          "metadata": {
            "needs_background": "light"
          }
        },
        {
          "output_type": "display_data",
          "data": {
            "image/png": "[encoded data removed]",
            "text/plain": [
              "<Figure size 432x288 with 1 Axes>"
            ]
          },
          "metadata": {
            "needs_background": "light"
          }
        },
        {
          "output_type": "display_data",
          "data": {
            "image/png": "[encoded data removed]",
            "text/plain": [
              "<Figure size 432x288 with 1 Axes>"
            ]
          },
          "metadata": {
            "needs_background": "light"
          }
        },
        {
          "output_type": "display_data",
          "data": {
            "image/png": "[encoded data removed]",
            "text/plain": [
              "<Figure size 432x288 with 1 Axes>"
            ]
          },
          "metadata": {
            "needs_background": "light"
          }
        }
      ]
    },
    {
      "cell_type": "markdown",
      "source": [
        "# Problem 2, Part (d) \n",
        "### **Prejudice Remover In-Processing intervention**\n",
        "\n"
      ],
      "metadata": {
        "id": "gu1xtZ6ExCdU"
      }
    },
    {
      "cell_type": "markdown",
      "source": [
        "### Fit new models using the Prejudice Remover technique"
      ],
      "metadata": {
        "id": "f3oBrlsSncYr"
      }
    },
    {
      "cell_type": "code",
      "source": [
        "from aif360.algorithms import preprocessing\n",
        "#YOUR CODE HERE\n",
        "\n",
        "X_train, y_train = splitted_X_trains[0], splitted_y_trains[0]\n",
        "X_test, y_test = splitted_X_tests[0], splitted_y_tests[0]\n",
        "\n",
        "etas = [0.01, 0.1, 1]\n",
        "\n",
        "pr = PrejudiceRemover(eta=0.01)\n",
        "\n",
        "# convert this dataframe into an aif360 dataset\n",
        "train_data = X_train.copy()\n",
        "train_data[target] = y_train\n",
        "\n",
        "train_aif360 = StandardDataset(train_data, label_name=target, protected_attribute_names=['SEX'],\n",
        "                               privileged_classes=[[1]], favorable_classes=[1])\n",
        "\n",
        "test_data = X_test.copy()\n",
        "test_data[target] = y_test\n",
        "test_aif360 = StandardDataset(test_data, label_name=target, protected_attribute_names=['SEX'],\n",
        "                              privileged_classes=[[1]], favorable_classes=[1])\n",
        "\n",
        "train_metrics = BinaryLabelDatasetMetric(train_aif360,\n",
        "                                         unprivileged_groups=unprivileged_groups,\n",
        "                                         privileged_groups=privileged_groups)\n",
        "\n",
        "pr = pr.fit(train_aif360)\n",
        "y_pred = pr.predict(test_aif360)\n",
        "\n",
        "test_metrics = BinaryLabelDatasetMetric(y_pred,\n",
        "                                        unprivileged_groups=unprivileged_groups,\n",
        "                                        privileged_groups=privileged_groups)\n",
        "\n",
        "\n",
        "print(test_metrics.disparate_impact())\n",
        "\n",
        "y_pred_df, _ = y_pred.convert_to_dataframe()\n",
        "accuracy = accuracy_score(y_test, y_pred_df[target])\n",
        "print('Accuracy: ', accuracy)\n",
        "\n",
        "metrics = BinaryLabelDatasetMetric(test_aif360,\n",
        "                                   unprivileged_groups=unprivileged_groups,\n",
        "                                   privileged_groups=privileged_groups)\n",
        "print('Disparate Impact: %f' % metrics.disparate_impact())\n",
        "\n",
        "\n",
        "\n",
        "\n",
        "\n",
        "# metric_fns = {'FPR': false_positive_rate,\n",
        "#               'accuracy': accuracy_score}\n",
        "\n",
        "# metric = MetricFrame(metric_fns,\n",
        "#                      y_test, classified)\n",
        "\n",
        "# dt_transformed_pr = pr.fit(train_orig)\n",
        "# transformed_df = dt_transformed_pr.convert_to_dataframe()[0]\n",
        "# transformed_df.head()\n",
        "\n",
        "# grouped_on_sex = MetricFrame({'accuracy': accuracy},\n",
        "#                              test_)\n",
        "\n",
        "\n",
        "# metrics\n",
        "#   accuracy = accuracy_score(y_test, y_predict)\n",
        "#   #print(\"Accuracy = %f\" % accuracy)\n",
        "#   accuracies.append(accuracy)\n",
        "  \n",
        "#   metric_fns = {'FPR': false_positive_rate,\n",
        "#                 'accuracy': accuracy_score}\n",
        "                \n",
        "#   grouped_on_sex = MetricFrame(metric_fns,\n",
        "#                                y_trans_test, y_predict,\n",
        "#                                sensitive_features = X_test['SEX'])\n",
        "  \n",
        "#   print(grouped_on_sex.by_group['accuracy'])\n",
        "  \n",
        "#   # convert this dataframe into an aif360 dataset\n",
        "#   transformed_aif = BinaryLabelDataset(\n",
        "#       favorable_label=1,\n",
        "#       unfavorable_label=0,\n",
        "#       df=full_df,\n",
        "#       label_names=[target],\n",
        "#       protected_attribute_names=[protected_attr]\n",
        "#       )\n",
        "#   privileged_groups = [{protected_attr:1}]\n",
        "#   unprivileged_groups = [{protected_attr:2}]\n",
        "\n",
        "\n",
        "#   # TODO check metric trans..??\n",
        "#   metric_trans = BinaryLabelDatasetMetric(\n",
        "#       transformed_aif,\n",
        "#       unprivileged_groups=unprivileged_groups,\n",
        "#       privileged_groups=privileged_groups\n",
        "#       )\n",
        "#   #print(\"Disparate Impact = %f \" % metric_trans.disparate_impact())\n",
        "#   disparate_impacts.append(metric_trans.disparate_impact())\n",
        "\n",
        "\n",
        "\n",
        "\n",
        "# from aif360.algorithms.inprocessing import PrejudiceRemover\n",
        "# pr = PrejudiceRemover(eta=100.0)\n",
        "# dt_train.features = preprocessing.fit_transform(dt_train.features)\n",
        "# dt_test.features = preprocessing.transform(dt_test.features)\n",
        "# pr.fit(dt_train);\n",
        "# y_pred = pr.predict(dt_test).scores >= 0.5\n",
        "\n",
        "\n",
        "\n",
        "# di = DisparateImpactRemover(repair_level = repair_level)\n",
        "#   dataset_transf_train = di.fit_transform(dataset_orig)\n",
        "#   transformed = dataset_transf_train.convert_to_dataframe()[0]\n",
        "#   transformed.head()\n",
        "\n",
        "#   #print(transformed['SEX'])\n",
        "  \n",
        "#   X_trans = transformed.drop([target], axis = 1)\n",
        "#   y_trans = transformed[target]\n",
        "  \n",
        "#   # TODO check split to validation set?\n",
        "#   X_trans_train, X_trans_test, y_trans_train, y_trans_test = train_test_split(X_trans, y_trans, test_size=0.2, random_state=0)\n",
        "  \n",
        "#   clf = RandomForestClassifier()\n",
        "#   clf.fit(X_trans_train, y_trans_train)\n",
        "#   y_predict = clf.predict(X_trans_test)\n",
        "  \n",
        "#   # metrics\n",
        "#   accuracy = accuracy_score(y_test, y_predict)\n",
        "#   #print(\"Accuracy = %f\" % accuracy)\n",
        "#   accuracies.append(accuracy)\n",
        "  \n",
        "#   metric_fns = {'FPR': false_positive_rate,\n",
        "#                 'accuracy': accuracy_score}\n",
        "                \n",
        "#   grouped_on_sex = MetricFrame(metric_fns,\n",
        "#                                y_trans_test, y_predict,\n",
        "#                                sensitive_features = X_test['SEX'])\n",
        "  \n",
        "#   print(grouped_on_sex.by_group['accuracy'])\n",
        "  \n",
        "#   # convert this dataframe into an aif360 dataset\n",
        "#   transformed_aif = BinaryLabelDataset(\n",
        "#       favorable_label=1,\n",
        "#       unfavorable_label=0,\n",
        "#       df=full_df,\n",
        "#       label_names=[target],\n",
        "#       protected_attribute_names=[protected_attr]\n",
        "#       )\n",
        "#   privileged_groups = [{protected_attr:1}]\n",
        "#   unprivileged_groups = [{protected_attr:2}]\n",
        "\n",
        "\n",
        "#   # TODO check metric trans..??\n",
        "#   metric_trans = BinaryLabelDatasetMetric(\n",
        "#       transformed_aif,\n",
        "#       unprivileged_groups=unprivileged_groups,\n",
        "#       privileged_groups=privileged_groups\n",
        "#       )\n",
        "#   #print(\"Disparate Impact = %f \" % metric_trans.disparate_impact())\n",
        "#   disparate_impacts.append(metric_trans.disparate_impact())\n",
        "  \n",
        "#   FPRdiff = grouped_on_sex.by_group['FPR'].diff()[2.0]\n",
        "#   FPRdiffenrences.append(FPRdiff)\n",
        "#   #print(\"False positive rate difference: %f \" % FPRdiff)"
      ],
      "metadata": {
        "id": "NiejOOrrfEiG",
        "colab": {
          "base_uri": "https://localhost:8080/"
        },
        "outputId": "6baa1d7c-480e-44a5-ace5-648ac028a140"
      },
      "execution_count": 17,
      "outputs": [
        {
          "output_type": "stream",
          "name": "stdout",
          "text": [
            "0.632559726416353\n",
            "Accuracy:  0.7482142857142857\n",
            "Disparate Impact: 0.733803\n"
          ]
        }
      ]
    },
    {
      "cell_type": "code",
      "source": [
        "y_pred"
      ],
      "metadata": {
        "colab": {
          "base_uri": "https://localhost:8080/"
        },
        "id": "bw3t-b35bUFF",
        "outputId": "4dc5336b-e61b-4f8e-a747-e16d70b6d69c"
      },
      "execution_count": 35,
      "outputs": [
        {
          "output_type": "execute_result",
          "data": {
            "text/plain": [
              "               instance weights features       ...                           labels\n",
              "                                               ...       protected attribute       \n",
              "                                    AGEP  COW  ...  WKHP                 SEX       \n",
              "instance names                                 ...                                 \n",
              "55545                       1.0     22.0  4.0  ...  40.0                 2.0    0.0\n",
              "608                         1.0     67.0  2.0  ...  50.0                 1.0    1.0\n",
              "23540                       1.0     43.0  1.0  ...  55.0                 1.0    1.0\n",
              "37928                       1.0     62.0  7.0  ...  40.0                 1.0    0.0\n",
              "58789                       1.0     81.0  4.0  ...  40.0                 2.0    0.0\n",
              "...                         ...      ...  ...  ...   ...                 ...    ...\n",
              "21243                       1.0     49.0  7.0  ...  60.0                 1.0    1.0\n",
              "45891                       1.0     56.0  1.0  ...  40.0                 1.0    1.0\n",
              "42613                       1.0     42.0  5.0  ...  40.0                 2.0    1.0\n",
              "43567                       1.0     44.0  1.0  ...  40.0                 2.0    0.0\n",
              "68268                       1.0     49.0  1.0  ...  40.0                 1.0    1.0\n",
              "\n",
              "[14000 rows x 11 columns]"
            ]
          },
          "metadata": {},
          "execution_count": 35
        }
      ]
    },
    {
      "cell_type": "code",
      "source": [
        "test_aif360"
      ],
      "metadata": {
        "id": "BklYcfn8KJOa",
        "outputId": "e1210e69-d6f8-4bb1-965a-bcefae21c2fb",
        "colab": {
          "base_uri": "https://localhost:8080/"
        }
      },
      "execution_count": 36,
      "outputs": [
        {
          "output_type": "execute_result",
          "data": {
            "text/plain": [
              "               instance weights features       ...                           labels\n",
              "                                               ...       protected attribute       \n",
              "                                    AGEP  COW  ...  WKHP                 SEX       \n",
              "instance names                                 ...                                 \n",
              "55545                       1.0     22.0  4.0  ...  40.0                 2.0    0.0\n",
              "608                         1.0     67.0  2.0  ...  50.0                 1.0    1.0\n",
              "23540                       1.0     43.0  1.0  ...  55.0                 1.0    1.0\n",
              "37928                       1.0     62.0  7.0  ...  40.0                 1.0    0.0\n",
              "58789                       1.0     81.0  4.0  ...  40.0                 2.0    1.0\n",
              "...                         ...      ...  ...  ...   ...                 ...    ...\n",
              "21243                       1.0     49.0  7.0  ...  60.0                 1.0    1.0\n",
              "45891                       1.0     56.0  1.0  ...  40.0                 1.0    1.0\n",
              "42613                       1.0     42.0  5.0  ...  40.0                 2.0    0.0\n",
              "43567                       1.0     44.0  1.0  ...  40.0                 2.0    1.0\n",
              "68268                       1.0     49.0  1.0  ...  40.0                 1.0    1.0\n",
              "\n",
              "[14000 rows x 11 columns]"
            ]
          },
          "metadata": {},
          "execution_count": 36
        }
      ]
    },
    {
      "cell_type": "markdown",
      "source": [
        ""
      ],
      "metadata": {
        "id": "177aO68UKIVr"
      }
    },
    {
      "cell_type": "markdown",
      "metadata": {
        "id": "v6Mgr2iiLb_k"
      },
      "source": [
        "# Problem 2, Part (e) \n",
        "### **Reject Option Post-Processing intervention**"
      ]
    },
    {
      "cell_type": "markdown",
      "source": [
        "### Using the same random forest models as before, apply the post-processing technique to your results and compare"
      ],
      "metadata": {
        "id": "ZvbKbKM1nuLY"
      }
    },
    {
      "cell_type": "code",
      "source": [
        "#YOUR CODE HERE\n",
        "import aif360.algorithms.postprocessing\n",
        "\n",
        "for i in range(0, SPLITS):\n",
        "  X_train, y_train = splitted_X_trains[i], splitted_y_trains[i]\n",
        "  X_val, y_val = splitted_X_vals[i], splitted_y_vals[i]\n",
        "  #X_test, y_test = splitted_X_tests[i], splitted_y_tests[i]\n",
        "\n",
        "  clf = RandomForestClassifier(max_depth=10, n_estimators=15)\n",
        "  clf.fit(X_train, y_train)\n",
        "  y_pred = clf.predict(X_val)\n",
        "\n",
        "  # train_data = X_train.copy()\n",
        "  # train_data[target] = y_train\n",
        "  # train_aif360 = StandardDataset(train_data, label_name=target, protected_attribute_names=['SEX'],\n",
        "  #                                privileged_classes=[[1]], favorable_classes=[1])\n",
        "\n",
        "  val_data_orig = X_val.copy()\n",
        "  val_data_orig[target] = y_val\n",
        "  val_orig_aif360 = StandardDataset(val_data_orig, label_name=target, protected_attribute_names=['SEX'],\n",
        "                                     privileged_classes=[[1]], favorable_classes=[1])\n",
        "  \n",
        "  val_data_pred = X_val.copy()\n",
        "  val_data_pred[target] = y_pred\n",
        "  val_pred_aif360 = StandardDataset(val_data_pred, label_name=target, protected_attribute_names=['SEX'],\n",
        "                               privileged_classes=[[1]], favorable_classes=[1])\n",
        "  \n",
        "  roc = RejectOptionClassification(\n",
        "      unprivileged_groups=unprivileged_groups,\n",
        "      privileged_groups=privileged_groups\n",
        "  )\n",
        "\n",
        "  roc.fit(val_orig_aif360, val_pred_aif360)\n",
        "\n",
        "  # test data for prediction?\n",
        "  test_data = X_test.copy()\n",
        "  test_data[target] = y_test\n",
        "  test_aif360 = StandardDataset(test_data, label_name=target, protected_attribute_names=['SEX'],\n",
        "                                privileged_classes=[[1]], favorable_classes=[1])\n",
        "  predicted_aif360 = roc.predict(test_aif360)\n",
        "\n",
        "  # accuracy\n",
        "  predicted_aif360_df, _ = predicted_aif360.convert_to_dataframe()\n",
        "  accuracy = accuracy_score(y_test, predicted_aif360_df[target])\n",
        "  print('Accuracy: ', accuracy)\n",
        "\n",
        "  # Accuracy for the privileged/unprivileged group\n",
        "  metric_fns = {'FPR': false_positive_rate,\n",
        "                'accuracy': accuracy_score}\n",
        "  \n",
        "  grouped_on_sex = MetricFrame(metric_fns,\n",
        "                               y_test, predicted_aif360_df[target],\n",
        "                               sensitive_features=X_test['SEX'])\n",
        "  \n",
        "  idx = 0\n",
        "  for row in grouped_on_sex.by_group['accuracy']:\n",
        "    if idx == 0:\n",
        "      print('Accuracy for the privileged group: ', row)\n",
        "      idx += 1\n",
        "    elif idx == 1:\n",
        "      print('Accuracy for the unprivileged group: ', row)\n",
        "    \n",
        "  # Disparate Impact\n",
        "  metrics = BinaryLabelDatasetMetric(test_aif360,\n",
        "                                     unprivileged_groups=unprivileged_groups,\n",
        "                                     privileged_groups=privileged_groups)\n",
        "  print('Disparate Impact: %f ' % metrics.disparate_impact())\n",
        "\n",
        "  # False positive rate difference\n",
        "  FPRdiff = grouped_on_sex.by_group['FPR'].diff()[2.0]\n",
        "  print('False positive rate difference: ', FPRdiff)\n",
        "\n",
        "\n",
        "\n",
        "  \n",
        "\n",
        "\n",
        "  \n",
        "\n",
        "  \n",
        "  \n",
        "\n",
        "\n",
        "\n",
        "\n",
        "\n",
        "\n",
        "\n",
        "# train_data = X_train.copy()\n",
        "# train_data[target] = y_train\n",
        "\n",
        "# train_aif360 = StandardDataset(train_data, label_name=target, protected_attribute_names=['SEX'],\n",
        "#                                privileged_classes=[[1]], favorable_classes=[1])\n",
        "\n",
        "# test_data = X_test.copy()\n",
        "# test_data[target] = y_test\n",
        "# test_aif360 = StandardDataset(test_data, label_name=target, protected_attribute_names=['SEX'],\n",
        "#                               privileged_classes=[[1]], favorable_classes=[1])\n",
        "\n",
        "# roc = RejectOptionClassification(\n",
        "#     unprivileged_groups=unprivileged_groups,\n",
        "#     privileged_groups=privileged_groups\n",
        "# )\n",
        "\n",
        "# roc.fit(train_aif360) # document fit인데 prediction이 어떻게 들어감???\n",
        "# y_pred = pr.predict(test_aif360)\n",
        "\n",
        "# roc.classification_threshold = 0.5\n",
        "# roc.ROC_margin = 0.15\n",
        "\n",
        "\n",
        "\n",
        "\n",
        "# from aif360.algorithms.postprocessing import (\n",
        "#     RejectOptionClassification\n",
        "# )\n",
        "# ROC = RejectOptionClassification(**privileged_groups_params)\n",
        "# ROC.classification_threshold = 0.5\n",
        "# ROC.ROC_margin = 0.15\n",
        "# dt_test.scores = y_prob.reshape(-1, 1)\n",
        "# y_pred = ROC.predict(dt_test).labels"
      ],
      "metadata": {
        "id": "RK6qmQ_-3MTD",
        "colab": {
          "base_uri": "https://localhost:8080/"
        },
        "outputId": "e3300132-02bc-4c65-833e-f5f6502d466b"
      },
      "execution_count": 24,
      "outputs": [
        {
          "output_type": "stream",
          "name": "stderr",
          "text": [
            "/usr/local/lib/python3.7/dist-packages/aif360/algorithms/postprocessing/reject_option_classification.py:160: UserWarning: Unable to satisy fairness constraints\n",
            "  warn(\"Unable to satisy fairness constraints\")\n"
          ]
        },
        {
          "output_type": "stream",
          "name": "stdout",
          "text": [
            "Accuracy:  1.0\n",
            "Accuracy for the privileged group:  1.0\n",
            "Accuracy for the unprivileged group:  1.0\n",
            "Disparate Impact: 0.733803 \n",
            "False positive rate difference:  0.0\n"
          ]
        },
        {
          "output_type": "stream",
          "name": "stderr",
          "text": [
            "/usr/local/lib/python3.7/dist-packages/aif360/algorithms/postprocessing/reject_option_classification.py:160: UserWarning: Unable to satisy fairness constraints\n",
            "  warn(\"Unable to satisy fairness constraints\")\n"
          ]
        },
        {
          "output_type": "stream",
          "name": "stdout",
          "text": [
            "Accuracy:  1.0\n",
            "Accuracy for the privileged group:  1.0\n",
            "Accuracy for the unprivileged group:  1.0\n",
            "Disparate Impact: 0.733803 \n",
            "False positive rate difference:  0.0\n"
          ]
        },
        {
          "output_type": "stream",
          "name": "stderr",
          "text": [
            "/usr/local/lib/python3.7/dist-packages/aif360/algorithms/postprocessing/reject_option_classification.py:160: UserWarning: Unable to satisy fairness constraints\n",
            "  warn(\"Unable to satisy fairness constraints\")\n"
          ]
        },
        {
          "output_type": "stream",
          "name": "stdout",
          "text": [
            "Accuracy:  1.0\n",
            "Accuracy for the privileged group:  1.0\n",
            "Accuracy for the unprivileged group:  1.0\n",
            "Disparate Impact: 0.733803 \n",
            "False positive rate difference:  0.0\n"
          ]
        },
        {
          "output_type": "stream",
          "name": "stderr",
          "text": [
            "/usr/local/lib/python3.7/dist-packages/aif360/algorithms/postprocessing/reject_option_classification.py:160: UserWarning: Unable to satisy fairness constraints\n",
            "  warn(\"Unable to satisy fairness constraints\")\n"
          ]
        },
        {
          "output_type": "stream",
          "name": "stdout",
          "text": [
            "Accuracy:  1.0\n",
            "Accuracy for the privileged group:  1.0\n",
            "Accuracy for the unprivileged group:  1.0\n",
            "Disparate Impact: 0.733803 \n",
            "False positive rate difference:  0.0\n"
          ]
        },
        {
          "output_type": "stream",
          "name": "stderr",
          "text": [
            "/usr/local/lib/python3.7/dist-packages/aif360/algorithms/postprocessing/reject_option_classification.py:160: UserWarning: Unable to satisy fairness constraints\n",
            "  warn(\"Unable to satisy fairness constraints\")\n"
          ]
        },
        {
          "output_type": "stream",
          "name": "stdout",
          "text": [
            "Accuracy:  1.0\n",
            "Accuracy for the privileged group:  1.0\n",
            "Accuracy for the unprivileged group:  1.0\n",
            "Disparate Impact: 0.733803 \n",
            "False positive rate difference:  0.0\n"
          ]
        },
        {
          "output_type": "stream",
          "name": "stderr",
          "text": [
            "/usr/local/lib/python3.7/dist-packages/aif360/algorithms/postprocessing/reject_option_classification.py:160: UserWarning: Unable to satisy fairness constraints\n",
            "  warn(\"Unable to satisy fairness constraints\")\n"
          ]
        },
        {
          "output_type": "stream",
          "name": "stdout",
          "text": [
            "Accuracy:  1.0\n",
            "Accuracy for the privileged group:  1.0\n",
            "Accuracy for the unprivileged group:  1.0\n",
            "Disparate Impact: 0.733803 \n",
            "False positive rate difference:  0.0\n"
          ]
        },
        {
          "output_type": "stream",
          "name": "stderr",
          "text": [
            "/usr/local/lib/python3.7/dist-packages/aif360/algorithms/postprocessing/reject_option_classification.py:160: UserWarning: Unable to satisy fairness constraints\n",
            "  warn(\"Unable to satisy fairness constraints\")\n"
          ]
        },
        {
          "output_type": "stream",
          "name": "stdout",
          "text": [
            "Accuracy:  1.0\n",
            "Accuracy for the privileged group:  1.0\n",
            "Accuracy for the unprivileged group:  1.0\n",
            "Disparate Impact: 0.733803 \n",
            "False positive rate difference:  0.0\n"
          ]
        },
        {
          "output_type": "stream",
          "name": "stderr",
          "text": [
            "/usr/local/lib/python3.7/dist-packages/aif360/algorithms/postprocessing/reject_option_classification.py:160: UserWarning: Unable to satisy fairness constraints\n",
            "  warn(\"Unable to satisy fairness constraints\")\n"
          ]
        },
        {
          "output_type": "stream",
          "name": "stdout",
          "text": [
            "Accuracy:  1.0\n",
            "Accuracy for the privileged group:  1.0\n",
            "Accuracy for the unprivileged group:  1.0\n",
            "Disparate Impact: 0.733803 \n",
            "False positive rate difference:  0.0\n"
          ]
        },
        {
          "output_type": "stream",
          "name": "stderr",
          "text": [
            "/usr/local/lib/python3.7/dist-packages/aif360/algorithms/postprocessing/reject_option_classification.py:160: UserWarning: Unable to satisy fairness constraints\n",
            "  warn(\"Unable to satisy fairness constraints\")\n"
          ]
        },
        {
          "output_type": "stream",
          "name": "stdout",
          "text": [
            "Accuracy:  1.0\n",
            "Accuracy for the privileged group:  1.0\n",
            "Accuracy for the unprivileged group:  1.0\n",
            "Disparate Impact: 0.733803 \n",
            "False positive rate difference:  0.0\n"
          ]
        },
        {
          "output_type": "stream",
          "name": "stderr",
          "text": [
            "/usr/local/lib/python3.7/dist-packages/aif360/algorithms/postprocessing/reject_option_classification.py:160: UserWarning: Unable to satisy fairness constraints\n",
            "  warn(\"Unable to satisy fairness constraints\")\n"
          ]
        },
        {
          "output_type": "stream",
          "name": "stdout",
          "text": [
            "Accuracy:  1.0\n",
            "Accuracy for the privileged group:  1.0\n",
            "Accuracy for the unprivileged group:  1.0\n",
            "Disparate Impact: 0.733803 \n",
            "False positive rate difference:  0.0\n"
          ]
        }
      ]
    },
    {
      "cell_type": "code",
      "source": [
        "predicted_aif360"
      ],
      "metadata": {
        "id": "rIPXqrCEINEp",
        "outputId": "80f243f9-5ccb-4987-d404-dbf6502b94cb",
        "colab": {
          "base_uri": "https://localhost:8080/"
        }
      },
      "execution_count": 23,
      "outputs": [
        {
          "output_type": "execute_result",
          "data": {
            "text/plain": [
              "               instance weights features       ...                           labels\n",
              "                                               ...       protected attribute       \n",
              "                                    AGEP  COW  ...  WKHP                 SEX       \n",
              "instance names                                 ...                                 \n",
              "55545                       1.0     22.0  4.0  ...  40.0                 2.0    0.0\n",
              "608                         1.0     67.0  2.0  ...  50.0                 1.0    1.0\n",
              "23540                       1.0     43.0  1.0  ...  55.0                 1.0    1.0\n",
              "37928                       1.0     62.0  7.0  ...  40.0                 1.0    0.0\n",
              "58789                       1.0     81.0  4.0  ...  40.0                 2.0    1.0\n",
              "...                         ...      ...  ...  ...   ...                 ...    ...\n",
              "21243                       1.0     49.0  7.0  ...  60.0                 1.0    1.0\n",
              "45891                       1.0     56.0  1.0  ...  40.0                 1.0    1.0\n",
              "42613                       1.0     42.0  5.0  ...  40.0                 2.0    0.0\n",
              "43567                       1.0     44.0  1.0  ...  40.0                 2.0    1.0\n",
              "68268                       1.0     49.0  1.0  ...  40.0                 1.0    1.0\n",
              "\n",
              "[14000 rows x 11 columns]"
            ]
          },
          "metadata": {},
          "execution_count": 23
        }
      ]
    }
  ]
}