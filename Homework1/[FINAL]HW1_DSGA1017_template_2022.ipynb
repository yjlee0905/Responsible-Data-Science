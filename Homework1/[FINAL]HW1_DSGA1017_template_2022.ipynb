{
  "nbformat": 4,
  "nbformat_minor": 0,
  "metadata": {
    "colab": {
      "name": "HW1_DSGA1017_template_2022.ipynb",
      "provenance": [],
      "collapsed_sections": []
    },
    "kernelspec": {
      "display_name": "Python 3",
      "name": "python3"
    }
  },
  "cells": [
    {
      "cell_type": "markdown",
      "metadata": {
        "id": "43DBqagWutAE"
      },
      "source": [
        "# Responsible Data Science Spring 2022: Homework 1"
      ]
    },
    {
      "cell_type": "code",
      "source": [
        "!git clone https://github.com/lurosenb/superquail\n",
        "!pip install aif360==0.3.0 \n",
        "!pip install BlackBoxAuditing\n",
        "!pip install tensorflow==1.13.1\n",
        "!pip install folktables\n",
        "\n",
        "# add\n",
        "!pip install --upgrade fairlearn==v0.6.0\n"
      ],
      "metadata": {
        "id": "gtYGFyqSm2nk",
        "colab": {
          "base_uri": "https://localhost:8080/"
        },
        "outputId": "1e8c1c1f-08aa-4e1c-8d81-59e34fc0879f"
      },
      "execution_count": 5,
      "outputs": [
        {
          "output_type": "stream",
          "name": "stdout",
          "text": [
            "fatal: destination path 'superquail' already exists and is not an empty directory.\n",
            "Requirement already satisfied: aif360==0.3.0 in /usr/local/lib/python3.7/dist-packages (0.3.0)\n",
            "Requirement already satisfied: scikit-learn>=0.21 in /usr/local/lib/python3.7/dist-packages (from aif360==0.3.0) (1.0.2)\n",
            "Requirement already satisfied: numpy>=1.16 in /usr/local/lib/python3.7/dist-packages (from aif360==0.3.0) (1.21.5)\n",
            "Requirement already satisfied: pandas>=0.24.0 in /usr/local/lib/python3.7/dist-packages (from aif360==0.3.0) (1.3.5)\n",
            "Requirement already satisfied: matplotlib in /usr/local/lib/python3.7/dist-packages (from aif360==0.3.0) (3.2.2)\n",
            "Requirement already satisfied: scipy>=1.2.0 in /usr/local/lib/python3.7/dist-packages (from aif360==0.3.0) (1.4.1)\n",
            "Requirement already satisfied: pytz>=2017.3 in /usr/local/lib/python3.7/dist-packages (from pandas>=0.24.0->aif360==0.3.0) (2018.9)\n",
            "Requirement already satisfied: python-dateutil>=2.7.3 in /usr/local/lib/python3.7/dist-packages (from pandas>=0.24.0->aif360==0.3.0) (2.8.2)\n",
            "Requirement already satisfied: six>=1.5 in /usr/local/lib/python3.7/dist-packages (from python-dateutil>=2.7.3->pandas>=0.24.0->aif360==0.3.0) (1.15.0)\n",
            "Requirement already satisfied: threadpoolctl>=2.0.0 in /usr/local/lib/python3.7/dist-packages (from scikit-learn>=0.21->aif360==0.3.0) (3.1.0)\n",
            "Requirement already satisfied: joblib>=0.11 in /usr/local/lib/python3.7/dist-packages (from scikit-learn>=0.21->aif360==0.3.0) (1.1.0)\n",
            "Requirement already satisfied: cycler>=0.10 in /usr/local/lib/python3.7/dist-packages (from matplotlib->aif360==0.3.0) (0.11.0)\n",
            "Requirement already satisfied: pyparsing!=2.0.4,!=2.1.2,!=2.1.6,>=2.0.1 in /usr/local/lib/python3.7/dist-packages (from matplotlib->aif360==0.3.0) (3.0.7)\n",
            "Requirement already satisfied: kiwisolver>=1.0.1 in /usr/local/lib/python3.7/dist-packages (from matplotlib->aif360==0.3.0) (1.3.2)\n",
            "Requirement already satisfied: BlackBoxAuditing in /usr/local/lib/python3.7/dist-packages (0.1.54)\n",
            "Requirement already satisfied: pandas in /usr/local/lib/python3.7/dist-packages (from BlackBoxAuditing) (1.3.5)\n",
            "Requirement already satisfied: numpy in /usr/local/lib/python3.7/dist-packages (from BlackBoxAuditing) (1.21.5)\n",
            "Requirement already satisfied: matplotlib in /usr/local/lib/python3.7/dist-packages (from BlackBoxAuditing) (3.2.2)\n",
            "Requirement already satisfied: networkx in /usr/local/lib/python3.7/dist-packages (from BlackBoxAuditing) (2.6.3)\n",
            "Requirement already satisfied: kiwisolver>=1.0.1 in /usr/local/lib/python3.7/dist-packages (from matplotlib->BlackBoxAuditing) (1.3.2)\n",
            "Requirement already satisfied: python-dateutil>=2.1 in /usr/local/lib/python3.7/dist-packages (from matplotlib->BlackBoxAuditing) (2.8.2)\n",
            "Requirement already satisfied: pyparsing!=2.0.4,!=2.1.2,!=2.1.6,>=2.0.1 in /usr/local/lib/python3.7/dist-packages (from matplotlib->BlackBoxAuditing) (3.0.7)\n",
            "Requirement already satisfied: cycler>=0.10 in /usr/local/lib/python3.7/dist-packages (from matplotlib->BlackBoxAuditing) (0.11.0)\n",
            "Requirement already satisfied: six>=1.5 in /usr/local/lib/python3.7/dist-packages (from python-dateutil>=2.1->matplotlib->BlackBoxAuditing) (1.15.0)\n",
            "Requirement already satisfied: pytz>=2017.3 in /usr/local/lib/python3.7/dist-packages (from pandas->BlackBoxAuditing) (2018.9)\n",
            "Requirement already satisfied: tensorflow==1.13.1 in /usr/local/lib/python3.7/dist-packages (1.13.1)\n",
            "Requirement already satisfied: protobuf>=3.6.1 in /usr/local/lib/python3.7/dist-packages (from tensorflow==1.13.1) (3.17.3)\n",
            "Requirement already satisfied: keras-preprocessing>=1.0.5 in /usr/local/lib/python3.7/dist-packages (from tensorflow==1.13.1) (1.1.2)\n",
            "Requirement already satisfied: keras-applications>=1.0.6 in /usr/local/lib/python3.7/dist-packages (from tensorflow==1.13.1) (1.0.8)\n",
            "Requirement already satisfied: astor>=0.6.0 in /usr/local/lib/python3.7/dist-packages (from tensorflow==1.13.1) (0.8.1)\n",
            "Requirement already satisfied: grpcio>=1.8.6 in /usr/local/lib/python3.7/dist-packages (from tensorflow==1.13.1) (1.44.0)\n",
            "Requirement already satisfied: wheel>=0.26 in /usr/local/lib/python3.7/dist-packages (from tensorflow==1.13.1) (0.37.1)\n",
            "Requirement already satisfied: tensorflow-estimator<1.14.0rc0,>=1.13.0 in /usr/local/lib/python3.7/dist-packages (from tensorflow==1.13.1) (1.13.0)\n",
            "Requirement already satisfied: gast>=0.2.0 in /usr/local/lib/python3.7/dist-packages (from tensorflow==1.13.1) (0.5.3)\n",
            "Requirement already satisfied: absl-py>=0.1.6 in /usr/local/lib/python3.7/dist-packages (from tensorflow==1.13.1) (1.0.0)\n",
            "Requirement already satisfied: tensorboard<1.14.0,>=1.13.0 in /usr/local/lib/python3.7/dist-packages (from tensorflow==1.13.1) (1.13.1)\n",
            "Requirement already satisfied: six>=1.10.0 in /usr/local/lib/python3.7/dist-packages (from tensorflow==1.13.1) (1.15.0)\n",
            "Requirement already satisfied: termcolor>=1.1.0 in /usr/local/lib/python3.7/dist-packages (from tensorflow==1.13.1) (1.1.0)\n",
            "Requirement already satisfied: numpy>=1.13.3 in /usr/local/lib/python3.7/dist-packages (from tensorflow==1.13.1) (1.21.5)\n",
            "Requirement already satisfied: h5py in /usr/local/lib/python3.7/dist-packages (from keras-applications>=1.0.6->tensorflow==1.13.1) (3.1.0)\n",
            "Requirement already satisfied: markdown>=2.6.8 in /usr/local/lib/python3.7/dist-packages (from tensorboard<1.14.0,>=1.13.0->tensorflow==1.13.1) (3.3.6)\n",
            "Requirement already satisfied: werkzeug>=0.11.15 in /usr/local/lib/python3.7/dist-packages (from tensorboard<1.14.0,>=1.13.0->tensorflow==1.13.1) (1.0.1)\n",
            "Requirement already satisfied: importlib-metadata>=4.4 in /usr/local/lib/python3.7/dist-packages (from markdown>=2.6.8->tensorboard<1.14.0,>=1.13.0->tensorflow==1.13.1) (4.11.2)\n",
            "Requirement already satisfied: typing-extensions>=3.6.4 in /usr/local/lib/python3.7/dist-packages (from importlib-metadata>=4.4->markdown>=2.6.8->tensorboard<1.14.0,>=1.13.0->tensorflow==1.13.1) (3.10.0.2)\n",
            "Requirement already satisfied: zipp>=0.5 in /usr/local/lib/python3.7/dist-packages (from importlib-metadata>=4.4->markdown>=2.6.8->tensorboard<1.14.0,>=1.13.0->tensorflow==1.13.1) (3.7.0)\n",
            "Requirement already satisfied: mock>=2.0.0 in /usr/local/lib/python3.7/dist-packages (from tensorflow-estimator<1.14.0rc0,>=1.13.0->tensorflow==1.13.1) (4.0.3)\n",
            "Requirement already satisfied: cached-property in /usr/local/lib/python3.7/dist-packages (from h5py->keras-applications>=1.0.6->tensorflow==1.13.1) (1.5.2)\n",
            "Requirement already satisfied: folktables in /usr/local/lib/python3.7/dist-packages (0.0.11)\n",
            "Requirement already satisfied: requests in /usr/local/lib/python3.7/dist-packages (from folktables) (2.23.0)\n",
            "Requirement already satisfied: numpy in /usr/local/lib/python3.7/dist-packages (from folktables) (1.21.5)\n",
            "Requirement already satisfied: sklearn in /usr/local/lib/python3.7/dist-packages (from folktables) (0.0)\n",
            "Requirement already satisfied: pandas in /usr/local/lib/python3.7/dist-packages (from folktables) (1.3.5)\n",
            "Requirement already satisfied: pytz>=2017.3 in /usr/local/lib/python3.7/dist-packages (from pandas->folktables) (2018.9)\n",
            "Requirement already satisfied: python-dateutil>=2.7.3 in /usr/local/lib/python3.7/dist-packages (from pandas->folktables) (2.8.2)\n",
            "Requirement already satisfied: six>=1.5 in /usr/local/lib/python3.7/dist-packages (from python-dateutil>=2.7.3->pandas->folktables) (1.15.0)\n",
            "Requirement already satisfied: idna<3,>=2.5 in /usr/local/lib/python3.7/dist-packages (from requests->folktables) (2.10)\n",
            "Requirement already satisfied: urllib3!=1.25.0,!=1.25.1,<1.26,>=1.21.1 in /usr/local/lib/python3.7/dist-packages (from requests->folktables) (1.24.3)\n",
            "Requirement already satisfied: certifi>=2017.4.17 in /usr/local/lib/python3.7/dist-packages (from requests->folktables) (2021.10.8)\n",
            "Requirement already satisfied: chardet<4,>=3.0.2 in /usr/local/lib/python3.7/dist-packages (from requests->folktables) (3.0.4)\n",
            "Requirement already satisfied: scikit-learn in /usr/local/lib/python3.7/dist-packages (from sklearn->folktables) (1.0.2)\n",
            "Requirement already satisfied: scipy>=1.1.0 in /usr/local/lib/python3.7/dist-packages (from scikit-learn->sklearn->folktables) (1.4.1)\n",
            "Requirement already satisfied: joblib>=0.11 in /usr/local/lib/python3.7/dist-packages (from scikit-learn->sklearn->folktables) (1.1.0)\n",
            "Requirement already satisfied: threadpoolctl>=2.0.0 in /usr/local/lib/python3.7/dist-packages (from scikit-learn->sklearn->folktables) (3.1.0)\n",
            "Requirement already satisfied: fairlearn==v0.6.0 in /usr/local/lib/python3.7/dist-packages (0.6.0)\n",
            "Requirement already satisfied: scikit-learn>=0.22.1 in /usr/local/lib/python3.7/dist-packages (from fairlearn==v0.6.0) (1.0.2)\n",
            "Requirement already satisfied: numpy>=1.17.2 in /usr/local/lib/python3.7/dist-packages (from fairlearn==v0.6.0) (1.21.5)\n",
            "Requirement already satisfied: pandas>=0.25.1 in /usr/local/lib/python3.7/dist-packages (from fairlearn==v0.6.0) (1.3.5)\n",
            "Requirement already satisfied: scipy>=1.4.1 in /usr/local/lib/python3.7/dist-packages (from fairlearn==v0.6.0) (1.4.1)\n",
            "Requirement already satisfied: pytz>=2017.3 in /usr/local/lib/python3.7/dist-packages (from pandas>=0.25.1->fairlearn==v0.6.0) (2018.9)\n",
            "Requirement already satisfied: python-dateutil>=2.7.3 in /usr/local/lib/python3.7/dist-packages (from pandas>=0.25.1->fairlearn==v0.6.0) (2.8.2)\n",
            "Requirement already satisfied: six>=1.5 in /usr/local/lib/python3.7/dist-packages (from python-dateutil>=2.7.3->pandas>=0.25.1->fairlearn==v0.6.0) (1.15.0)\n",
            "Requirement already satisfied: joblib>=0.11 in /usr/local/lib/python3.7/dist-packages (from scikit-learn>=0.22.1->fairlearn==v0.6.0) (1.1.0)\n",
            "Requirement already satisfied: threadpoolctl>=2.0.0 in /usr/local/lib/python3.7/dist-packages (from scikit-learn>=0.22.1->fairlearn==v0.6.0) (3.1.0)\n"
          ]
        }
      ]
    },
    {
      "cell_type": "code",
      "metadata": {
        "id": "-BAY1cNGuxfk",
        "colab": {
          "base_uri": "https://localhost:8080/"
        },
        "outputId": "c1bfcb5a-587e-424e-cffb-f0ccd7611ce8"
      },
      "source": [
        "import random\n",
        "random.seed(6)\n",
        "\n",
        "import sys\n",
        "import warnings\n",
        "\n",
        "import numpy as np\n",
        "import pandas as pd\n",
        "import tensorflow as tf\n",
        "import json\n",
        "import time \n",
        "from tqdm import tqdm\n",
        "\n",
        "import matplotlib.pyplot as plt \n",
        "import seaborn as sns\n",
        "\n",
        "from folktables import ACSDataSource, ACSEmployment, ACSIncome, ACSPublicCoverage, ACSTravelTime\n",
        "from superquail.data.acs_helper import ACSData\n",
        "\n",
        "from sklearn.linear_model import LogisticRegression\n",
        "from sklearn.metrics import accuracy_score, roc_auc_score\n",
        "from sklearn.ensemble import RandomForestClassifier\n",
        "from sklearn.model_selection import RandomizedSearchCV\n",
        "from sklearn.preprocessing import MinMaxScaler\n",
        "\n",
        "from aif360.datasets import BinaryLabelDataset, StandardDataset\n",
        "from aif360.algorithms.preprocessing import DisparateImpactRemover\n",
        "from aif360.algorithms.inprocessing import PrejudiceRemover\n",
        "from aif360.algorithms.postprocessing import CalibratedEqOddsPostprocessing, RejectOptionClassification\n",
        "from aif360.metrics import BinaryLabelDatasetMetric, ClassificationMetric\n",
        "from aif360.metrics import BinaryLabelDatasetMetric\n",
        "\n",
        "import BlackBoxAuditing\n",
        "%matplotlib inline"
      ],
      "execution_count": 6,
      "outputs": [
        {
          "output_type": "stream",
          "name": "stderr",
          "text": [
            "WARNING:root:No module named 'numba.decorators': LFR will be unavailable. To install, run:\n",
            "pip install 'aif360[LFR]'\n"
          ]
        }
      ]
    },
    {
      "cell_type": "markdown",
      "metadata": {
        "id": "FW83Vu3KvTQB"
      },
      "source": [
        "# Problem 2\n",
        "### **Load and split data** "
      ]
    },
    {
      "cell_type": "markdown",
      "metadata": {
        "id": "NpySw57tBKEu"
      },
      "source": [
        "#### Load Folktables dataset and set the protected attribute, drop the other protected attribute race\n"
      ]
    },
    {
      "cell_type": "markdown",
      "source": [
        "We have included code to read in the folktables dataset. The Folktables dataset is taken from US Census Data and is built to solve a few simple prediction tasks. The sample we pull is data from 2018 in California. The column names are described in the table below. Note that certain categorical variables have been mapped to integer values, which we will keep as is for the following analyses.\n",
        "\n",
        "For more information on the this dataset, please see the following paper:\n",
        "https://eaamo2021.eaamo.org/accepted/acceptednonarchival/EAMO21_paper_16.pdf"
      ],
      "metadata": {
        "id": "UH30OASO5pf3"
      }
    },
    {
      "cell_type": "markdown",
      "source": [
        "| Column Name | Feature | Description/Notes |\n",
        "| --- | ----------- | --- |\n",
        "| PINCP | Total person’s income | (Target) 1 if >= $50k, 0 if less |\n",
        "| SEX | Sex | (Sensitive Attribute) Male=1, Female=2 |\n",
        "| RAC1P | Race | Dropped from this analysis to focus on one sensitive attribute |\n",
        "| AGEP | Age | Ranges from 0-99 |\n",
        "| COW | Class of Worker | Ranges 1-9, see paper for description |\n",
        "| SCHL | Education Level | Ranges 1-24, see paper for description |\n",
        "| MAR | Marital Status | Ranges 1-5, see paper for description |\n",
        "| OCCP | Occupation | Codes taken from Public Use Microdata Sample (PUMS) from the US Census, see paper |\n",
        "| POBP | Place of Birth | Codes taken from Public Use Microdata Sample (PUMS) from the US Census, see paper |\n",
        "| RELP | Relationship | Relationship of individual to person who responded to the Census taker. Ranges 0-17, see paper for description |\n",
        "| WKHP | Hours worked per week | Ranges from 0-99, averaged over previous year |"
      ],
      "metadata": {
        "id": "ErJSui-veHGd"
      }
    },
    {
      "cell_type": "code",
      "source": [
        "np.random.seed(13)\n",
        "protected_attr = 'SEX' #set sex as the protected attribute\n",
        "target = 'PINCP' #personal income as the target (1=(>50k))\n",
        "\n",
        "#read in the folktables dataset \n",
        "full_df, features_df, target_df, groups_df = ACSData().return_acs_data_scenario(scenario=\"ACSIncome\", subsample=70000)\n",
        "full_df = full_df.drop(columns='RAC1P') #drop race -- another protected attribute from our dataset\n",
        "\n",
        "print(full_df.shape)\n",
        "full_df.head()"
      ],
      "metadata": {
        "colab": {
          "base_uri": "https://localhost:8080/",
          "height": 224
        },
        "id": "JKV2cQ_Q3IqF",
        "outputId": "3c3d51ca-07db-4dcb-fd43-df5c736bd78c"
      },
      "execution_count": 7,
      "outputs": [
        {
          "output_type": "stream",
          "name": "stdout",
          "text": [
            "(70000, 10)\n"
          ]
        },
        {
          "output_type": "execute_result",
          "data": {
            "text/html": [
              "\n",
              "  <div id=\"df-6119bea7-089d-4f38-8ad0-8bdfd3dd8d40\">\n",
              "    <div class=\"colab-df-container\">\n",
              "      <div>\n",
              "<style scoped>\n",
              "    .dataframe tbody tr th:only-of-type {\n",
              "        vertical-align: middle;\n",
              "    }\n",
              "\n",
              "    .dataframe tbody tr th {\n",
              "        vertical-align: top;\n",
              "    }\n",
              "\n",
              "    .dataframe thead th {\n",
              "        text-align: right;\n",
              "    }\n",
              "</style>\n",
              "<table border=\"1\" class=\"dataframe\">\n",
              "  <thead>\n",
              "    <tr style=\"text-align: right;\">\n",
              "      <th></th>\n",
              "      <th>AGEP</th>\n",
              "      <th>COW</th>\n",
              "      <th>SCHL</th>\n",
              "      <th>MAR</th>\n",
              "      <th>OCCP</th>\n",
              "      <th>POBP</th>\n",
              "      <th>RELP</th>\n",
              "      <th>WKHP</th>\n",
              "      <th>SEX</th>\n",
              "      <th>PINCP</th>\n",
              "    </tr>\n",
              "  </thead>\n",
              "  <tbody>\n",
              "    <tr>\n",
              "      <th>0</th>\n",
              "      <td>44.0</td>\n",
              "      <td>1.0</td>\n",
              "      <td>1.0</td>\n",
              "      <td>1.0</td>\n",
              "      <td>4220.0</td>\n",
              "      <td>6.0</td>\n",
              "      <td>10.0</td>\n",
              "      <td>40.0</td>\n",
              "      <td>1.0</td>\n",
              "      <td>0.0</td>\n",
              "    </tr>\n",
              "    <tr>\n",
              "      <th>1</th>\n",
              "      <td>66.0</td>\n",
              "      <td>2.0</td>\n",
              "      <td>20.0</td>\n",
              "      <td>2.0</td>\n",
              "      <td>4720.0</td>\n",
              "      <td>42.0</td>\n",
              "      <td>0.0</td>\n",
              "      <td>32.0</td>\n",
              "      <td>2.0</td>\n",
              "      <td>0.0</td>\n",
              "    </tr>\n",
              "    <tr>\n",
              "      <th>2</th>\n",
              "      <td>72.0</td>\n",
              "      <td>6.0</td>\n",
              "      <td>18.0</td>\n",
              "      <td>1.0</td>\n",
              "      <td>10.0</td>\n",
              "      <td>6.0</td>\n",
              "      <td>1.0</td>\n",
              "      <td>8.0</td>\n",
              "      <td>2.0</td>\n",
              "      <td>1.0</td>\n",
              "    </tr>\n",
              "    <tr>\n",
              "      <th>3</th>\n",
              "      <td>53.0</td>\n",
              "      <td>1.0</td>\n",
              "      <td>21.0</td>\n",
              "      <td>1.0</td>\n",
              "      <td>1460.0</td>\n",
              "      <td>457.0</td>\n",
              "      <td>0.0</td>\n",
              "      <td>40.0</td>\n",
              "      <td>1.0</td>\n",
              "      <td>1.0</td>\n",
              "    </tr>\n",
              "    <tr>\n",
              "      <th>4</th>\n",
              "      <td>55.0</td>\n",
              "      <td>1.0</td>\n",
              "      <td>16.0</td>\n",
              "      <td>1.0</td>\n",
              "      <td>220.0</td>\n",
              "      <td>6.0</td>\n",
              "      <td>1.0</td>\n",
              "      <td>40.0</td>\n",
              "      <td>1.0</td>\n",
              "      <td>0.0</td>\n",
              "    </tr>\n",
              "  </tbody>\n",
              "</table>\n",
              "</div>\n",
              "      <button class=\"colab-df-convert\" onclick=\"convertToInteractive('df-6119bea7-089d-4f38-8ad0-8bdfd3dd8d40')\"\n",
              "              title=\"Convert this dataframe to an interactive table.\"\n",
              "              style=\"display:none;\">\n",
              "        \n",
              "  <svg xmlns=\"http://www.w3.org/2000/svg\" height=\"24px\"viewBox=\"0 0 24 24\"\n",
              "       width=\"24px\">\n",
              "    <path d=\"M0 0h24v24H0V0z\" fill=\"none\"/>\n",
              "    <path d=\"M18.56 5.44l.94 2.06.94-2.06 2.06-.94-2.06-.94-.94-2.06-.94 2.06-2.06.94zm-11 1L8.5 8.5l.94-2.06 2.06-.94-2.06-.94L8.5 2.5l-.94 2.06-2.06.94zm10 10l.94 2.06.94-2.06 2.06-.94-2.06-.94-.94-2.06-.94 2.06-2.06.94z\"/><path d=\"M17.41 7.96l-1.37-1.37c-.4-.4-.92-.59-1.43-.59-.52 0-1.04.2-1.43.59L10.3 9.45l-7.72 7.72c-.78.78-.78 2.05 0 2.83L4 21.41c.39.39.9.59 1.41.59.51 0 1.02-.2 1.41-.59l7.78-7.78 2.81-2.81c.8-.78.8-2.07 0-2.86zM5.41 20L4 18.59l7.72-7.72 1.47 1.35L5.41 20z\"/>\n",
              "  </svg>\n",
              "      </button>\n",
              "      \n",
              "  <style>\n",
              "    .colab-df-container {\n",
              "      display:flex;\n",
              "      flex-wrap:wrap;\n",
              "      gap: 12px;\n",
              "    }\n",
              "\n",
              "    .colab-df-convert {\n",
              "      background-color: #E8F0FE;\n",
              "      border: none;\n",
              "      border-radius: 50%;\n",
              "      cursor: pointer;\n",
              "      display: none;\n",
              "      fill: #1967D2;\n",
              "      height: 32px;\n",
              "      padding: 0 0 0 0;\n",
              "      width: 32px;\n",
              "    }\n",
              "\n",
              "    .colab-df-convert:hover {\n",
              "      background-color: #E2EBFA;\n",
              "      box-shadow: 0px 1px 2px rgba(60, 64, 67, 0.3), 0px 1px 3px 1px rgba(60, 64, 67, 0.15);\n",
              "      fill: #174EA6;\n",
              "    }\n",
              "\n",
              "    [theme=dark] .colab-df-convert {\n",
              "      background-color: #3B4455;\n",
              "      fill: #D2E3FC;\n",
              "    }\n",
              "\n",
              "    [theme=dark] .colab-df-convert:hover {\n",
              "      background-color: #434B5C;\n",
              "      box-shadow: 0px 1px 3px 1px rgba(0, 0, 0, 0.15);\n",
              "      filter: drop-shadow(0px 1px 2px rgba(0, 0, 0, 0.3));\n",
              "      fill: #FFFFFF;\n",
              "    }\n",
              "  </style>\n",
              "\n",
              "      <script>\n",
              "        const buttonEl =\n",
              "          document.querySelector('#df-6119bea7-089d-4f38-8ad0-8bdfd3dd8d40 button.colab-df-convert');\n",
              "        buttonEl.style.display =\n",
              "          google.colab.kernel.accessAllowed ? 'block' : 'none';\n",
              "\n",
              "        async function convertToInteractive(key) {\n",
              "          const element = document.querySelector('#df-6119bea7-089d-4f38-8ad0-8bdfd3dd8d40');\n",
              "          const dataTable =\n",
              "            await google.colab.kernel.invokeFunction('convertToInteractive',\n",
              "                                                     [key], {});\n",
              "          if (!dataTable) return;\n",
              "\n",
              "          const docLinkHtml = 'Like what you see? Visit the ' +\n",
              "            '<a target=\"_blank\" href=https://colab.research.google.com/notebooks/data_table.ipynb>data table notebook</a>'\n",
              "            + ' to learn more about interactive tables.';\n",
              "          element.innerHTML = '';\n",
              "          dataTable['output_type'] = 'display_data';\n",
              "          await google.colab.output.renderOutput(dataTable, element);\n",
              "          const docLink = document.createElement('div');\n",
              "          docLink.innerHTML = docLinkHtml;\n",
              "          element.appendChild(docLink);\n",
              "        }\n",
              "      </script>\n",
              "    </div>\n",
              "  </div>\n",
              "  "
            ],
            "text/plain": [
              "   AGEP  COW  SCHL  MAR    OCCP   POBP  RELP  WKHP  SEX  PINCP\n",
              "0  44.0  1.0   1.0  1.0  4220.0    6.0  10.0  40.0  1.0    0.0\n",
              "1  66.0  2.0  20.0  2.0  4720.0   42.0   0.0  32.0  2.0    0.0\n",
              "2  72.0  6.0  18.0  1.0    10.0    6.0   1.0   8.0  2.0    1.0\n",
              "3  53.0  1.0  21.0  1.0  1460.0  457.0   0.0  40.0  1.0    1.0\n",
              "4  55.0  1.0  16.0  1.0   220.0    6.0   1.0  40.0  1.0    0.0"
            ]
          },
          "metadata": {},
          "execution_count": 7
        }
      ]
    },
    {
      "cell_type": "code",
      "source": [
        "# convert this dataframe into an aif360 dataset\n",
        "dataset_orig = BinaryLabelDataset(\n",
        "    favorable_label=1,\n",
        "    unfavorable_label=0,\n",
        "    df=full_df,\n",
        "    label_names=[target],\n",
        "    protected_attribute_names=[protected_attr])\n",
        "privileged_groups = [{protected_attr: 1}] \n",
        "unprivileged_groups = [{protected_attr: 2}]"
      ],
      "metadata": {
        "id": "cEZljEsG4G1j"
      },
      "execution_count": 8,
      "outputs": []
    },
    {
      "cell_type": "markdown",
      "metadata": {
        "id": "0Fa2JenjzLkx"
      },
      "source": [
        "### Create the train test val split"
      ]
    },
    {
      "cell_type": "code",
      "metadata": {
        "id": "TCy6GcbgBycv",
        "colab": {
          "base_uri": "https://localhost:8080/"
        },
        "outputId": "e27b43e2-e759-4488-df4d-b12fd8ad5ea2"
      },
      "source": [
        "#YOUR CODE HERE\n",
        "# Split original data into train and test data\n",
        "train_orig, test_orig = dataset_orig.split([0.8], shuffle=True, seed = 10) # seed = 10 necessary??\n",
        "# Split training data into train and validation data for hyperparameter tuning(> validation data)\n",
        "train_orig, val_orig = train_orig.split([0.875], shuffle=True)\n",
        "\n",
        "# Conver to dataframe\n",
        "train_orig_df, _ = train_orig.convert_to_dataframe()\n",
        "val_orig_df, _ = val_orig.convert_to_dataframe()\n",
        "test_orig_df, _ = test_orig.convert_to_dataframe()\n",
        "\n",
        "print(\"Train set: \", train_orig_df.shape)\n",
        "print(\"Val set: \", val_orig_df.shape)\n",
        "print(\"Test set: \", test_orig_df.shape)"
      ],
      "execution_count": 9,
      "outputs": [
        {
          "output_type": "stream",
          "name": "stdout",
          "text": [
            "Train set:  (49000, 10)\n",
            "Val set:  (7000, 10)\n",
            "Test set:  (14000, 10)\n"
          ]
        }
      ]
    },
    {
      "cell_type": "code",
      "source": [
        "print(train_orig_df.columns)\n",
        "train_orig_df.head()"
      ],
      "metadata": {
        "colab": {
          "base_uri": "https://localhost:8080/",
          "height": 259
        },
        "id": "giadg4CmsVEY",
        "outputId": "7c56e5c5-146a-40b3-e8e0-75677dac4c13"
      },
      "execution_count": 10,
      "outputs": [
        {
          "output_type": "stream",
          "name": "stdout",
          "text": [
            "Index(['AGEP', 'COW', 'SCHL', 'MAR', 'OCCP', 'POBP', 'RELP', 'WKHP', 'SEX',\n",
            "       'PINCP'],\n",
            "      dtype='object')\n"
          ]
        },
        {
          "output_type": "execute_result",
          "data": {
            "text/html": [
              "\n",
              "  <div id=\"df-cb86bdfb-cdff-49f0-af1d-c66049446da7\">\n",
              "    <div class=\"colab-df-container\">\n",
              "      <div>\n",
              "<style scoped>\n",
              "    .dataframe tbody tr th:only-of-type {\n",
              "        vertical-align: middle;\n",
              "    }\n",
              "\n",
              "    .dataframe tbody tr th {\n",
              "        vertical-align: top;\n",
              "    }\n",
              "\n",
              "    .dataframe thead th {\n",
              "        text-align: right;\n",
              "    }\n",
              "</style>\n",
              "<table border=\"1\" class=\"dataframe\">\n",
              "  <thead>\n",
              "    <tr style=\"text-align: right;\">\n",
              "      <th></th>\n",
              "      <th>AGEP</th>\n",
              "      <th>COW</th>\n",
              "      <th>SCHL</th>\n",
              "      <th>MAR</th>\n",
              "      <th>OCCP</th>\n",
              "      <th>POBP</th>\n",
              "      <th>RELP</th>\n",
              "      <th>WKHP</th>\n",
              "      <th>SEX</th>\n",
              "      <th>PINCP</th>\n",
              "    </tr>\n",
              "  </thead>\n",
              "  <tbody>\n",
              "    <tr>\n",
              "      <th>18884</th>\n",
              "      <td>62.0</td>\n",
              "      <td>1.0</td>\n",
              "      <td>11.0</td>\n",
              "      <td>1.0</td>\n",
              "      <td>3602.0</td>\n",
              "      <td>247.0</td>\n",
              "      <td>1.0</td>\n",
              "      <td>40.0</td>\n",
              "      <td>2.0</td>\n",
              "      <td>1.0</td>\n",
              "    </tr>\n",
              "    <tr>\n",
              "      <th>18842</th>\n",
              "      <td>24.0</td>\n",
              "      <td>1.0</td>\n",
              "      <td>16.0</td>\n",
              "      <td>5.0</td>\n",
              "      <td>5610.0</td>\n",
              "      <td>6.0</td>\n",
              "      <td>2.0</td>\n",
              "      <td>40.0</td>\n",
              "      <td>1.0</td>\n",
              "      <td>0.0</td>\n",
              "    </tr>\n",
              "    <tr>\n",
              "      <th>16031</th>\n",
              "      <td>45.0</td>\n",
              "      <td>1.0</td>\n",
              "      <td>8.0</td>\n",
              "      <td>1.0</td>\n",
              "      <td>5610.0</td>\n",
              "      <td>303.0</td>\n",
              "      <td>1.0</td>\n",
              "      <td>40.0</td>\n",
              "      <td>1.0</td>\n",
              "      <td>0.0</td>\n",
              "    </tr>\n",
              "    <tr>\n",
              "      <th>69028</th>\n",
              "      <td>59.0</td>\n",
              "      <td>1.0</td>\n",
              "      <td>22.0</td>\n",
              "      <td>1.0</td>\n",
              "      <td>1021.0</td>\n",
              "      <td>210.0</td>\n",
              "      <td>1.0</td>\n",
              "      <td>40.0</td>\n",
              "      <td>1.0</td>\n",
              "      <td>1.0</td>\n",
              "    </tr>\n",
              "    <tr>\n",
              "      <th>37596</th>\n",
              "      <td>45.0</td>\n",
              "      <td>1.0</td>\n",
              "      <td>22.0</td>\n",
              "      <td>1.0</td>\n",
              "      <td>3030.0</td>\n",
              "      <td>6.0</td>\n",
              "      <td>1.0</td>\n",
              "      <td>40.0</td>\n",
              "      <td>2.0</td>\n",
              "      <td>1.0</td>\n",
              "    </tr>\n",
              "  </tbody>\n",
              "</table>\n",
              "</div>\n",
              "      <button class=\"colab-df-convert\" onclick=\"convertToInteractive('df-cb86bdfb-cdff-49f0-af1d-c66049446da7')\"\n",
              "              title=\"Convert this dataframe to an interactive table.\"\n",
              "              style=\"display:none;\">\n",
              "        \n",
              "  <svg xmlns=\"http://www.w3.org/2000/svg\" height=\"24px\"viewBox=\"0 0 24 24\"\n",
              "       width=\"24px\">\n",
              "    <path d=\"M0 0h24v24H0V0z\" fill=\"none\"/>\n",
              "    <path d=\"M18.56 5.44l.94 2.06.94-2.06 2.06-.94-2.06-.94-.94-2.06-.94 2.06-2.06.94zm-11 1L8.5 8.5l.94-2.06 2.06-.94-2.06-.94L8.5 2.5l-.94 2.06-2.06.94zm10 10l.94 2.06.94-2.06 2.06-.94-2.06-.94-.94-2.06-.94 2.06-2.06.94z\"/><path d=\"M17.41 7.96l-1.37-1.37c-.4-.4-.92-.59-1.43-.59-.52 0-1.04.2-1.43.59L10.3 9.45l-7.72 7.72c-.78.78-.78 2.05 0 2.83L4 21.41c.39.39.9.59 1.41.59.51 0 1.02-.2 1.41-.59l7.78-7.78 2.81-2.81c.8-.78.8-2.07 0-2.86zM5.41 20L4 18.59l7.72-7.72 1.47 1.35L5.41 20z\"/>\n",
              "  </svg>\n",
              "      </button>\n",
              "      \n",
              "  <style>\n",
              "    .colab-df-container {\n",
              "      display:flex;\n",
              "      flex-wrap:wrap;\n",
              "      gap: 12px;\n",
              "    }\n",
              "\n",
              "    .colab-df-convert {\n",
              "      background-color: #E8F0FE;\n",
              "      border: none;\n",
              "      border-radius: 50%;\n",
              "      cursor: pointer;\n",
              "      display: none;\n",
              "      fill: #1967D2;\n",
              "      height: 32px;\n",
              "      padding: 0 0 0 0;\n",
              "      width: 32px;\n",
              "    }\n",
              "\n",
              "    .colab-df-convert:hover {\n",
              "      background-color: #E2EBFA;\n",
              "      box-shadow: 0px 1px 2px rgba(60, 64, 67, 0.3), 0px 1px 3px 1px rgba(60, 64, 67, 0.15);\n",
              "      fill: #174EA6;\n",
              "    }\n",
              "\n",
              "    [theme=dark] .colab-df-convert {\n",
              "      background-color: #3B4455;\n",
              "      fill: #D2E3FC;\n",
              "    }\n",
              "\n",
              "    [theme=dark] .colab-df-convert:hover {\n",
              "      background-color: #434B5C;\n",
              "      box-shadow: 0px 1px 3px 1px rgba(0, 0, 0, 0.15);\n",
              "      filter: drop-shadow(0px 1px 2px rgba(0, 0, 0, 0.3));\n",
              "      fill: #FFFFFF;\n",
              "    }\n",
              "  </style>\n",
              "\n",
              "      <script>\n",
              "        const buttonEl =\n",
              "          document.querySelector('#df-cb86bdfb-cdff-49f0-af1d-c66049446da7 button.colab-df-convert');\n",
              "        buttonEl.style.display =\n",
              "          google.colab.kernel.accessAllowed ? 'block' : 'none';\n",
              "\n",
              "        async function convertToInteractive(key) {\n",
              "          const element = document.querySelector('#df-cb86bdfb-cdff-49f0-af1d-c66049446da7');\n",
              "          const dataTable =\n",
              "            await google.colab.kernel.invokeFunction('convertToInteractive',\n",
              "                                                     [key], {});\n",
              "          if (!dataTable) return;\n",
              "\n",
              "          const docLinkHtml = 'Like what you see? Visit the ' +\n",
              "            '<a target=\"_blank\" href=https://colab.research.google.com/notebooks/data_table.ipynb>data table notebook</a>'\n",
              "            + ' to learn more about interactive tables.';\n",
              "          element.innerHTML = '';\n",
              "          dataTable['output_type'] = 'display_data';\n",
              "          await google.colab.output.renderOutput(dataTable, element);\n",
              "          const docLink = document.createElement('div');\n",
              "          docLink.innerHTML = docLinkHtml;\n",
              "          element.appendChild(docLink);\n",
              "        }\n",
              "      </script>\n",
              "    </div>\n",
              "  </div>\n",
              "  "
            ],
            "text/plain": [
              "       AGEP  COW  SCHL  MAR    OCCP   POBP  RELP  WKHP  SEX  PINCP\n",
              "18884  62.0  1.0  11.0  1.0  3602.0  247.0   1.0  40.0  2.0    1.0\n",
              "18842  24.0  1.0  16.0  5.0  5610.0    6.0   2.0  40.0  1.0    0.0\n",
              "16031  45.0  1.0   8.0  1.0  5610.0  303.0   1.0  40.0  1.0    0.0\n",
              "69028  59.0  1.0  22.0  1.0  1021.0  210.0   1.0  40.0  1.0    1.0\n",
              "37596  45.0  1.0  22.0  1.0  3030.0    6.0   1.0  40.0  2.0    1.0"
            ]
          },
          "metadata": {},
          "execution_count": 10
        }
      ]
    },
    {
      "cell_type": "markdown",
      "metadata": {
        "id": "FaQZc9mkDBQc"
      },
      "source": [
        "# Problem 2, Part (a) \n",
        "### **Train a baseline Random Forest (RF) model and report metrics**"
      ]
    },
    {
      "cell_type": "markdown",
      "metadata": {
        "id": "J_9U8nMU3pg0"
      },
      "source": [
        "### Train a random forest model - Baseline"
      ]
    },
    {
      "cell_type": "code",
      "metadata": {
        "id": "Bo149tbl3n_N"
      },
      "source": [
        "#YOUR CODE HERE\n",
        "from sklearn.ensemble import RandomForestClassifier\n",
        "\n",
        "X_train = train_orig_df.drop(target, axis=1) # personal income as the target (1=(>50k)) is a label to be predicted\n",
        "y_train = train_orig_df[target]\n",
        "\n",
        "X_test = test_orig_df.drop(target, axis=1)\n",
        "y_test = test_orig_df[target]\n",
        "\n",
        "clf = RandomForestClassifier(n_estimators=1, random_state=11)\n",
        "clf.fit(X_train, y_train)\n",
        "classified = clf.predict(X_test)\n",
        "\n",
        "metric_train = BinaryLabelDatasetMetric(\n",
        "    train_orig,\n",
        "    unprivileged_groups=unprivileged_groups,\n",
        "    privileged_groups=privileged_groups\n",
        ")\n"
      ],
      "execution_count": 11,
      "outputs": []
    },
    {
      "cell_type": "markdown",
      "metadata": {
        "id": "Ci-ClRL14Efm"
      },
      "source": [
        "### Calculate Metrics"
      ]
    },
    {
      "cell_type": "code",
      "metadata": {
        "id": "MAAkD4VK37eg",
        "colab": {
          "base_uri": "https://localhost:8080/"
        },
        "outputId": "93679459-7de0-4d8f-c903-4747b0c16d9a"
      },
      "source": [
        "#YOUR CODE HERE\n",
        "from fairlearn.metrics import MetricFrame\n",
        "from fairlearn.metrics import selection_rate, false_negative_rate, false_positive_rate\n",
        "\n",
        "\n",
        "# accuracy\n",
        "accuracy = accuracy_score(y_test, classified)\n",
        "print(\"Accuracy = %f\" % accuracy) # verifying\n",
        "\n",
        "metric_fns = {'FPR': false_positive_rate,\n",
        "              'accuracy': accuracy_score}\n",
        "\n",
        "grouped_on_sex = MetricFrame(metric_fns,\n",
        "                             y_test, classified,\n",
        "                             sensitive_features=X_test['SEX'])\n",
        "print(grouped_on_sex.by_group['accuracy'])\n",
        "\n",
        "print(\"Disparate Impact = %f\" % metric_train.disparate_impact())\n",
        "\n",
        "FPRdiff = grouped_on_sex.by_group['FPR'].diff()[2.0]\n",
        "print(\"False positive rate difference: %f \" % FPRdiff)"
      ],
      "execution_count": 12,
      "outputs": [
        {
          "output_type": "stream",
          "name": "stdout",
          "text": [
            "Accuracy = 0.740571\n",
            "SEX\n",
            "1.0    0.732752\n",
            "2.0    0.749175\n",
            "Name: accuracy, dtype: object\n",
            "Disparate Impact = 0.761670\n",
            "False positive rate difference: -0.053378 \n"
          ]
        }
      ]
    },
    {
      "cell_type": "markdown",
      "metadata": {
        "id": "9qZgybMrFsKB"
      },
      "source": [
        "# Problem 2, Part (b)\n",
        "### **Hyperparameter tuning of baseline RF model**"
      ]
    },
    {
      "cell_type": "code",
      "metadata": {
        "id": "a5bJ5wamFt7f"
      },
      "source": [
        "# for boxplots\n",
        "def plot_init_v_tuned_box(init_metrics, tuned_metrics, metric_name):\n",
        "  '''Creates a bar graph comparing init_metrics to tuned_metrics'''\n",
        "\n",
        "  # Make some x values\n",
        "  x_init = list(range(len(init_metrics)))\n",
        "  x_tuned = [x + 0.35 for x in x_init]\n",
        "\n",
        "  # Plot the metrics\n",
        "  plt.boxplot([init_metrics, tuned_metrics], labels=['Initial Model', 'Tuned Model'])\n",
        "\n",
        "  # Create labels, etc. \n",
        "  plt.ylabel(metric_name)\n",
        "  plt.legend()\n",
        "  plt.show()"
      ],
      "execution_count": 13,
      "outputs": []
    },
    {
      "cell_type": "markdown",
      "metadata": {
        "id": "yokMPYTHKB7A"
      },
      "source": [
        "### Define a program to conduct tune the Random Forest\n",
        "Optimize the AUC (-> Accuracy). You should try the following hyperparameters: <br>\n",
        "max_depth=[1, 5, 10] <br>\n",
        "n_estimators=[1, 5, 10, 15, 20]"
      ]
    },
    {
      "cell_type": "code",
      "source": [
        "max_depth=[1, 5, 10]\n",
        "n_estimators=[1, 5, 10, 15, 20]\n",
        "\n",
        "# Split original data into train and test data\n",
        "train_sub, test_sub = dataset_orig.split([0.8], shuffle=True, seed = 10) # seed = 10 necessary??\n",
        "# Split training data into train and validation data for hyperparameter tuning(> validation data)\n",
        "train_sub, val_sub = train_sub.split([0.875], shuffle=True, seed = 10)\n",
        "\n",
        "train_sub_df, _ = train_sub.convert_to_dataframe()\n",
        "val_sub_df, _ = val_sub.convert_to_dataframe()\n",
        "test_sub_df, _ = test_sub.convert_to_dataframe()\n",
        "\n",
        "X_train = train_sub_df.drop(target, axis=1) # personal income as the target (1=(>50k)) is a label to be predicted\n",
        "y_train = train_sub_df[target]\n",
        "      \n",
        "X_val = val_sub_df.drop(target, axis=1)\n",
        "y_val = val_sub_df[target]\n",
        "\n",
        "X_test = test_sub_df.drop(target, axis=1)\n",
        "y_test = test_sub_df[target]\n",
        "\n",
        "accuracies = []\n",
        "for i in range(0, len(max_depth)):\n",
        "    for j in range(0, len(n_estimators)):\n",
        "      \n",
        "      clf = RandomForestClassifier(max_depth=max_depth[i], n_estimators=n_estimators[j], random_state=11)\n",
        "      clf.fit(X_train, y_train)\n",
        "      classified = clf.predict(X_val)\n",
        "      \n",
        "      accuracy = accuracy_score(y_val, classified)\n",
        "      accuracies.append([accuracy, (max_depth[i], n_estimators[j])])\n",
        "\n",
        "accuracies.sort(reverse=True)\n",
        "_, best_hyperparameters = accuracies[0]\n",
        "best_depth, best_n_estimator = best_hyperparameters[0], best_hyperparameters[1]\n",
        "print(\"Best depth: \", best_depth)\n",
        "print(\"Best n_estimators: \", best_n_estimator)"
      ],
      "metadata": {
        "colab": {
          "base_uri": "https://localhost:8080/"
        },
        "id": "asMMewsmvAG7",
        "outputId": "69c44e6f-fbfe-4c05-85fb-3ba91262437a"
      },
      "execution_count": 14,
      "outputs": [
        {
          "output_type": "stream",
          "name": "stdout",
          "text": [
            "Best depth:  10\n",
            "Best n_estimators:  20\n"
          ]
        }
      ]
    },
    {
      "cell_type": "markdown",
      "source": [
        "### Compare the initial model to the fine-tuned model for 10 train/val/test \n",
        "splits for Random Forest"
      ],
      "metadata": {
        "id": "afN5IQ2uP3ep"
      }
    },
    {
      "cell_type": "code",
      "source": [
        "from pandas.core.common import random_state\n",
        "SPLITS = 10\n",
        "\n",
        "init_accuracies = []\n",
        "tuned_accuracies = []\n",
        "\n",
        "init_privileged = []\n",
        "tuned_privileged = []\n",
        "\n",
        "init_unprivileged = []\n",
        "tuned_unprivileged = []\n",
        "\n",
        "init_disparate_impacts = []\n",
        "tuned_disparate_impacts = []\n",
        "\n",
        "init_fpr = []\n",
        "tuned_fpr = []\n",
        "\n",
        "\n",
        "for i in range(SPLITS):\n",
        "  # Split original data into train and test data\n",
        "  train_sub, test_sub = dataset_orig.split([0.8], shuffle=True, seed = i) # seed = 10 necessary??\n",
        "  # Split training data into train and validation data for hyperparameter tuning(> validation data)\n",
        "  train_sub, val_sub = train_sub.split([0.875], shuffle=True, seed = i)\n",
        "\n",
        "  # Conver to dataframe\n",
        "  train_sub_df, _ = train_sub.convert_to_dataframe()\n",
        "  val_sub_df, _ = val_sub.convert_to_dataframe()\n",
        "  test_sub_df, _ = test_sub.convert_to_dataframe()\n",
        "\n",
        "  X_train = train_sub_df.drop(target, axis=1) # personal income as the target (1=(>50k)) is a label to be predicted\n",
        "  y_train = train_sub_df[target]\n",
        "      \n",
        "  X_val = val_sub_df.drop(target, axis=1)\n",
        "  y_val = val_sub_df[target]\n",
        "\n",
        "  X_test = test_sub_df.drop(target, axis=1)\n",
        "  y_test = test_sub_df[target]\n",
        "\n",
        "  # initial model\n",
        "  initial_clf = RandomForestClassifier(n_estimators=1, random_state=11)\n",
        "  initial_clf.fit(X_train, y_train)\n",
        "  initial_classified = initial_clf.predict(X_test)\n",
        "\n",
        "  accuracy = accuracy_score(y_test, initial_classified)\n",
        "\n",
        "  metric_fns = {'FPR': false_positive_rate,\n",
        "                'accuracy': accuracy_score}\n",
        "  \n",
        "  grouped_on_sex = MetricFrame(metric_fns,\n",
        "                               y_test, initial_classified,\n",
        "                               sensitive_features=X_test['SEX'])\n",
        "  \n",
        "  idx = 0\n",
        "  for row in grouped_on_sex.by_group['accuracy']:\n",
        "    if idx == 0:\n",
        "      init_privileged.append(row)\n",
        "      idx += 1\n",
        "    elif idx == 1:\n",
        "      init_unprivileged.append(row)\n",
        "\n",
        "  test_orig_df = X_test.copy()\n",
        "  test_orig_df[target] = initial_classified\n",
        "\n",
        "  orig_aif360 = StandardDataset(test_orig_df, label_name=target, protected_attribute_names=['SEX'],\n",
        "                                privileged_classes=[[1]], favorable_classes=[1])\n",
        "  \n",
        "  orig_metrics = BinaryLabelDatasetMetric(orig_aif360,\n",
        "                                          unprivileged_groups=unprivileged_groups,\n",
        "                                          privileged_groups=privileged_groups)\n",
        "  \n",
        "  FPRdiff = grouped_on_sex.by_group['FPR'].diff()[2.0]\n",
        "  #print(\"False positive rate difference: %f\" % FPRdiff)\n",
        "\n",
        "  init_accuracies.append(accuracy)\n",
        "  init_disparate_impacts.append(orig_metrics.disparate_impact())\n",
        "  init_fpr.append(FPRdiff)\n",
        "\n",
        "  \n",
        "  # fine-tuned model\n",
        "  tuned_clf = RandomForestClassifier(max_depth=best_depth, n_estimators=best_n_estimator, random_state=11)\n",
        "  tuned_clf.fit(X_train, y_train)\n",
        "  tuned_classified = tuned_clf.predict(X_test)\n",
        "  \n",
        "  accuracy = accuracy_score(y_test, tuned_classified)\n",
        "\n",
        "  grouped_on_sex = MetricFrame(metric_fns,\n",
        "                               y_test, tuned_classified,\n",
        "                               sensitive_features=X_test['SEX'])\n",
        "  \n",
        "  idx = 0\n",
        "  for row in grouped_on_sex.by_group['accuracy']:\n",
        "    if idx == 0:\n",
        "      tuned_privileged.append(row)\n",
        "      idx += 1\n",
        "    elif idx == 1:\n",
        "      tuned_unprivileged.append(row)\n",
        "  \n",
        "  #print('Accuracy: ', grouped_on_sex.by_group['accuracy'])\n",
        "\n",
        "  tuned_test_df = X_test.copy()\n",
        "  tuned_test_df[target] = tuned_classified\n",
        "\n",
        "  pred_aif360 = StandardDataset(tuned_test_df, label_name=target, protected_attribute_names=['SEX'],\n",
        "                                privileged_classes=[[1]], favorable_classes=[1])\n",
        "  \n",
        "  pred_metrics = BinaryLabelDatasetMetric(pred_aif360,\n",
        "                                          unprivileged_groups=unprivileged_groups,\n",
        "                                          privileged_groups=privileged_groups)\n",
        "\n",
        "  #print(\"Disparate Impact = %f\" % pred_metrics.disparate_impact()) # TODO: metric_train 같아도 되는지\n",
        "\n",
        "  FPRdiff = grouped_on_sex.by_group['FPR'].diff()[2.0]\n",
        "  #print(\"False positive rate difference: %f\" % FPRdiff)\n",
        "\n",
        "  tuned_accuracies.append(accuracy)\n",
        "  tuned_disparate_impacts.append(pred_metrics.disparate_impact())\n",
        "  tuned_fpr.append(FPRdiff)\n"
      ],
      "metadata": {
        "id": "Wnez86_Nv_di"
      },
      "execution_count": 15,
      "outputs": []
    },
    {
      "cell_type": "code",
      "source": [
        "for i in range(SPLITS):\n",
        "  print(\"==================== \", i,  \"th data ====================\")\n",
        "  print(\"Accuracy: \", init_accuracies[i], \" -> \", tuned_accuracies[i])\n",
        "  print(\"Accuracy for privileged:\", init_privileged[i], \" -> \", tuned_privileged[i])\n",
        "  print(\"Accuracy for unprivileged: \", init_unprivileged[i], \" -> \", tuned_unprivileged[i])\n",
        "  print(\"Disparate Impact: \", init_disparate_impacts[i], \" -> \", tuned_disparate_impacts[i])\n",
        "  print(\"False positive rate difference: \", init_fpr[i], \" -> \", tuned_fpr[i])"
      ],
      "metadata": {
        "colab": {
          "base_uri": "https://localhost:8080/"
        },
        "id": "1cTT9TS_w2y-",
        "outputId": "643ab778-2e75-4853-f3d8-7da826867e12"
      },
      "execution_count": 16,
      "outputs": [
        {
          "output_type": "stream",
          "name": "stdout",
          "text": [
            "====================  0 th data ====================\n",
            "Accuracy:  0.7396428571428572  ->  0.8053571428571429\n",
            "Accuracy for privileged: 0.7343193645576555  ->  0.7974527526705012\n",
            "Accuracy for unprivileged:  0.7454464019110182  ->  0.8139743206927441\n",
            "Disparate Impact:  0.7255101723041059  ->  0.6840016404086653\n",
            "False positive rate difference:  -0.05820408662627333  ->  -0.07058196791449861\n",
            "====================  1 th data ====================\n",
            "Accuracy:  0.7412142857142857  ->  0.8140714285714286\n",
            "Accuracy for privileged: 0.7334410339256866  ->  0.8065428109854604\n",
            "Accuracy for unprivileged:  0.75  ->  0.8225806451612904\n",
            "Disparate Impact:  0.7924966097532328  ->  0.7704866252169278\n",
            "False positive rate difference:  -0.04592106742715507  ->  -0.039100177760977295\n",
            "====================  2 th data ====================\n",
            "Accuracy:  0.7385714285714285  ->  0.8120714285714286\n",
            "Accuracy for privileged: 0.7310683585755219  ->  0.8067949242734344\n",
            "Accuracy for unprivileged:  0.746814570529156  ->  0.8178683855493929\n",
            "Disparate Impact:  0.7721915718983138  ->  0.727898798702291\n",
            "False positive rate difference:  -0.04614396916494681  ->  -0.047805405558225655\n",
            "====================  3 th data ====================\n",
            "Accuracy:  0.7369285714285714  ->  0.8133571428571429\n",
            "Accuracy for privileged: 0.7333513440497096  ->  0.80575442388221\n",
            "Accuracy for unprivileged:  0.7409428528118842  ->  0.8218887373048356\n",
            "Disparate Impact:  0.7644522818033603  ->  0.6988680119718286\n",
            "False positive rate difference:  -0.04702200868893744  ->  -0.06537521798624135\n",
            "====================  4 th data ====================\n",
            "Accuracy:  0.741  ->  0.8082857142857143\n",
            "Accuracy for privileged: 0.7333152836063355  ->  0.8008663868958982\n",
            "Accuracy for unprivileged:  0.7495841524270377  ->  0.8165734159987903\n",
            "Disparate Impact:  0.7545106295485335  ->  0.7331950084235064\n",
            "False positive rate difference:  -0.05518520179253916  ->  -0.047301300092053605\n",
            "====================  5 th data ====================\n",
            "Accuracy:  0.7387142857142858  ->  0.811\n",
            "Accuracy for privileged: 0.7277274570771934  ->  0.8038393943490604\n",
            "Accuracy for unprivileged:  0.7510222626079055  ->  0.8190216568226564\n",
            "Disparate Impact:  0.7613023927378647  ->  0.7344544181029743\n",
            "False positive rate difference:  -0.061251735962313286  ->  -0.04970623723222234\n",
            "====================  6 th data ====================\n",
            "Accuracy:  0.7410714285714286  ->  0.8132857142857143\n",
            "Accuracy for privileged: 0.7328091684434968  ->  0.8059701492537313\n",
            "Accuracy for unprivileged:  0.750615763546798  ->  0.8217364532019704\n",
            "Disparate Impact:  0.8083801003395951  ->  0.7023074779007725\n",
            "False positive rate difference:  -0.032168394535869976  ->  -0.060340369727712714\n",
            "====================  7 th data ====================\n",
            "Accuracy:  0.7362142857142857  ->  0.8146428571428571\n",
            "Accuracy for privileged: 0.7277254374158816  ->  0.8075370121130552\n",
            "Accuracy for unprivileged:  0.745814307458143  ->  0.8226788432267884\n",
            "Disparate Impact:  0.7701919916250419  ->  0.7199298765314757\n",
            "False positive rate difference:  -0.05038112135898867  ->  -0.05518519514013129\n",
            "====================  8 th data ====================\n",
            "Accuracy:  0.7440714285714286  ->  0.8155\n",
            "Accuracy for privileged: 0.7338533114395184  ->  0.8095238095238095\n",
            "Accuracy for unprivileged:  0.7552301255230126  ->  0.8220263000597728\n",
            "Disparate Impact:  0.7757929908189883  ->  0.7293208883167042\n",
            "False positive rate difference:  -0.04979307294879545  ->  -0.0492988771632325\n",
            "====================  9 th data ====================\n",
            "Accuracy:  0.7363571428571428  ->  0.8085714285714286\n",
            "Accuracy for privileged: 0.7265189615332337  ->  0.8014136196819356\n",
            "Accuracy for unprivileged:  0.7472527472527473  ->  0.8164985699232274\n",
            "Disparate Impact:  0.7409586541510732  ->  0.7152348305363709\n",
            "False positive rate difference:  -0.06325765966015812  ->  -0.047697292160337995\n"
          ]
        }
      ]
    },
    {
      "cell_type": "code",
      "source": [
        "plot_init_v_tuned_box(init_accuracies, tuned_accuracies, \"Accuracy\")\n",
        "plot_init_v_tuned_box(init_privileged, tuned_privileged, \"Accuracy for the privileged group\")\n",
        "plot_init_v_tuned_box(init_unprivileged, tuned_unprivileged, \"Accuracy for the unprivileged group\")\n",
        "plot_init_v_tuned_box(init_disparate_impacts, tuned_disparate_impacts, \"Disparate Impact\")\n",
        "plot_init_v_tuned_box(init_fpr, tuned_fpr, \"False positive rate difference\")"
      ],
      "metadata": {
        "colab": {
          "base_uri": "https://localhost:8080/",
          "height": 1000
        },
        "id": "1VN72rBaxE4e",
        "outputId": "4e3b67eb-5007-48cd-86d6-e0bf742884fb"
      },
      "execution_count": 17,
      "outputs": [
        {
          "output_type": "stream",
          "name": "stderr",
          "text": [
            "WARNING:matplotlib.legend:No handles with labels found to put in legend.\n"
          ]
        },
        {
          "output_type": "display_data",
          "data": {
            "image/png": "[encoded data removed]",
            "text/plain": [
              "<Figure size 432x288 with 1 Axes>"
            ]
          },
          "metadata": {
            "needs_background": "light"
          }
        },
        {
          "output_type": "stream",
          "name": "stderr",
          "text": [
            "WARNING:matplotlib.legend:No handles with labels found to put in legend.\n"
          ]
        },
        {
          "output_type": "display_data",
          "data": {
            "image/png": "[encoded data removed]",
            "text/plain": [
              "<Figure size 432x288 with 1 Axes>"
            ]
          },
          "metadata": {
            "needs_background": "light"
          }
        },
        {
          "output_type": "stream",
          "name": "stderr",
          "text": [
            "WARNING:matplotlib.legend:No handles with labels found to put in legend.\n"
          ]
        },
        {
          "output_type": "display_data",
          "data": {
            "image/png": "[encoded data removed]",
            "text/plain": [
              "<Figure size 432x288 with 1 Axes>"
            ]
          },
          "metadata": {
            "needs_background": "light"
          }
        },
        {
          "output_type": "stream",
          "name": "stderr",
          "text": [
            "WARNING:matplotlib.legend:No handles with labels found to put in legend.\n"
          ]
        },
        {
          "output_type": "display_data",
          "data": {
            "image/png": "[encoded data removed]",
            "text/plain": [
              "<Figure size 432x288 with 1 Axes>"
            ]
          },
          "metadata": {
            "needs_background": "light"
          }
        },
        {
          "output_type": "stream",
          "name": "stderr",
          "text": [
            "WARNING:matplotlib.legend:No handles with labels found to put in legend.\n"
          ]
        },
        {
          "output_type": "display_data",
          "data": {
            "image/png": "[encoded data removed]",
            "text/plain": [
              "<Figure size 432x288 with 1 Axes>"
            ]
          },
          "metadata": {
            "needs_background": "light"
          }
        }
      ]
    },
    {
      "cell_type": "markdown",
      "metadata": {
        "id": "uKhDj-XJRUJL"
      },
      "source": [
        "# Problem 2, Part (c) \n",
        "### **Disparate Impact Pre-Processing intervention**"
      ]
    },
    {
      "cell_type": "code",
      "metadata": {
        "id": "8NToBvrQiWIz"
      },
      "source": [
        "def plot_repair_levels(repair_levels, metric_vals, metric_name, x_label='Repair level'):\n",
        "  '''Creates a line plot showing how the metric changed for different values of repair level'''\n",
        "\n",
        "  # Plot the metrics\n",
        "  plt.plot(repair_levels, metric_vals, color='#0384fc', linewidth=3, label=metric_name)\n",
        "\n",
        "  # Create labels, etc. \n",
        "  plt.xlabel(x_label)\n",
        "  plt.ylabel(metric_name)\n",
        "  plt.legend()\n",
        "  plt.show()"
      ],
      "execution_count": 18,
      "outputs": []
    },
    {
      "cell_type": "markdown",
      "source": [
        "### Apply pre-processing techniques to the dataset, then re-train the models with the optimal hyperparameters from part **b**"
      ],
      "metadata": {
        "id": "xOzr7aximZVH"
      }
    },
    {
      "cell_type": "code",
      "source": [
        "#YOUR CODE HERE\n",
        "from sklearn.model_selection import train_test_split\n",
        "\n",
        "# 5 metrics\n",
        "accuracies = []\n",
        "accuracies_privileged = []\n",
        "accuracies_unprivileged = []\n",
        "disparate_impacts = []\n",
        "FPRdiffenrences = []\n",
        "\n",
        "def test_disparate_impact_remover(repair_level):\n",
        "  # preprocessing\n",
        "  di = DisparateImpactRemover(repair_level = repair_level)\n",
        "  dataset_transf_train = di.fit_transform(dataset_orig)\n",
        "  transformed = dataset_transf_train.convert_to_dataframe()[0]\n",
        "  \n",
        "  X_trans = transformed.drop([target], axis = 1)\n",
        "  y_trans = transformed[target]\n",
        "  \n",
        "  # TODO check split to validation set?\n",
        "  X_trans_train, X_trans_test, y_trans_train, y_trans_test = train_test_split(X_trans, y_trans, test_size=0.2, random_state=3)\n",
        "  X_trans_train, X_trans_val, y_trans_train, y_trans_val = train_test_split(X_trans_train, y_trans_train, test_size=0.125, random_state=3)\n",
        "  \n",
        "  clf = RandomForestClassifier(max_depth=best_depth, n_estimators=best_n_estimator, random_state=11)\n",
        "  clf.fit(X_trans_train, y_trans_train)\n",
        "  y_predict = clf.predict(X_trans_test)\n",
        "  \n",
        "  # metrics\n",
        "  accuracy = accuracy_score(y_trans_test, y_predict)\n",
        "  accuracies.append(accuracy)\n",
        "  \n",
        "  metric_fns = {'FPR': false_positive_rate,\n",
        "                'accuracy': accuracy_score}\n",
        "                \n",
        "  grouped_on_sex = MetricFrame(metric_fns,\n",
        "                               y_trans_test, y_predict,\n",
        "                               sensitive_features = X_test['SEX'])\n",
        "  \n",
        "  idx = 0\n",
        "  for row in grouped_on_sex.by_group['accuracy']:\n",
        "    if idx == 0:\n",
        "      accuracies_privileged.append(row)\n",
        "      idx += 1\n",
        "    elif idx == 1:\n",
        "      accuracies_unprivileged.append(row)\n",
        "  \n",
        "  #print(grouped_on_sex.by_group['accuracy'])\n",
        "  \n",
        "  trans_pred_df = X_trans_test.copy()\n",
        "  trans_pred_df[target] = y_predict\n",
        "\n",
        "  pred_aif360 = StandardDataset(trans_pred_df, label_name=target, protected_attribute_names=['SEX'],\n",
        "                                privileged_classes=[[1]], favorable_classes=[1])\n",
        "  \n",
        "  pred_metrics = BinaryLabelDatasetMetric(pred_aif360,\n",
        "                                          unprivileged_groups=unprivileged_groups,\n",
        "                                          privileged_groups=privileged_groups)\n",
        "\n",
        "  disparate_impacts.append(pred_metrics.disparate_impact())\n",
        "  \n",
        "  FPRdiff = grouped_on_sex.by_group['FPR'].diff()[2.0]\n",
        "  FPRdiffenrences.append(FPRdiff)\n",
        "\n",
        "\n",
        "repair_levels = [0.15, 0.25, 0.45, 0.65, 0.95]\n",
        "#repair_levels = [0.1, 0.25, 0.45, 0.75, 0.9]\n",
        "\n",
        "\n",
        "for rl in repair_levels:\n",
        "  test_disparate_impact_remover(rl)\n",
        "\n",
        "plot_repair_levels(repair_levels, accuracies, 'Accuracy')\n",
        "plot_repair_levels(repair_levels, accuracies_privileged, 'Accuracy for the privileged group')\n",
        "plot_repair_levels(repair_levels, accuracies_unprivileged, 'Accuracy for the unprivileged group')\n",
        "plot_repair_levels(repair_levels, disparate_impacts, 'Disparate Impact')\n",
        "plot_repair_levels(repair_levels, FPRdiffenrences, 'False Positive difference')"
      ],
      "metadata": {
        "id": "P9Hu35jTgc3J",
        "colab": {
          "base_uri": "https://localhost:8080/",
          "height": 1000
        },
        "outputId": "78d77d62-dd5c-4482-bf11-77b7b85f8836"
      },
      "execution_count": 19,
      "outputs": [
        {
          "output_type": "display_data",
          "data": {
            "image/png": "[encoded data removed]",
            "text/plain": [
              "<Figure size 432x288 with 1 Axes>"
            ]
          },
          "metadata": {
            "needs_background": "light"
          }
        },
        {
          "output_type": "display_data",
          "data": {
            "image/png": "[encoded data removed]",
            "text/plain": [
              "<Figure size 432x288 with 1 Axes>"
            ]
          },
          "metadata": {
            "needs_background": "light"
          }
        },
        {
          "output_type": "display_data",
          "data": {
            "image/png": "[encoded data removed]",
            "text/plain": [
              "<Figure size 432x288 with 1 Axes>"
            ]
          },
          "metadata": {
            "needs_background": "light"
          }
        },
        {
          "output_type": "display_data",
          "data": {
            "image/png": "[encoded data removed]",
            "text/plain": [
              "<Figure size 432x288 with 1 Axes>"
            ]
          },
          "metadata": {
            "needs_background": "light"
          }
        },
        {
          "output_type": "display_data",
          "data": {
            "image/png": "[encoded data removed]",
            "text/plain": [
              "<Figure size 432x288 with 1 Axes>"
            ]
          },
          "metadata": {
            "needs_background": "light"
          }
        }
      ]
    },
    {
      "cell_type": "markdown",
      "source": [
        "# Problem 2, Part (d) \n",
        "### **Prejudice Remover In-Processing intervention**\n",
        "\n"
      ],
      "metadata": {
        "id": "gu1xtZ6ExCdU"
      }
    },
    {
      "cell_type": "markdown",
      "source": [
        "### Fit new models using the Prejudice Remover technique"
      ],
      "metadata": {
        "id": "f3oBrlsSncYr"
      }
    },
    {
      "cell_type": "code",
      "source": [
        "from aif360.algorithms import preprocessing\n",
        "\n",
        "# X_train, y_train = splitted_X_trains[0], splitted_y_trains[0]\n",
        "# X_test, y_test = splitted_X_tests[0], splitted_y_tests[0]\n",
        "\n",
        "pr_accuracies = []\n",
        "pr_disparate_impacts = []\n",
        "\n",
        "etas = [0.01, 0.1, 1]\n",
        "\n",
        "for eta in etas:\n",
        "  pr = PrejudiceRemover(eta=eta)\n",
        "  \n",
        "  # convert this dataframe into an aif360 dataset\n",
        "  train_data = X_train.copy()\n",
        "  train_data[target] = y_train\n",
        "  train_aif360 = StandardDataset(train_data, label_name=target, protected_attribute_names=['SEX'],\n",
        "                                 privileged_classes=[[1]], favorable_classes=[1])\n",
        "  \n",
        "  \n",
        "  \n",
        "  # train_metrics = BinaryLabelDatasetMetric(train_aif360,\n",
        "  #                                          unprivileged_groups=unprivileged_groups,\n",
        "  #                                          privileged_groups=privileged_groups)\n",
        "\n",
        "  pr = pr.fit(train_aif360)\n",
        "\n",
        "  test_data = X_test.copy()\n",
        "  test_data[target] = y_test\n",
        "  test_aif360 = StandardDataset(test_data, label_name=target, protected_attribute_names=['SEX'],\n",
        "                                privileged_classes=[[1]], favorable_classes=[1])\n",
        "  \n",
        "  y_pred = pr.predict(test_aif360)\n",
        "  \n",
        "  test_metrics = BinaryLabelDatasetMetric(y_pred,\n",
        "                                          unprivileged_groups=unprivileged_groups,\n",
        "                                          privileged_groups=privileged_groups)\n",
        "  print(test_metrics.disparate_impact())\n",
        "  \n",
        "  #y_pred_df, _ = y_pred.convert_to_dataframe()\n",
        "  accuracy = accuracy_score(y_test, y_pred.labels)\n",
        "  pr_accuracies.append(accuracy)\n",
        "\n",
        "  disparate_impact = test_metrics.disparate_impact()\n",
        "  pr_disparate_impacts.append(disparate_impact)\n",
        "  print('Accuracy: ', accuracy)\n",
        "  print('Disparate Impact: %f' % disparate_impact)\n",
        "\n",
        "\n"
      ],
      "metadata": {
        "id": "sSlI2_824kQ4",
        "outputId": "a39c4a16-e617-4ae1-acf7-f7c7f136e0e7",
        "colab": {
          "base_uri": "https://localhost:8080/"
        }
      },
      "execution_count": 20,
      "outputs": [
        {
          "output_type": "stream",
          "name": "stdout",
          "text": [
            "0.6535746247002947\n",
            "Accuracy:  0.7485\n",
            "Disparate Impact: 0.653575\n",
            "0.6457137615166143\n",
            "Accuracy:  0.7485\n",
            "Disparate Impact: 0.645714\n",
            "0.6502673538126007\n",
            "Accuracy:  0.7485714285714286\n",
            "Disparate Impact: 0.650267\n"
          ]
        }
      ]
    },
    {
      "cell_type": "code",
      "source": [
        "def plot_etas(etas, metric_vals, metric_name, x_label='Repair level'):\n",
        "  '''Creates a line plot showing how the metric changed for different values of repair level'''\n",
        "\n",
        "  # Plot the metrics\n",
        "  plt.plot(etas, metric_vals, color='#0384fc', linewidth=3, label=metric_name)\n",
        "\n",
        "  # Create labels, etc. \n",
        "  plt.xlabel(x_label)\n",
        "  plt.ylabel(metric_name)\n",
        "  plt.legend()\n",
        "  plt.show()"
      ],
      "metadata": {
        "id": "dnaW1Af50BQy"
      },
      "execution_count": 21,
      "outputs": []
    },
    {
      "cell_type": "code",
      "source": [
        "plot_etas(etas, pr_accuracies, 'Accuracy', x_label='eta')\n",
        "plot_etas(etas, pr_disparate_impacts, 'Disparate Impact', x_label='eta')"
      ],
      "metadata": {
        "colab": {
          "base_uri": "https://localhost:8080/",
          "height": 541
        },
        "id": "gsz-SjQdcubd",
        "outputId": "ff31a5b1-eed1-43cf-c422-36efc60ac246"
      },
      "execution_count": 22,
      "outputs": [
        {
          "output_type": "display_data",
          "data": {
            "image/png": "[encoded data removed]",
            "text/plain": [
              "<Figure size 432x288 with 1 Axes>"
            ]
          },
          "metadata": {
            "needs_background": "light"
          }
        },
        {
          "output_type": "display_data",
          "data": {
            "image/png": "[encoded data removed]",
            "text/plain": [
              "<Figure size 432x288 with 1 Axes>"
            ]
          },
          "metadata": {
            "needs_background": "light"
          }
        }
      ]
    },
    {
      "cell_type": "markdown",
      "metadata": {
        "id": "v6Mgr2iiLb_k"
      },
      "source": [
        "# Problem 2, Part (e) \n",
        "### **Reject Option Post-Processing intervention**"
      ]
    },
    {
      "cell_type": "markdown",
      "source": [
        "### Using the same random forest models as before, apply the post-processing technique to your results and compare"
      ],
      "metadata": {
        "id": "ZvbKbKM1nuLY"
      }
    },
    {
      "cell_type": "code",
      "source": [
        "import aif360.algorithms.postprocessing\n",
        "from IPython.display import Markdown, display\n",
        "\n",
        "SPLITS = 10\n",
        "\n",
        "# 5 metrics\n",
        "accuracies = []\n",
        "accuracies_privileged = []\n",
        "accuracies_unprivileged = []\n",
        "disparate_impacts = []\n",
        "FPRdiffenrences = []\n",
        "\n",
        "for i in range(SPLITS):\n",
        "  # Split original data into train and test data\n",
        "  train_sub, test_sub = dataset_orig.split([0.8], shuffle=True, seed = i) # seed = 10 necessary??\n",
        "  # Split training data into train and validation data for hyperparameter tuning(> validation data)\n",
        "  train_sub, val_sub = train_sub.split([0.875], shuffle=True, seed = i)\n",
        "\n",
        "  # Conver to dataframe\n",
        "  train_sub_df, _ = train_sub.convert_to_dataframe()\n",
        "  val_sub_df, _ = val_sub.convert_to_dataframe()\n",
        "  test_sub_df, _ = test_sub.convert_to_dataframe()\n",
        "\n",
        "  X_train = train_sub_df.drop(target, axis=1) # personal income as the target (1=(>50k)) is a label to be predicted\n",
        "  y_train = train_sub_df[target]\n",
        "      \n",
        "  X_val = val_sub_df.drop(target, axis=1)\n",
        "  y_val = val_sub_df[target]\n",
        "\n",
        "  X_test = test_sub_df.drop(target, axis=1)\n",
        "  y_test = test_sub_df[target]\n",
        "\n",
        "  train_data = X_train.copy()\n",
        "  train_data[target] = y_train\n",
        "  train_aif360 = StandardDataset(train_data, label_name=target, protected_attribute_names=['SEX'],\n",
        "                                 privileged_classes=[[1]], favorable_classes=[1])\n",
        "  \n",
        "  val_data_orig = X_val.copy()\n",
        "  val_data_orig[target] = y_val\n",
        "  val_orig_aif360 = StandardDataset(val_data_orig, label_name=target, protected_attribute_names=['SEX'],\n",
        "                                    privileged_classes=[[1]], favorable_classes=[1])\n",
        "  \n",
        "  # test data for prediction?\n",
        "  test_data = X_test.copy()\n",
        "  test_data[target] = y_test\n",
        "  test_aif360 = StandardDataset(test_data, label_name=target, protected_attribute_names=['SEX'],\n",
        "                                privileged_classes=[[1]], favorable_classes=[1])\n",
        "  \n",
        "  clf = RandomForestClassifier(max_depth=10, n_estimators=15)\n",
        "  clf.fit(train_aif360.features, train_aif360.labels.ravel())\n",
        "  y_pred = clf.predict(test_aif360.features).reshape(-1,1)\n",
        "  \n",
        "  predicted_data = test_aif360.copy()\n",
        "  predicted_data.labels = y_pred\n",
        "# predicted_aif360 = StandardDataset(predicted_data, label_name=target, protected_attribute_names=['SEX'],\n",
        "#                               privileged_classes=[[1]], favorable_classes=[1])\n",
        "  pos_ind = np.where(clf.classes_ == val_orig_aif360.favorable_label)[0][0]\n",
        "  predicted_data.scores = clf.predict_proba(X_test)[:,pos_ind].reshape(-1,1)\n",
        "\n",
        "  ROC = RejectOptionClassification(unprivileged_groups=unprivileged_groups, \n",
        "                                  privileged_groups=privileged_groups, \n",
        "                                  low_class_thresh=0.01, high_class_thresh=0.99,\n",
        "                                  num_class_thresh=100, num_ROC_margin=50)\n",
        "\n",
        "  ROC = ROC.fit(test_aif360, predicted_data)\n",
        "  test_pred = ROC.predict(predicted_data)\n",
        "\n",
        "  fav_inds = predicted_data.scores > ROC.classification_threshold\n",
        "  predicted_data.labels[fav_inds] = predicted_data.favorable_label\n",
        "  predicted_data.labels[~fav_inds] = predicted_data.unfavorable_label\n",
        "\n",
        "  display(Markdown(\"#### Validation set\"))\n",
        "  display(Markdown(\"##### Raw predictions - No fairness constraints, only maximizing balanced accuracy\"))\n",
        "\n",
        "  test_predicted_df, _ = test_pred.convert_to_dataframe()\n",
        "\n",
        "  accuracy = accuracy_score(y_test, test_predicted_df[target])\n",
        "  print('Accuracy: ', accuracy)\n",
        "  accuracies.append(accuracy)\n",
        "\n",
        "  metric_fns = {'FPR': false_positive_rate,\n",
        "              'accuracy': accuracy_score}\n",
        "  \n",
        "  grouped_on_sex = MetricFrame(metric_fns,\n",
        "                             y_test, test_predicted_df[target],\n",
        "                             sensitive_features=X_test['SEX'])\n",
        "  \n",
        "  idx = 0\n",
        "  for row in grouped_on_sex.by_group['accuracy']:\n",
        "    if idx == 0:\n",
        "      print('privileged: ', row)\n",
        "      accuracies_privileged.append(row)\n",
        "      idx += 1\n",
        "    elif idx == 1:\n",
        "      print('unprivileged: ', row)\n",
        "      accuracies_unprivileged.append(row)\n",
        "\n",
        "  metrics = BinaryLabelDatasetMetric(test_pred,\n",
        "                                   unprivileged_groups=unprivileged_groups,\n",
        "                                   privileged_groups=privileged_groups)\n",
        "\n",
        "  disparate_impact = metrics.disparate_impact()\n",
        "  print(\"Disparate Impact = %f\" % disparate_impact)\n",
        "  disparate_impacts.append(disparate_impact)\n",
        "\n",
        "  FPRdiff = grouped_on_sex.by_group['FPR'].diff()[2.0]\n",
        "  print(\"False positive rate difference: %f\" % FPRdiff)\n",
        "  FPRdiffenrences.append(FPRdiff)\n"
      ],
      "metadata": {
        "colab": {
          "base_uri": "https://localhost:8080/",
          "height": 1000
        },
        "id": "CKlmTOzAxvXo",
        "outputId": "394666f2-32d4-4cbc-fc9f-4e678f35861a"
      },
      "execution_count": 23,
      "outputs": [
        {
          "output_type": "stream",
          "name": "stderr",
          "text": [
            "/usr/local/lib/python3.7/dist-packages/sklearn/base.py:444: UserWarning: X has feature names, but RandomForestClassifier was fitted without feature names\n",
            "  f\"X has feature names, but {self.__class__.__name__} was fitted without\"\n"
          ]
        },
        {
          "output_type": "display_data",
          "data": {
            "text/markdown": "#### Validation set",
            "text/plain": [
              "<IPython.core.display.Markdown object>"
            ]
          },
          "metadata": {}
        },
        {
          "output_type": "display_data",
          "data": {
            "text/markdown": "##### Raw predictions - No fairness constraints, only maximizing balanced accuracy",
            "text/plain": [
              "<IPython.core.display.Markdown object>"
            ]
          },
          "metadata": {}
        },
        {
          "output_type": "stream",
          "name": "stdout",
          "text": [
            "Accuracy:  0.7958571428571428\n",
            "privileged:  0.7990961380443714\n",
            "unprivileged:  0.7923260674828307\n",
            "Disparate Impact = 0.908187\n",
            "False positive rate difference: 0.023066\n"
          ]
        },
        {
          "output_type": "stream",
          "name": "stderr",
          "text": [
            "/usr/local/lib/python3.7/dist-packages/sklearn/base.py:444: UserWarning: X has feature names, but RandomForestClassifier was fitted without feature names\n",
            "  f\"X has feature names, but {self.__class__.__name__} was fitted without\"\n"
          ]
        },
        {
          "output_type": "display_data",
          "data": {
            "text/markdown": "#### Validation set",
            "text/plain": [
              "<IPython.core.display.Markdown object>"
            ]
          },
          "metadata": {}
        },
        {
          "output_type": "display_data",
          "data": {
            "text/markdown": "##### Raw predictions - No fairness constraints, only maximizing balanced accuracy",
            "text/plain": [
              "<IPython.core.display.Markdown object>"
            ]
          },
          "metadata": {}
        },
        {
          "output_type": "stream",
          "name": "stdout",
          "text": [
            "Accuracy:  0.8074285714285714\n",
            "privileged:  0.8060043080236942\n",
            "unprivileged:  0.8090383444917834\n",
            "Disparate Impact = 0.900053\n",
            "False positive rate difference: 0.005507\n"
          ]
        },
        {
          "output_type": "stream",
          "name": "stderr",
          "text": [
            "/usr/local/lib/python3.7/dist-packages/sklearn/base.py:444: UserWarning: X has feature names, but RandomForestClassifier was fitted without feature names\n",
            "  f\"X has feature names, but {self.__class__.__name__} was fitted without\"\n"
          ]
        },
        {
          "output_type": "display_data",
          "data": {
            "text/markdown": "#### Validation set",
            "text/plain": [
              "<IPython.core.display.Markdown object>"
            ]
          },
          "metadata": {}
        },
        {
          "output_type": "display_data",
          "data": {
            "text/markdown": "##### Raw predictions - No fairness constraints, only maximizing balanced accuracy",
            "text/plain": [
              "<IPython.core.display.Markdown object>"
            ]
          },
          "metadata": {}
        },
        {
          "output_type": "stream",
          "name": "stdout",
          "text": [
            "Accuracy:  0.8081428571428572\n",
            "privileged:  0.8093873652612907\n",
            "unprivileged:  0.8067755958626892\n",
            "Disparate Impact = 0.914475\n",
            "False positive rate difference: 0.027320\n"
          ]
        },
        {
          "output_type": "stream",
          "name": "stderr",
          "text": [
            "/usr/local/lib/python3.7/dist-packages/sklearn/base.py:444: UserWarning: X has feature names, but RandomForestClassifier was fitted without feature names\n",
            "  f\"X has feature names, but {self.__class__.__name__} was fitted without\"\n"
          ]
        },
        {
          "output_type": "display_data",
          "data": {
            "text/markdown": "#### Validation set",
            "text/plain": [
              "<IPython.core.display.Markdown object>"
            ]
          },
          "metadata": {}
        },
        {
          "output_type": "display_data",
          "data": {
            "text/markdown": "##### Raw predictions - No fairness constraints, only maximizing balanced accuracy",
            "text/plain": [
              "<IPython.core.display.Markdown object>"
            ]
          },
          "metadata": {}
        },
        {
          "output_type": "stream",
          "name": "stdout",
          "text": [
            "Accuracy:  0.8067142857142857\n",
            "privileged:  0.8076455491017155\n",
            "unprivileged:  0.8056692435955738\n",
            "Disparate Impact = 0.914170\n",
            "False positive rate difference: 0.020907\n"
          ]
        },
        {
          "output_type": "stream",
          "name": "stderr",
          "text": [
            "/usr/local/lib/python3.7/dist-packages/sklearn/base.py:444: UserWarning: X has feature names, but RandomForestClassifier was fitted without feature names\n",
            "  f\"X has feature names, but {self.__class__.__name__} was fitted without\"\n"
          ]
        },
        {
          "output_type": "display_data",
          "data": {
            "text/markdown": "#### Validation set",
            "text/plain": [
              "<IPython.core.display.Markdown object>"
            ]
          },
          "metadata": {}
        },
        {
          "output_type": "display_data",
          "data": {
            "text/markdown": "##### Raw predictions - No fairness constraints, only maximizing balanced accuracy",
            "text/plain": [
              "<IPython.core.display.Markdown object>"
            ]
          },
          "metadata": {}
        },
        {
          "output_type": "stream",
          "name": "stdout",
          "text": [
            "Accuracy:  0.7994285714285714\n",
            "privileged:  0.8018139975632869\n",
            "unprivileged:  0.7967639497958566\n",
            "Disparate Impact = 0.911531\n",
            "False positive rate difference: 0.021689\n"
          ]
        },
        {
          "output_type": "stream",
          "name": "stderr",
          "text": [
            "/usr/local/lib/python3.7/dist-packages/sklearn/base.py:444: UserWarning: X has feature names, but RandomForestClassifier was fitted without feature names\n",
            "  f\"X has feature names, but {self.__class__.__name__} was fitted without\"\n"
          ]
        },
        {
          "output_type": "display_data",
          "data": {
            "text/markdown": "#### Validation set",
            "text/plain": [
              "<IPython.core.display.Markdown object>"
            ]
          },
          "metadata": {}
        },
        {
          "output_type": "display_data",
          "data": {
            "text/markdown": "##### Raw predictions - No fairness constraints, only maximizing balanced accuracy",
            "text/plain": [
              "<IPython.core.display.Markdown object>"
            ]
          },
          "metadata": {}
        },
        {
          "output_type": "stream",
          "name": "stdout",
          "text": [
            "Accuracy:  0.8011428571428572\n",
            "privileged:  0.804920913884007\n",
            "unprivileged:  0.7969104952294411\n",
            "Disparate Impact = 0.918862\n",
            "False positive rate difference: 0.024174\n"
          ]
        },
        {
          "output_type": "stream",
          "name": "stderr",
          "text": [
            "/usr/local/lib/python3.7/dist-packages/sklearn/base.py:444: UserWarning: X has feature names, but RandomForestClassifier was fitted without feature names\n",
            "  f\"X has feature names, but {self.__class__.__name__} was fitted without\"\n"
          ]
        },
        {
          "output_type": "display_data",
          "data": {
            "text/markdown": "#### Validation set",
            "text/plain": [
              "<IPython.core.display.Markdown object>"
            ]
          },
          "metadata": {}
        },
        {
          "output_type": "display_data",
          "data": {
            "text/markdown": "##### Raw predictions - No fairness constraints, only maximizing balanced accuracy",
            "text/plain": [
              "<IPython.core.display.Markdown object>"
            ]
          },
          "metadata": {}
        },
        {
          "output_type": "stream",
          "name": "stdout",
          "text": [
            "Accuracy:  0.8057857142857143\n",
            "privileged:  0.8061034115138592\n",
            "unprivileged:  0.8054187192118226\n",
            "Disparate Impact = 0.906350\n",
            "False positive rate difference: 0.026616\n"
          ]
        },
        {
          "output_type": "stream",
          "name": "stderr",
          "text": [
            "/usr/local/lib/python3.7/dist-packages/sklearn/base.py:444: UserWarning: X has feature names, but RandomForestClassifier was fitted without feature names\n",
            "  f\"X has feature names, but {self.__class__.__name__} was fitted without\"\n"
          ]
        },
        {
          "output_type": "display_data",
          "data": {
            "text/markdown": "#### Validation set",
            "text/plain": [
              "<IPython.core.display.Markdown object>"
            ]
          },
          "metadata": {}
        },
        {
          "output_type": "display_data",
          "data": {
            "text/markdown": "##### Raw predictions - No fairness constraints, only maximizing balanced accuracy",
            "text/plain": [
              "<IPython.core.display.Markdown object>"
            ]
          },
          "metadata": {}
        },
        {
          "output_type": "stream",
          "name": "stdout",
          "text": [
            "Accuracy:  0.8013571428571429\n",
            "privileged:  0.8034993270524899\n",
            "unprivileged:  0.7989345509893455\n",
            "Disparate Impact = 0.912120\n",
            "False positive rate difference: 0.018085\n"
          ]
        },
        {
          "output_type": "stream",
          "name": "stderr",
          "text": [
            "/usr/local/lib/python3.7/dist-packages/sklearn/base.py:444: UserWarning: X has feature names, but RandomForestClassifier was fitted without feature names\n",
            "  f\"X has feature names, but {self.__class__.__name__} was fitted without\"\n"
          ]
        },
        {
          "output_type": "display_data",
          "data": {
            "text/markdown": "#### Validation set",
            "text/plain": [
              "<IPython.core.display.Markdown object>"
            ]
          },
          "metadata": {}
        },
        {
          "output_type": "display_data",
          "data": {
            "text/markdown": "##### Raw predictions - No fairness constraints, only maximizing balanced accuracy",
            "text/plain": [
              "<IPython.core.display.Markdown object>"
            ]
          },
          "metadata": {}
        },
        {
          "output_type": "stream",
          "name": "stdout",
          "text": [
            "Accuracy:  0.8020714285714285\n",
            "privileged:  0.8032293377120964\n",
            "unprivileged:  0.800806933652122\n",
            "Disparate Impact = 0.901290\n",
            "False positive rate difference: 0.012766\n"
          ]
        },
        {
          "output_type": "stream",
          "name": "stderr",
          "text": [
            "/usr/local/lib/python3.7/dist-packages/sklearn/base.py:444: UserWarning: X has feature names, but RandomForestClassifier was fitted without feature names\n",
            "  f\"X has feature names, but {self.__class__.__name__} was fitted without\"\n"
          ]
        },
        {
          "output_type": "display_data",
          "data": {
            "text/markdown": "#### Validation set",
            "text/plain": [
              "<IPython.core.display.Markdown object>"
            ]
          },
          "metadata": {}
        },
        {
          "output_type": "display_data",
          "data": {
            "text/markdown": "##### Raw predictions - No fairness constraints, only maximizing balanced accuracy",
            "text/plain": [
              "<IPython.core.display.Markdown object>"
            ]
          },
          "metadata": {}
        },
        {
          "output_type": "stream",
          "name": "stdout",
          "text": [
            "Accuracy:  0.7991428571428572\n",
            "privileged:  0.80209324452902\n",
            "unprivileged:  0.7958753575191931\n",
            "Disparate Impact = 0.918293\n",
            "False positive rate difference: 0.032997\n"
          ]
        }
      ]
    }
  ]
}